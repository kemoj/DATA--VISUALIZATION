{
 "cells": [
  {
   "cell_type": "code",
   "execution_count": 4,
   "id": "fe622415-0b37-4836-bb57-631801730c61",
   "metadata": {},
   "outputs": [],
   "source": [
    "import pandas as pd\n",
    "import numpy as np"
   ]
  },
  {
   "cell_type": "code",
   "execution_count": null,
   "id": "02955e81-3bfe-464f-81df-35362166527c",
   "metadata": {},
   "outputs": [],
   "source": [
    "m = bet\n",
    "print m()"
   ]
  },
  {
   "cell_type": "code",
   "execution_count": null,
   "id": "3ac869e2-c6f1-4e09-8b42-2a0a3f968611",
   "metadata": {},
   "outputs": [],
   "source": []
  }
 ],
 "metadata": {
  "kernelspec": {
   "display_name": "Python 3",
   "language": "python",
   "name": "python3"
  },
  "language_info": {
   "codemirror_mode": {
    "name": "ipython",
    "version": 3
   },
   "file_extension": ".py",
   "mimetype": "text/x-python",
   "name": "python",
   "nbconvert_exporter": "python",
   "pygments_lexer": "ipython3",
   "version": "3.8.8"
  }
 },
 "nbformat": 4,
 "nbformat_minor": 5
}
