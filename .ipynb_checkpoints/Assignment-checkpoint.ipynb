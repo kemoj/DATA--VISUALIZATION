{
 "cells": [
  {
   "cell_type": "code",
   "execution_count": 4,
   "id": "e753d38e-c2f9-484a-b041-8aaff0c6e222",
   "metadata": {},
   "outputs": [
    {
     "name": "stdout",
     "output_type": "stream",
     "text": [
      "[23.8]\n"
     ]
    }
   ],
   "source": [
    "#1\n",
    "a=17\n",
    "b=7\n",
    "c=5\n",
    "result=[int(a*b)/int(c)]\n",
    "print(result)"
   ]
  },
  {
   "cell_type": "code",
   "execution_count": 10,
   "id": "6b2cbd43-71aa-431b-a478-7b19a24283f0",
   "metadata": {},
   "outputs": [
    {
     "name": "stdout",
     "output_type": "stream",
     "text": [
      "100000\n"
     ]
    }
   ],
   "source": [
    "#2\n",
    "#N= no of people in US\n",
    "#s= no of US states\n",
    "#ans= average no of people per state\n",
    "N= 5000000\n",
    "s= 50\n",
    "ans= int(N/s)\n",
    "print(ans)"
   ]
  },
  {
   "cell_type": "code",
   "execution_count": null,
   "id": "f1b6cbf3-ebe4-4f18-a3c0-7840e3f891af",
   "metadata": {},
   "outputs": [],
   "source": [
    "#3\n",
    "day1= 15.5\n",
    "day2= 14.5\n",
    "total_snowfall=[int(day1+day2)/2]\n",
    "print(total_snowfall)"
   ]
  },
  {
   "cell_type": "code",
   "execution_count": 49,
   "id": "a82eaddb-d781-4512-8df0-05fcd92474d2",
   "metadata": {},
   "outputs": [
    {
     "data": {
      "text/plain": [
       "['denver=(2.1)', 'boulder=(3.2)', 'nederland=(7.7)', 'phoenix=(0)']"
      ]
     },
     "execution_count": 49,
     "metadata": {},
     "output_type": "execute_result"
    }
   ],
   "source": [
    "#4\n",
    "snowfall_list=  ['denver=(2.1)', 'boulder=(3.2)', 'nederland=(7.7)', 'phoenix=(0)']\n",
    "snowfall_list \n",
    "\n"
   ]
  },
  {
   "cell_type": "markdown",
   "id": "144744a5-e047-47f0-bc6b-2c9fda847d35",
   "metadata": {
    "jupyter": {
     "source_hidden": true
    },
    "tags": []
   },
   "source": [
    "# "
   ]
  },
  {
   "cell_type": "code",
   "execution_count": 48,
   "id": "97375d1d-4c7b-421f-857e-3e2547b4267d",
   "metadata": {},
   "outputs": [
    {
     "name": "stdout",
     "output_type": "stream",
     "text": [
      "boulder=(3.2)\n"
     ]
    }
   ],
   "source": [
    "#5\n",
    "snowfall_list = ['denver=(2.1)', 'boulder=(3.2)', 'nederland=(7.7)', 'phoenix=(0)']\n",
    "print(snowfall_list[1])\n"
   ]
  },
  {
   "cell_type": "code",
   "execution_count": 93,
   "id": "4e14c2fb-c6ab-4f25-87e3-fdc97b8801f5",
   "metadata": {},
   "outputs": [
    {
     "data": {
      "text/plain": [
       "0"
      ]
     },
     "execution_count": 93,
     "metadata": {},
     "output_type": "execute_result"
    }
   ],
   "source": [
    "#6\n",
    "cities= (\"denver\",\n",
    "         \"boulder\",\n",
    "         \"nederland\",\n",
    "         \"phoenix\"\n",
    "        )\n",
    "num_cities\n",
    "\n"
   ]
  },
  {
   "cell_type": "code",
   "execution_count": 4,
   "id": "9a1f8044-8d7c-453d-8ebd-1acbc0a5c079",
   "metadata": {},
   "outputs": [
    {
     "name": "stdout",
     "output_type": "stream",
     "text": [
      "[5, 11, 23]\n",
      "[5, 11, 23, 17]\n"
     ]
    }
   ],
   "source": [
    "#7 \n",
    "sun_index = [5,11,23]\n",
    "print(sun_index)\n",
    "sun_index.append(17)\n",
    "print(sun_index)\n",
    "\n"
   ]
  },
  {
   "cell_type": "code",
   "execution_count": 15,
   "id": "2c4b427c-fe0c-4f6c-bc88-49eee8e5badc",
   "metadata": {},
   "outputs": [
    {
     "name": "stdout",
     "output_type": "stream",
     "text": [
      "{'denver': 2.1, 'boulder': 3.2, 'nederland': 7.7, 'phoenix': 0}\n"
     ]
    }
   ],
   "source": [
    "#8\n",
    "snowfall = {'denver':(2.1), \n",
    "            'boulder':(3.2), \n",
    "            'nederland':(7.7), \n",
    "            'phoenix':(0)\n",
    "           }\n",
    "\n",
    "\n",
    "print(snowfall)\n",
    "\n"
   ]
  },
  {
   "cell_type": "code",
   "execution_count": 17,
   "id": "a652ed78-e679-4725-b2ca-53231840fee2",
   "metadata": {},
   "outputs": [
    {
     "name": "stdout",
     "output_type": "stream",
     "text": [
      "3.2\n"
     ]
    }
   ],
   "source": [
    "#9\n",
    "print(snowfall.get(\"boulder\"))\n",
    "\n"
   ]
  },
  {
   "cell_type": "code",
   "execution_count": 31,
   "id": "89632e68-544a-4d5c-b31c-d8dc2c361c83",
   "metadata": {},
   "outputs": [
    {
     "name": "stdout",
     "output_type": "stream",
     "text": [
      "7.7\n"
     ]
    }
   ],
   "source": [
    "#10\n",
    "\n",
    "print(snowfall[\"nederland\"])\n"
   ]
  },
  {
   "cell_type": "code",
   "execution_count": 32,
   "id": "bc5ed5a3-451d-409f-81e7-8547fb0b977a",
   "metadata": {},
   "outputs": [
    {
     "name": "stdout",
     "output_type": "stream",
     "text": [
      "0\n",
      "1\n",
      "2\n",
      "3\n",
      "4\n",
      "5\n",
      "6\n",
      "7\n",
      "8\n",
      "9\n"
     ]
    }
   ],
   "source": [
    "#11\n",
    "snowfall = {'denver':(2.1), \n",
    "            'boulder':(3.2), \n",
    "            'nederland':(7.7), \n",
    "            'phoenix':(0)\n",
    "           }\n",
    "\n",
    "\n",
    "snowfall= 0\n",
    "while snowfall<10:\n",
    "    print(snowfall)\n",
    "    snowfall+=1\n",
    "\n"
   ]
  },
  {
   "cell_type": "code",
   "execution_count": null,
   "id": "d31f5937-f6d7-4090-ac46-b61695d4a6c8",
   "metadata": {},
   "outputs": [],
   "source": []
  }
 ],
 "metadata": {
  "kernelspec": {
   "display_name": "Python 3",
   "language": "python",
   "name": "python3"
  },
  "language_info": {
   "codemirror_mode": {
    "name": "ipython",
    "version": 3
   },
   "file_extension": ".py",
   "mimetype": "text/x-python",
   "name": "python",
   "nbconvert_exporter": "python",
   "pygments_lexer": "ipython3",
   "version": "3.8.8"
  }
 },
 "nbformat": 4,
 "nbformat_minor": 5
}
