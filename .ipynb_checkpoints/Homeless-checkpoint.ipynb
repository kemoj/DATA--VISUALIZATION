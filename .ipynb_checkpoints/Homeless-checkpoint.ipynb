{
 "cells": [
  {
   "cell_type": "code",
   "execution_count": 2,
   "id": "dc01b072-b83f-4b51-b234-e4277130b9a9",
   "metadata": {},
   "outputs": [],
   "source": [
    "import pandas as pd"
   ]
  },
  {
   "cell_type": "code",
   "execution_count": 3,
   "id": "98afc9c8-cdef-40ef-93ac-38192a0b2cf5",
   "metadata": {},
   "outputs": [],
   "source": [
    "import numpy as np"
   ]
  },
  {
   "cell_type": "code",
   "execution_count": 4,
   "id": "8ee92464-0e60-4ae3-96d2-347a1107b84f",
   "metadata": {},
   "outputs": [],
   "source": [
    "import matplotlib.pyplot as plt"
   ]
  },
  {
   "cell_type": "code",
   "execution_count": 5,
   "id": "e4291d12-997f-4ce2-9058-4791d84ea3da",
   "metadata": {},
   "outputs": [
    {
     "name": "stdout",
     "output_type": "stream",
     "text": [
      "       Region Total Adults Male Adults Female Adults  Adults Aged 18-24  \\\n",
      "0      Dublin        4,287       2,776         1,511                708   \n",
      "1    Mid-East          318         205           113                 51   \n",
      "2    Midlands           91          60            31                 21   \n",
      "3    Mid-West          299         203            96                 31   \n",
      "4  North-East           75          59            16                  5   \n",
      "5  North-West           74          51            23                 14   \n",
      "6  South-East          193         137            56                 29   \n",
      "7  South-West          512         361           151                 65   \n",
      "8        West          282         166           116                 65   \n",
      "\n",
      "  Adults Aged 25-44 Adults Aged 45-64  Adults Aged 65+  \\\n",
      "0             2,374             1,141               64   \n",
      "1               162                96                9   \n",
      "2                49                18                3   \n",
      "3               169                93                6   \n",
      "4                44                21                5   \n",
      "5                38                21                1   \n",
      "6               110                48                6   \n",
      "7               283               145               19   \n",
      "8               128                74               15   \n",
      "\n",
      "  Number of people who accessed Private Emergency Accommodation  \\\n",
      "0                                              2,329              \n",
      "1                                                192              \n",
      "2                                                 65              \n",
      "3                                                 28              \n",
      "4                                                 12              \n",
      "5                                                 27              \n",
      "6                                                 53              \n",
      "7                                                339              \n",
      "8                                                160              \n",
      "\n",
      "  Number of people who accessed Supported Temporary Accommodation  \\\n",
      "0                                              1,997                \n",
      "1                                                112                \n",
      "2                                                  0                \n",
      "3                                                240                \n",
      "4                                                 54                \n",
      "5                                                 32                \n",
      "6                                                140                \n",
      "7                                                179                \n",
      "8                                                122                \n",
      "\n",
      "   Number of people who accessed Temporary Emergency Accommodation  \\\n",
      "0                                                 39                 \n",
      "1                                                  3                 \n",
      "2                                                 26                 \n",
      "3                                                 31                 \n",
      "4                                                  8                 \n",
      "5                                                 15                 \n",
      "6                                                  0                 \n",
      "7                                                  0                 \n",
      "8                                                  0                 \n",
      "\n",
      "   Number of people who accessed Other Accommodation  Number of Families  \\\n",
      "0                                                  0                 752   \n",
      "1                                                 11                  52   \n",
      "2                                                  0                   6   \n",
      "3                                                  0                  32   \n",
      "4                                                  1                   9   \n",
      "5                                                  0                   8   \n",
      "6                                                  0                  18   \n",
      "7                                                  0                  60   \n",
      "8                                                  0                  68   \n",
      "\n",
      "  Number of Adults in Families Number of Child Dependants in Families  \n",
      "0                        1,268                                  1,806  \n",
      "1                           84                                    104  \n",
      "2                            7                                     11  \n",
      "3                           44                                     52  \n",
      "4                           11                                     20  \n",
      "5                            9                                     12  \n",
      "6                           24                                     39  \n",
      "7                           76                                    122  \n",
      "8                          104                                    178  \n"
     ]
    }
   ],
   "source": [
    "Homeless= pd.read_csv(\"Home.csv\")\n",
    "print(Homeless)"
   ]
  },
  {
   "cell_type": "code",
   "execution_count": 6,
   "id": "edd10734-6584-4d1f-bbcb-323e9a9d13b3",
   "metadata": {},
   "outputs": [
    {
     "name": "stdout",
     "output_type": "stream",
     "text": [
      "0    4,287\n",
      "1      318\n",
      "2       91\n",
      "3      299\n",
      "4       75\n",
      "5       74\n",
      "6      193\n",
      "7      512\n",
      "8      282\n",
      "Name: Total Adults, dtype: object\n"
     ]
    }
   ],
   "source": [
    "TA= Homeless[\"Total Adults\"]\n",
    "print(TA)"
   ]
  },
  {
   "cell_type": "code",
   "execution_count": 8,
   "id": "cdfca199-1ab1-47c8-8df6-7f1971b3dc2d",
   "metadata": {},
   "outputs": [
    {
     "data": {
      "text/plain": [
       "Adults Aged 18-24                                                  109.888889\n",
       "Adults Aged 65+                                                     14.222222\n",
       "Number of people who accessed Temporary Emergency Accommodation     13.555556\n",
       "Number of people who accessed Other Accommodation                    1.333333\n",
       "Number of Families                                                 111.666667\n",
       "dtype: float64"
      ]
     },
     "execution_count": 8,
     "metadata": {},
     "output_type": "execute_result"
    }
   ],
   "source": [
    "Homeless.mean()"
   ]
  },
  {
   "cell_type": "code",
   "execution_count": 10,
   "id": "8ab26a1e-feb0-44e6-b15d-12c446ce757a",
   "metadata": {},
   "outputs": [
    {
     "data": {
      "text/html": [
       "<div>\n",
       "<style scoped>\n",
       "    .dataframe tbody tr th:only-of-type {\n",
       "        vertical-align: middle;\n",
       "    }\n",
       "\n",
       "    .dataframe tbody tr th {\n",
       "        vertical-align: top;\n",
       "    }\n",
       "\n",
       "    .dataframe thead th {\n",
       "        text-align: right;\n",
       "    }\n",
       "</style>\n",
       "<table border=\"1\" class=\"dataframe\">\n",
       "  <thead>\n",
       "    <tr style=\"text-align: right;\">\n",
       "      <th></th>\n",
       "      <th>Adults Aged 18-24</th>\n",
       "      <th>Adults Aged 65+</th>\n",
       "      <th>Number of people who accessed Temporary Emergency Accommodation</th>\n",
       "      <th>Number of people who accessed Other Accommodation</th>\n",
       "      <th>Number of Families</th>\n",
       "    </tr>\n",
       "  </thead>\n",
       "  <tbody>\n",
       "    <tr>\n",
       "      <th>count</th>\n",
       "      <td>9.000000</td>\n",
       "      <td>9.000000</td>\n",
       "      <td>9.000000</td>\n",
       "      <td>9.000000</td>\n",
       "      <td>9.000000</td>\n",
       "    </tr>\n",
       "    <tr>\n",
       "      <th>mean</th>\n",
       "      <td>109.888889</td>\n",
       "      <td>14.222222</td>\n",
       "      <td>13.555556</td>\n",
       "      <td>1.333333</td>\n",
       "      <td>111.666667</td>\n",
       "    </tr>\n",
       "    <tr>\n",
       "      <th>std</th>\n",
       "      <td>225.305040</td>\n",
       "      <td>19.524202</td>\n",
       "      <td>15.009256</td>\n",
       "      <td>3.640055</td>\n",
       "      <td>241.281993</td>\n",
       "    </tr>\n",
       "    <tr>\n",
       "      <th>min</th>\n",
       "      <td>5.000000</td>\n",
       "      <td>1.000000</td>\n",
       "      <td>0.000000</td>\n",
       "      <td>0.000000</td>\n",
       "      <td>6.000000</td>\n",
       "    </tr>\n",
       "    <tr>\n",
       "      <th>25%</th>\n",
       "      <td>21.000000</td>\n",
       "      <td>5.000000</td>\n",
       "      <td>0.000000</td>\n",
       "      <td>0.000000</td>\n",
       "      <td>9.000000</td>\n",
       "    </tr>\n",
       "    <tr>\n",
       "      <th>50%</th>\n",
       "      <td>31.000000</td>\n",
       "      <td>6.000000</td>\n",
       "      <td>8.000000</td>\n",
       "      <td>0.000000</td>\n",
       "      <td>32.000000</td>\n",
       "    </tr>\n",
       "    <tr>\n",
       "      <th>75%</th>\n",
       "      <td>65.000000</td>\n",
       "      <td>15.000000</td>\n",
       "      <td>26.000000</td>\n",
       "      <td>0.000000</td>\n",
       "      <td>60.000000</td>\n",
       "    </tr>\n",
       "    <tr>\n",
       "      <th>max</th>\n",
       "      <td>708.000000</td>\n",
       "      <td>64.000000</td>\n",
       "      <td>39.000000</td>\n",
       "      <td>11.000000</td>\n",
       "      <td>752.000000</td>\n",
       "    </tr>\n",
       "  </tbody>\n",
       "</table>\n",
       "</div>"
      ],
      "text/plain": [
       "       Adults Aged 18-24  Adults Aged 65+  \\\n",
       "count           9.000000         9.000000   \n",
       "mean          109.888889        14.222222   \n",
       "std           225.305040        19.524202   \n",
       "min             5.000000         1.000000   \n",
       "25%            21.000000         5.000000   \n",
       "50%            31.000000         6.000000   \n",
       "75%            65.000000        15.000000   \n",
       "max           708.000000        64.000000   \n",
       "\n",
       "       Number of people who accessed Temporary Emergency Accommodation  \\\n",
       "count                                           9.000000                 \n",
       "mean                                           13.555556                 \n",
       "std                                            15.009256                 \n",
       "min                                             0.000000                 \n",
       "25%                                             0.000000                 \n",
       "50%                                             8.000000                 \n",
       "75%                                            26.000000                 \n",
       "max                                            39.000000                 \n",
       "\n",
       "       Number of people who accessed Other Accommodation  Number of Families  \n",
       "count                                           9.000000            9.000000  \n",
       "mean                                            1.333333          111.666667  \n",
       "std                                             3.640055          241.281993  \n",
       "min                                             0.000000            6.000000  \n",
       "25%                                             0.000000            9.000000  \n",
       "50%                                             0.000000           32.000000  \n",
       "75%                                             0.000000           60.000000  \n",
       "max                                            11.000000          752.000000  "
      ]
     },
     "execution_count": 10,
     "metadata": {},
     "output_type": "execute_result"
    }
   ],
   "source": [
    "Homeless.describe()"
   ]
  },
  {
   "cell_type": "code",
   "execution_count": 11,
   "id": "2da6eafb-bae9-439b-be8d-320ac7f94dae",
   "metadata": {},
   "outputs": [
    {
     "data": {
      "text/plain": [
       "Adults Aged 18-24                                                  31.0\n",
       "Adults Aged 65+                                                     6.0\n",
       "Number of people who accessed Temporary Emergency Accommodation     8.0\n",
       "Number of people who accessed Other Accommodation                   0.0\n",
       "Number of Families                                                 32.0\n",
       "dtype: float64"
      ]
     },
     "execution_count": 11,
     "metadata": {},
     "output_type": "execute_result"
    }
   ],
   "source": [
    "Homeless.median()"
   ]
  },
  {
   "cell_type": "code",
   "execution_count": 9,
   "id": "f9210c64-072b-4485-8f2f-a80c7a9dcd22",
   "metadata": {},
   "outputs": [
    {
     "name": "stdout",
     "output_type": "stream",
     "text": [
      "(4287, 318, 91, 299, 75, 74, 193, 512, 282)\n"
     ]
    }
   ],
   "source": [
    "Tad=(4287,318,91,299,75,74,193,512,282)\n",
    "print(Tad)"
   ]
  },
  {
   "cell_type": "code",
   "execution_count": 10,
   "id": "2440e5fa-cde9-492b-a6a7-617813ea6fde",
   "metadata": {},
   "outputs": [
    {
     "name": "stdout",
     "output_type": "stream",
     "text": [
      "0        Dublin\n",
      "1      Mid-East\n",
      "2      Midlands\n",
      "3      Mid-West\n",
      "4    North-East\n",
      "5    North-West\n",
      "6    South-East\n",
      "7    South-West\n",
      "8          West\n",
      "Name: Region, dtype: object\n"
     ]
    }
   ],
   "source": [
    "Region=Homeless[\"Region\"]\n",
    "print(Region)"
   ]
  },
  {
   "cell_type": "code",
   "execution_count": 39,
   "id": "4606133a-751d-489e-8f40-49d9aec58f3e",
   "metadata": {},
   "outputs": [
    {
     "data": {
      "image/png": "[encoded data removed]",
      "text/plain": [
       "<Figure size 720x576 with 1 Axes>"
      ]
     },
     "metadata": {
      "needs_background": "light"
     },
     "output_type": "display_data"
    }
   ],
   "source": [
    "#Bar chart representing Homeless families report\n",
    "plt.figure(figsize=(10,8))\n",
    "plt.bar(Region,Tad)\n",
    "plt.xlabel(\"Tad\")\n",
    "plt.ylabel(\"Region\")\n",
    "plt.title(\"A chart showing number of homeless families in September 2021\")\n",
    "plt.grid()\n",
    "plt.show()\n"
   ]
  },
  {
   "cell_type": "code",
   "execution_count": null,
   "id": "aa6be94c-b0c4-40d7-978c-0ead59f07b9d",
   "metadata": {},
   "outputs": [],
   "source": []
  },
  {
   "cell_type": "code",
   "execution_count": 38,
   "id": "9d36ced9-0cf7-415e-8a64-1878acaaf8eb",
   "metadata": {},
   "outputs": [
    {
     "data": {
      "image/png": "[encoded data removed]",
      "text/plain": [
       "<Figure size 720x432 with 1 Axes>"
      ]
     },
     "metadata": {
      "needs_background": "light"
     },
     "output_type": "display_data"
    }
   ],
   "source": [
    "#Bar chart representing Homeless families report\n",
    "plt.figure(figsize=(10,6))\n",
    "plt.barh(Region,Tad)\n",
    "plt.xlabel(\"Tad\")\n",
    "plt.ylabel(\"Region\")\n",
    "plt.title(\"A chart showing number of homeless families in September 2021\")\n",
    "plt.grid()\n",
    "plt.show()\n"
   ]
  },
  {
   "cell_type": "code",
   "execution_count": 70,
   "id": "54de2735-55cc-44ea-9635-a128a9c0c949",
   "metadata": {},
   "outputs": [
    {
     "data": {
      "image/png": "[encoded data removed]",
      "text/plain": [
       "<Figure size 432x288 with 1 Axes>"
      ]
     },
     "metadata": {},
     "output_type": "display_data"
    }
   ],
   "source": [
    "#pie chart\n",
    "Colours=[\"grey\",\"blue\",\"yellow\",\"red\",\"green\",\"magenta\",\"black\",\"white\",\"purple\",\"blue\"]\n",
    "plt.pie(Tad, labels=Region, startangle=45, colors=Colours)\n",
    "plt.title(\"A graph of Homeless families report\")\n",
    "plt.show()"
   ]
  },
  {
   "cell_type": "code",
   "execution_count": 77,
   "id": "4a144915-ffd1-4946-9b18-681b316227d3",
   "metadata": {},
   "outputs": [
    {
     "data": {
      "image/png": "[encoded data removed]",
      "text/plain": [
       "<Figure size 432x288 with 1 Axes>"
      ]
     },
     "metadata": {},
     "output_type": "display_data"
    }
   ],
   "source": [
    "#pie chart\n",
    "plt.pie(Tad, labels=Region, startangle=360)\n",
    "plt.title(\"A graph of Homeless families report\")\n",
    "plt.show()"
   ]
  },
  {
   "cell_type": "code",
   "execution_count": null,
   "id": "4c70cefd-b586-41d4-b312-1dbc5d1ac6b9",
   "metadata": {},
   "outputs": [],
   "source": [
    "Real Estate Investment decision making taking Ireland as a case study considering her level of homelessness.\n",
    "Homelessness means lack of stable and appropriate housing, homeless people live on \n",
    "\n",
    "Ireland is ranked 12th out of 16 countries in England when it comes to shortage of jobs\n",
    "Causes of Homelessness in Ireland \n",
    "*Lack of affordabe housing\n",
    "*Shortage of Jobs\n",
    "*Poverty\n",
    "*Racial inequality\n",
    "*Natural disaster\n",
    "\n",
    "\n",
    "\n",
    "Dublin has the highest number of homeless people\n",
    "followed by southwest\n",
    "Mid East and Mid west have a tie\n",
    "West\n",
    "Southeast\n",
    "Midlands\n",
    "Northeast and Northwest have have close statistics\n",
    "\n",
    "Database has more of Adult male\n",
    "Most female are single parents\n",
    "Most kids are with families\n",
    "Homelessnes starts from middle age, even as they work and grow the percentage decreases,\n",
    "meaning what they actually need aren't houses but jobs\n",
    "\n",
    "There are houses and alternative houses but the major issue here is money and affordable housing.\n",
    "finally, as an experienced investment data analyst, I implore you to invest in businesses that provides jobs \n",
    "for people(especially the agile middle aged) alongside your real estate business, \n",
    "uncommon businesses in ireland are \n",
    "\n",
    "Food and Beverage\n",
    "Agriculture\n",
    "Clothing/Fashion\n",
    "Construction and Real estate\n",
    "\n",
    "rather than build to sell, \n",
    "you can build to rent out at a subsidized rate.\n",
    "\n"
   ]
  }
 ],
 "metadata": {
  "kernelspec": {
   "display_name": "Python 3",
   "language": "python",
   "name": "python3"
  },
  "language_info": {
   "codemirror_mode": {
    "name": "ipython",
    "version": 3
   },
   "file_extension": ".py",
   "mimetype": "text/x-python",
   "name": "python",
   "nbconvert_exporter": "python",
   "pygments_lexer": "ipython3",
   "version": "3.8.8"
  }
 },
 "nbformat": 4,
 "nbformat_minor": 5
}
