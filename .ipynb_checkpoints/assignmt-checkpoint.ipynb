{
 "cells": [
  {
   "cell_type": "code",
   "execution_count": 2,
   "id": "d118f85c-38c9-4750-baa0-cd38bc7401d0",
   "metadata": {},
   "outputs": [
    {
     "name": "stdout",
     "output_type": "stream",
     "text": [
      "            date                    cmname        unit            category  \\\n",
      "0          #date                #item+name  #item+unit          #item+type   \n",
      "1      1/15/2015            Bread - Retail        Unit  cereals and tubers   \n",
      "2      2/15/2015            Bread - Retail        Unit  cereals and tubers   \n",
      "3      3/15/2015            Bread - Retail        Unit  cereals and tubers   \n",
      "4      4/15/2015            Bread - Retail        Unit  cereals and tubers   \n",
      "...          ...                       ...         ...                 ...   \n",
      "13273  2/15/2018  Gari (white) - Wholesale      100 KG  cereals and tubers   \n",
      "13274  3/15/2018  Gari (white) - Wholesale      100 KG  cereals and tubers   \n",
      "13275  4/15/2018  Gari (white) - Wholesale      100 KG  cereals and tubers   \n",
      "13276  5/15/2018  Gari (white) - Wholesale      100 KG  cereals and tubers   \n",
      "13277  1/15/2018     Gari (white) - Retail          KG  cereals and tubers   \n",
      "\n",
      "         price   currency        country     admname      adm1id  \\\n",
      "0       #value  #currency  #country+name  #adm1+name  #adm1+code   \n",
      "1          140        NGN        Nigeria     Adamawa        2211   \n",
      "2          140        NGN        Nigeria     Adamawa        2211   \n",
      "3          140        NGN        Nigeria     Adamawa        2211   \n",
      "4          140        NGN        Nigeria     Adamawa        2211   \n",
      "...        ...        ...            ...         ...         ...   \n",
      "13273     9880        NGN        Nigeria     Zamfara       65710   \n",
      "13274    11310        NGN        Nigeria     Zamfara       65710   \n",
      "13275    12110        NGN        Nigeria     Zamfara       65710   \n",
      "13276    11148        NGN        Nigeria     Zamfara       65710   \n",
      "13277  165.913        NGN        Nigeria     Zamfara       65710   \n",
      "\n",
      "            mktname   mktid        cmid  ptid  umid            catid  \\\n",
      "0      #name+market     NaN  #item+code   NaN   NaN  #item+type+code   \n",
      "1              Mubi  1980.0          55  15.0  33.0                1   \n",
      "2              Mubi  1980.0          55  15.0  33.0                1   \n",
      "3              Mubi  1980.0          55  15.0  33.0                1   \n",
      "4              Mubi  1980.0          55  15.0  33.0                1   \n",
      "...             ...     ...         ...   ...   ...              ...   \n",
      "13273  Kaura Namoda  1977.0         483  14.0   9.0                1   \n",
      "13274  Kaura Namoda  1977.0         483  14.0   9.0                1   \n",
      "13275  Kaura Namoda  1977.0         483  14.0   9.0                1   \n",
      "13276  Kaura Namoda  1977.0         483  14.0   9.0                1   \n",
      "13277  Kaura Namoda  1977.0         483  15.0   5.0                1   \n",
      "\n",
      "                  sn  default  \n",
      "0           #meta+id      NaN  \n",
      "1      1980_55_15_33      NaN  \n",
      "2      1980_55_15_33      NaN  \n",
      "3      1980_55_15_33      NaN  \n",
      "4      1980_55_15_33      NaN  \n",
      "...              ...      ...  \n",
      "13273  1977_483_14_9      NaN  \n",
      "13274  1977_483_14_9      NaN  \n",
      "13275  1977_483_14_9      NaN  \n",
      "13276  1977_483_14_9      NaN  \n",
      "13277  1977_483_15_5      NaN  \n",
      "\n",
      "[13278 rows x 17 columns]\n"
     ]
    }
   ],
   "source": [
    "import pandas as pd\n",
    "import numpy as np\n",
    "\n",
    "nfp= pd.read_csv(\"C:/Users/HP/Desktop/nfp.csv\")\n",
    "print(nfp)"
   ]
  },
  {
   "cell_type": "code",
   "execution_count": 13,
   "id": "ff97e4e5-335b-4c00-9f39-d96d7e1fcbcd",
   "metadata": {},
   "outputs": [
    {
     "data": {
      "text/html": [
       "<div>\n",
       "<style scoped>\n",
       "    .dataframe tbody tr th:only-of-type {\n",
       "        vertical-align: middle;\n",
       "    }\n",
       "\n",
       "    .dataframe tbody tr th {\n",
       "        vertical-align: top;\n",
       "    }\n",
       "\n",
       "    .dataframe thead th {\n",
       "        text-align: right;\n",
       "    }\n",
       "</style>\n",
       "<table border=\"1\" class=\"dataframe\">\n",
       "  <thead>\n",
       "    <tr style=\"text-align: right;\">\n",
       "      <th></th>\n",
       "      <th>date</th>\n",
       "      <th>cmname</th>\n",
       "      <th>unit</th>\n",
       "      <th>category</th>\n",
       "      <th>price</th>\n",
       "      <th>currency</th>\n",
       "      <th>country</th>\n",
       "      <th>admname</th>\n",
       "      <th>adm1id</th>\n",
       "      <th>mktname</th>\n",
       "      <th>mktid</th>\n",
       "      <th>cmid</th>\n",
       "      <th>ptid</th>\n",
       "      <th>umid</th>\n",
       "      <th>catid</th>\n",
       "      <th>sn</th>\n",
       "      <th>default</th>\n",
       "    </tr>\n",
       "  </thead>\n",
       "  <tbody>\n",
       "    <tr>\n",
       "      <th>0</th>\n",
       "      <td>#date</td>\n",
       "      <td>#item+name</td>\n",
       "      <td>#item+unit</td>\n",
       "      <td>#item+type</td>\n",
       "      <td>#value</td>\n",
       "      <td>#currency</td>\n",
       "      <td>#country+name</td>\n",
       "      <td>#adm1+name</td>\n",
       "      <td>#adm1+code</td>\n",
       "      <td>#name+market</td>\n",
       "      <td>NaN</td>\n",
       "      <td>#item+code</td>\n",
       "      <td>NaN</td>\n",
       "      <td>NaN</td>\n",
       "      <td>#item+type+code</td>\n",
       "      <td>#meta+id</td>\n",
       "      <td>NaN</td>\n",
       "    </tr>\n",
       "    <tr>\n",
       "      <th>1</th>\n",
       "      <td>1/15/2015</td>\n",
       "      <td>Bread - Retail</td>\n",
       "      <td>Unit</td>\n",
       "      <td>cereals and tubers</td>\n",
       "      <td>140</td>\n",
       "      <td>NGN</td>\n",
       "      <td>Nigeria</td>\n",
       "      <td>Adamawa</td>\n",
       "      <td>2211</td>\n",
       "      <td>Mubi</td>\n",
       "      <td>1980.0</td>\n",
       "      <td>55</td>\n",
       "      <td>15.0</td>\n",
       "      <td>33.0</td>\n",
       "      <td>1</td>\n",
       "      <td>1980_55_15_33</td>\n",
       "      <td>NaN</td>\n",
       "    </tr>\n",
       "    <tr>\n",
       "      <th>2</th>\n",
       "      <td>2/15/2015</td>\n",
       "      <td>Bread - Retail</td>\n",
       "      <td>Unit</td>\n",
       "      <td>cereals and tubers</td>\n",
       "      <td>140</td>\n",
       "      <td>NGN</td>\n",
       "      <td>Nigeria</td>\n",
       "      <td>Adamawa</td>\n",
       "      <td>2211</td>\n",
       "      <td>Mubi</td>\n",
       "      <td>1980.0</td>\n",
       "      <td>55</td>\n",
       "      <td>15.0</td>\n",
       "      <td>33.0</td>\n",
       "      <td>1</td>\n",
       "      <td>1980_55_15_33</td>\n",
       "      <td>NaN</td>\n",
       "    </tr>\n",
       "    <tr>\n",
       "      <th>3</th>\n",
       "      <td>3/15/2015</td>\n",
       "      <td>Bread - Retail</td>\n",
       "      <td>Unit</td>\n",
       "      <td>cereals and tubers</td>\n",
       "      <td>140</td>\n",
       "      <td>NGN</td>\n",
       "      <td>Nigeria</td>\n",
       "      <td>Adamawa</td>\n",
       "      <td>2211</td>\n",
       "      <td>Mubi</td>\n",
       "      <td>1980.0</td>\n",
       "      <td>55</td>\n",
       "      <td>15.0</td>\n",
       "      <td>33.0</td>\n",
       "      <td>1</td>\n",
       "      <td>1980_55_15_33</td>\n",
       "      <td>NaN</td>\n",
       "    </tr>\n",
       "    <tr>\n",
       "      <th>4</th>\n",
       "      <td>4/15/2015</td>\n",
       "      <td>Bread - Retail</td>\n",
       "      <td>Unit</td>\n",
       "      <td>cereals and tubers</td>\n",
       "      <td>140</td>\n",
       "      <td>NGN</td>\n",
       "      <td>Nigeria</td>\n",
       "      <td>Adamawa</td>\n",
       "      <td>2211</td>\n",
       "      <td>Mubi</td>\n",
       "      <td>1980.0</td>\n",
       "      <td>55</td>\n",
       "      <td>15.0</td>\n",
       "      <td>33.0</td>\n",
       "      <td>1</td>\n",
       "      <td>1980_55_15_33</td>\n",
       "      <td>NaN</td>\n",
       "    </tr>\n",
       "  </tbody>\n",
       "</table>\n",
       "</div>"
      ],
      "text/plain": [
       "        date          cmname        unit            category   price  \\\n",
       "0      #date      #item+name  #item+unit          #item+type  #value   \n",
       "1  1/15/2015  Bread - Retail        Unit  cereals and tubers     140   \n",
       "2  2/15/2015  Bread - Retail        Unit  cereals and tubers     140   \n",
       "3  3/15/2015  Bread - Retail        Unit  cereals and tubers     140   \n",
       "4  4/15/2015  Bread - Retail        Unit  cereals and tubers     140   \n",
       "\n",
       "    currency        country     admname      adm1id       mktname   mktid  \\\n",
       "0  #currency  #country+name  #adm1+name  #adm1+code  #name+market     NaN   \n",
       "1        NGN        Nigeria     Adamawa        2211          Mubi  1980.0   \n",
       "2        NGN        Nigeria     Adamawa        2211          Mubi  1980.0   \n",
       "3        NGN        Nigeria     Adamawa        2211          Mubi  1980.0   \n",
       "4        NGN        Nigeria     Adamawa        2211          Mubi  1980.0   \n",
       "\n",
       "         cmid  ptid  umid            catid             sn  default  \n",
       "0  #item+code   NaN   NaN  #item+type+code       #meta+id      NaN  \n",
       "1          55  15.0  33.0                1  1980_55_15_33      NaN  \n",
       "2          55  15.0  33.0                1  1980_55_15_33      NaN  \n",
       "3          55  15.0  33.0                1  1980_55_15_33      NaN  \n",
       "4          55  15.0  33.0                1  1980_55_15_33      NaN  "
      ]
     },
     "execution_count": 13,
     "metadata": {},
     "output_type": "execute_result"
    }
   ],
   "source": [
    "nfp.iloc[0:5] #slicing rows"
   ]
  },
  {
   "cell_type": "code",
   "execution_count": 3,
   "id": "82a2f75b-a680-4326-a2ef-6b6d540ad2c5",
   "metadata": {},
   "outputs": [
    {
     "data": {
      "text/plain": [
       "mktid      1806.855238\n",
       "ptid         14.204112\n",
       "umid         10.795285\n",
       "default            NaN\n",
       "dtype: float64"
      ]
     },
     "execution_count": 3,
     "metadata": {},
     "output_type": "execute_result"
    }
   ],
   "source": [
    "nfp.mean()"
   ]
  },
  {
   "cell_type": "code",
   "execution_count": 6,
   "id": "6d4d8763-9b00-4bb3-8daf-68dd9275d318",
   "metadata": {},
   "outputs": [
    {
     "data": {
      "text/plain": [
       "mktid      1973.0\n",
       "ptid         14.0\n",
       "umid          9.0\n",
       "default       NaN\n",
       "dtype: float64"
      ]
     },
     "execution_count": 6,
     "metadata": {},
     "output_type": "execute_result"
    }
   ],
   "source": [
    "nfp.median()"
   ]
  },
  {
   "cell_type": "code",
   "execution_count": 7,
   "id": "84043a46-b246-4f80-b952-f10d5ecdc93f",
   "metadata": {},
   "outputs": [
    {
     "data": {
      "text/plain": [
       "mktid      359.119949\n",
       "ptid         0.403067\n",
       "umid         6.515444\n",
       "default           NaN\n",
       "dtype: float64"
      ]
     },
     "execution_count": 7,
     "metadata": {},
     "output_type": "execute_result"
    }
   ],
   "source": [
    "nfp.std()"
   ]
  },
  {
   "cell_type": "code",
   "execution_count": 8,
   "id": "bd6dcada-3743-4edd-9018-e41c9dc9f2d1",
   "metadata": {},
   "outputs": [
    {
     "data": {
      "text/html": [
       "<div>\n",
       "<style scoped>\n",
       "    .dataframe tbody tr th:only-of-type {\n",
       "        vertical-align: middle;\n",
       "    }\n",
       "\n",
       "    .dataframe tbody tr th {\n",
       "        vertical-align: top;\n",
       "    }\n",
       "\n",
       "    .dataframe thead th {\n",
       "        text-align: right;\n",
       "    }\n",
       "</style>\n",
       "<table border=\"1\" class=\"dataframe\">\n",
       "  <thead>\n",
       "    <tr style=\"text-align: right;\">\n",
       "      <th></th>\n",
       "      <th>mktid</th>\n",
       "      <th>ptid</th>\n",
       "      <th>umid</th>\n",
       "      <th>default</th>\n",
       "    </tr>\n",
       "  </thead>\n",
       "  <tbody>\n",
       "    <tr>\n",
       "      <th>count</th>\n",
       "      <td>13277.000000</td>\n",
       "      <td>13277.000000</td>\n",
       "      <td>13277.000000</td>\n",
       "      <td>0.0</td>\n",
       "    </tr>\n",
       "    <tr>\n",
       "      <th>mean</th>\n",
       "      <td>1806.855238</td>\n",
       "      <td>14.204112</td>\n",
       "      <td>10.795285</td>\n",
       "      <td>NaN</td>\n",
       "    </tr>\n",
       "    <tr>\n",
       "      <th>std</th>\n",
       "      <td>359.119949</td>\n",
       "      <td>0.403067</td>\n",
       "      <td>6.515444</td>\n",
       "      <td>NaN</td>\n",
       "    </tr>\n",
       "    <tr>\n",
       "      <th>min</th>\n",
       "      <td>1037.000000</td>\n",
       "      <td>14.000000</td>\n",
       "      <td>5.000000</td>\n",
       "      <td>NaN</td>\n",
       "    </tr>\n",
       "    <tr>\n",
       "      <th>25%</th>\n",
       "      <td>1969.000000</td>\n",
       "      <td>14.000000</td>\n",
       "      <td>9.000000</td>\n",
       "      <td>NaN</td>\n",
       "    </tr>\n",
       "    <tr>\n",
       "      <th>50%</th>\n",
       "      <td>1973.000000</td>\n",
       "      <td>14.000000</td>\n",
       "      <td>9.000000</td>\n",
       "      <td>NaN</td>\n",
       "    </tr>\n",
       "    <tr>\n",
       "      <th>75%</th>\n",
       "      <td>1977.000000</td>\n",
       "      <td>14.000000</td>\n",
       "      <td>9.000000</td>\n",
       "      <td>NaN</td>\n",
       "    </tr>\n",
       "    <tr>\n",
       "      <th>max</th>\n",
       "      <td>1982.000000</td>\n",
       "      <td>15.000000</td>\n",
       "      <td>33.000000</td>\n",
       "      <td>NaN</td>\n",
       "    </tr>\n",
       "  </tbody>\n",
       "</table>\n",
       "</div>"
      ],
      "text/plain": [
       "              mktid          ptid          umid  default\n",
       "count  13277.000000  13277.000000  13277.000000      0.0\n",
       "mean    1806.855238     14.204112     10.795285      NaN\n",
       "std      359.119949      0.403067      6.515444      NaN\n",
       "min     1037.000000     14.000000      5.000000      NaN\n",
       "25%     1969.000000     14.000000      9.000000      NaN\n",
       "50%     1973.000000     14.000000      9.000000      NaN\n",
       "75%     1977.000000     14.000000      9.000000      NaN\n",
       "max     1982.000000     15.000000     33.000000      NaN"
      ]
     },
     "execution_count": 8,
     "metadata": {},
     "output_type": "execute_result"
    }
   ],
   "source": [
    "nfp.describe()"
   ]
  },
  {
   "cell_type": "code",
   "execution_count": 9,
   "id": "9a7b7e16-b6fd-4ecd-938a-14972564908a",
   "metadata": {},
   "outputs": [
    {
     "data": {
      "text/plain": [
       "date        #date1/15/20152/15/20153/15/20154/15/20155/15/...\n",
       "cmname      #item+nameBread - RetailBread - RetailBread - ...\n",
       "unit        #item+unitUnitUnitUnitUnitUnitUnitUnitUnitUnit...\n",
       "category    #item+typecereals and tuberscereals and tubers...\n",
       "price       #value1401401401401401401401401401401402202202...\n",
       "currency    #currencyNGNNGNNGNNGNNGNNGNNGNNGNNGNNGNNGNNGNN...\n",
       "country     #country+nameNigeriaNigeriaNigeriaNigeriaNiger...\n",
       "admname     #adm1+nameAdamawaAdamawaAdamawaAdamawaAdamawaA...\n",
       "adm1id      #adm1+code221122112211221122112211221122112211...\n",
       "mktname     #name+marketMubiMubiMubiMubiMubiMubiMubiMubiMu...\n",
       "mktid                                              23989617.0\n",
       "cmid        #item+code555555555555555555555555555555555555...\n",
       "ptid                                                 188588.0\n",
       "umid                                                 143329.0\n",
       "catid       #item+type+code1111111111111111111111111111111...\n",
       "sn          #meta+id1980_55_15_331980_55_15_331980_55_15_3...\n",
       "default                                                   0.0\n",
       "dtype: object"
      ]
     },
     "execution_count": 9,
     "metadata": {},
     "output_type": "execute_result"
    }
   ],
   "source": [
    "nfp.sum()"
   ]
  },
  {
   "cell_type": "code",
   "execution_count": 10,
   "id": "dd06891f-7092-44e0-b9e7-7857e42412ed",
   "metadata": {},
   "outputs": [
    {
     "data": {
      "text/plain": [
       "mktid      359.119949\n",
       "ptid         0.403067\n",
       "umid         6.515444\n",
       "default           NaN\n",
       "dtype: float64"
      ]
     },
     "execution_count": 10,
     "metadata": {},
     "output_type": "execute_result"
    }
   ],
   "source": [
    "nfp.std()"
   ]
  },
  {
   "cell_type": "code",
   "execution_count": 11,
   "id": "2cf36d5b-a954-4814-a579-fb7d5dbf453c",
   "metadata": {},
   "outputs": [
    {
     "data": {
      "text/plain": [
       "date                  #date\n",
       "cmname           #item+name\n",
       "unit             #item+unit\n",
       "category         #item+type\n",
       "price                #value\n",
       "currency          #currency\n",
       "country       #country+name\n",
       "admname          #adm1+name\n",
       "adm1id           #adm1+code\n",
       "mktname        #name+market\n",
       "mktid                1037.0\n",
       "cmid             #item+code\n",
       "ptid                   14.0\n",
       "umid                    5.0\n",
       "catid       #item+type+code\n",
       "sn                 #meta+id\n",
       "default                 NaN\n",
       "dtype: object"
      ]
     },
     "execution_count": 11,
     "metadata": {},
     "output_type": "execute_result"
    }
   ],
   "source": [
    "nfp.min()"
   ]
  },
  {
   "cell_type": "code",
   "execution_count": 12,
   "id": "f66b5700-ec0c-45ce-9090-ae88b89f1170",
   "metadata": {},
   "outputs": [
    {
     "data": {
      "text/plain": [
       "date              9/15/2017\n",
       "cmname      Yam - Wholesale\n",
       "unit                   Unit\n",
       "category    pulses and nuts\n",
       "price                  9985\n",
       "currency                NGN\n",
       "country             Nigeria\n",
       "admname             Zamfara\n",
       "adm1id                65710\n",
       "mktname            Saminaka\n",
       "mktid                1982.0\n",
       "cmid                     99\n",
       "ptid                   15.0\n",
       "umid                   33.0\n",
       "catid                     8\n",
       "sn             1982_99_15_5\n",
       "default                 NaN\n",
       "dtype: object"
      ]
     },
     "execution_count": 12,
     "metadata": {},
     "output_type": "execute_result"
    }
   ],
   "source": [
    "nfp.max()"
   ]
  },
  {
   "cell_type": "code",
   "execution_count": 13,
   "id": "1b70fe58-a2e9-447d-829d-687123b566ee",
   "metadata": {},
   "outputs": [
    {
     "name": "stderr",
     "output_type": "stream",
     "text": [
      "C:\\Users\\HP\\anaconda3\\lib\\site-packages\\numpy\\core\\_methods.py:51: RuntimeWarning: overflow encountered in reduce\n",
      "  return umr_prod(a, axis, dtype, out, keepdims, initial, where)\n"
     ]
    },
    {
     "data": {
      "text/plain": [
       "mktid      inf\n",
       "ptid       inf\n",
       "umid       inf\n",
       "default    1.0\n",
       "dtype: float64"
      ]
     },
     "execution_count": 13,
     "metadata": {},
     "output_type": "execute_result"
    }
   ],
   "source": [
    "nfp.prod()"
   ]
  },
  {
   "cell_type": "code",
   "execution_count": 14,
   "id": "084b9560-70fb-49bd-af48-56ead885904c",
   "metadata": {},
   "outputs": [
    {
     "data": {
      "text/html": [
       "<div>\n",
       "<style scoped>\n",
       "    .dataframe tbody tr th:only-of-type {\n",
       "        vertical-align: middle;\n",
       "    }\n",
       "\n",
       "    .dataframe tbody tr th {\n",
       "        vertical-align: top;\n",
       "    }\n",
       "\n",
       "    .dataframe thead th {\n",
       "        text-align: right;\n",
       "    }\n",
       "</style>\n",
       "<table border=\"1\" class=\"dataframe\">\n",
       "  <thead>\n",
       "    <tr style=\"text-align: right;\">\n",
       "      <th></th>\n",
       "      <th>date</th>\n",
       "      <th>cmname</th>\n",
       "      <th>unit</th>\n",
       "      <th>category</th>\n",
       "      <th>price</th>\n",
       "      <th>currency</th>\n",
       "      <th>country</th>\n",
       "      <th>admname</th>\n",
       "      <th>adm1id</th>\n",
       "      <th>mktname</th>\n",
       "      <th>mktid</th>\n",
       "      <th>cmid</th>\n",
       "      <th>ptid</th>\n",
       "      <th>umid</th>\n",
       "      <th>catid</th>\n",
       "      <th>sn</th>\n",
       "      <th>default</th>\n",
       "    </tr>\n",
       "  </thead>\n",
       "  <tbody>\n",
       "    <tr>\n",
       "      <th>0</th>\n",
       "      <td>1/15/2016</td>\n",
       "      <td>Millet - Wholesale</td>\n",
       "      <td>100 KG</td>\n",
       "      <td>cereals and tubers</td>\n",
       "      <td>145</td>\n",
       "      <td>NGN</td>\n",
       "      <td>Nigeria</td>\n",
       "      <td>Katsina</td>\n",
       "      <td>2226</td>\n",
       "      <td>Ibadan</td>\n",
       "      <td>1975.0</td>\n",
       "      <td>73</td>\n",
       "      <td>14.0</td>\n",
       "      <td>9.0</td>\n",
       "      <td>1</td>\n",
       "      <td>1037_73_14_5</td>\n",
       "      <td>NaN</td>\n",
       "    </tr>\n",
       "    <tr>\n",
       "      <th>1</th>\n",
       "      <td>12/15/2015</td>\n",
       "      <td>NaN</td>\n",
       "      <td>NaN</td>\n",
       "      <td>NaN</td>\n",
       "      <td>NaN</td>\n",
       "      <td>NaN</td>\n",
       "      <td>NaN</td>\n",
       "      <td>NaN</td>\n",
       "      <td>NaN</td>\n",
       "      <td>NaN</td>\n",
       "      <td>NaN</td>\n",
       "      <td>NaN</td>\n",
       "      <td>NaN</td>\n",
       "      <td>NaN</td>\n",
       "      <td>NaN</td>\n",
       "      <td>NaN</td>\n",
       "      <td>NaN</td>\n",
       "    </tr>\n",
       "  </tbody>\n",
       "</table>\n",
       "</div>"
      ],
      "text/plain": [
       "         date              cmname    unit            category price currency  \\\n",
       "0   1/15/2016  Millet - Wholesale  100 KG  cereals and tubers   145      NGN   \n",
       "1  12/15/2015                 NaN     NaN                 NaN   NaN      NaN   \n",
       "\n",
       "   country  admname adm1id mktname   mktid cmid  ptid  umid catid  \\\n",
       "0  Nigeria  Katsina   2226  Ibadan  1975.0   73  14.0   9.0     1   \n",
       "1      NaN      NaN    NaN     NaN     NaN  NaN   NaN   NaN   NaN   \n",
       "\n",
       "             sn  default  \n",
       "0  1037_73_14_5      NaN  \n",
       "1           NaN      NaN  "
      ]
     },
     "execution_count": 14,
     "metadata": {},
     "output_type": "execute_result"
    }
   ],
   "source": [
    "nfp.mode()"
   ]
  },
  {
   "cell_type": "code",
   "execution_count": 15,
   "id": "46c7cc2b-c1d2-48fe-9684-2a494082934c",
   "metadata": {},
   "outputs": [
    {
     "data": {
      "text/plain": [
       "date        13278\n",
       "cmname      13278\n",
       "unit        13278\n",
       "category    13278\n",
       "price       13278\n",
       "currency    13278\n",
       "country     13278\n",
       "admname     13278\n",
       "adm1id      13278\n",
       "mktname     13278\n",
       "mktid       13277\n",
       "cmid        13278\n",
       "ptid        13277\n",
       "umid        13277\n",
       "catid       13278\n",
       "sn          13278\n",
       "default         0\n",
       "dtype: int64"
      ]
     },
     "execution_count": 15,
     "metadata": {},
     "output_type": "execute_result"
    }
   ],
   "source": [
    "nfp.count()"
   ]
  },
  {
   "cell_type": "code",
   "execution_count": 17,
   "id": "d5bc371c-1d23-4477-ad0d-f19d078b4bd5",
   "metadata": {},
   "outputs": [
    {
     "name": "stdout",
     "output_type": "stream",
     "text": [
      "<class 'pandas.core.frame.DataFrame'>\n",
      "RangeIndex: 13278 entries, 0 to 13277\n",
      "Data columns (total 17 columns):\n",
      " #   Column    Non-Null Count  Dtype  \n",
      "---  ------    --------------  -----  \n",
      " 0   date      13278 non-null  object \n",
      " 1   cmname    13278 non-null  object \n",
      " 2   unit      13278 non-null  object \n",
      " 3   category  13278 non-null  object \n",
      " 4   price     13278 non-null  object \n",
      " 5   currency  13278 non-null  object \n",
      " 6   country   13278 non-null  object \n",
      " 7   admname   13278 non-null  object \n",
      " 8   adm1id    13278 non-null  object \n",
      " 9   mktname   13278 non-null  object \n",
      " 10  mktid     13277 non-null  float64\n",
      " 11  cmid      13278 non-null  object \n",
      " 12  ptid      13277 non-null  float64\n",
      " 13  umid      13277 non-null  float64\n",
      " 14  catid     13278 non-null  object \n",
      " 15  sn        13278 non-null  object \n",
      " 16  default   0 non-null      float64\n",
      "dtypes: float64(4), object(13)\n",
      "memory usage: 1.7+ MB\n"
     ]
    }
   ],
   "source": [
    "nfp.info()"
   ]
  },
  {
   "cell_type": "code",
   "execution_count": 19,
   "id": "f53777bf-64b2-4389-a3a5-eb7ae332c378",
   "metadata": {},
   "outputs": [
    {
     "data": {
      "text/html": [
       "<div>\n",
       "<style scoped>\n",
       "    .dataframe tbody tr th:only-of-type {\n",
       "        vertical-align: middle;\n",
       "    }\n",
       "\n",
       "    .dataframe tbody tr th {\n",
       "        vertical-align: top;\n",
       "    }\n",
       "\n",
       "    .dataframe thead th {\n",
       "        text-align: right;\n",
       "    }\n",
       "</style>\n",
       "<table border=\"1\" class=\"dataframe\">\n",
       "  <thead>\n",
       "    <tr style=\"text-align: right;\">\n",
       "      <th></th>\n",
       "      <th>mktid</th>\n",
       "      <th>ptid</th>\n",
       "      <th>umid</th>\n",
       "      <th>default</th>\n",
       "    </tr>\n",
       "  </thead>\n",
       "  <tbody>\n",
       "    <tr>\n",
       "      <th>count</th>\n",
       "      <td>13277.000000</td>\n",
       "      <td>13277.000000</td>\n",
       "      <td>13277.000000</td>\n",
       "      <td>0.0</td>\n",
       "    </tr>\n",
       "    <tr>\n",
       "      <th>mean</th>\n",
       "      <td>1806.855238</td>\n",
       "      <td>14.204112</td>\n",
       "      <td>10.795285</td>\n",
       "      <td>NaN</td>\n",
       "    </tr>\n",
       "    <tr>\n",
       "      <th>std</th>\n",
       "      <td>359.119949</td>\n",
       "      <td>0.403067</td>\n",
       "      <td>6.515444</td>\n",
       "      <td>NaN</td>\n",
       "    </tr>\n",
       "    <tr>\n",
       "      <th>min</th>\n",
       "      <td>1037.000000</td>\n",
       "      <td>14.000000</td>\n",
       "      <td>5.000000</td>\n",
       "      <td>NaN</td>\n",
       "    </tr>\n",
       "    <tr>\n",
       "      <th>25%</th>\n",
       "      <td>1969.000000</td>\n",
       "      <td>14.000000</td>\n",
       "      <td>9.000000</td>\n",
       "      <td>NaN</td>\n",
       "    </tr>\n",
       "    <tr>\n",
       "      <th>50%</th>\n",
       "      <td>1973.000000</td>\n",
       "      <td>14.000000</td>\n",
       "      <td>9.000000</td>\n",
       "      <td>NaN</td>\n",
       "    </tr>\n",
       "    <tr>\n",
       "      <th>75%</th>\n",
       "      <td>1977.000000</td>\n",
       "      <td>14.000000</td>\n",
       "      <td>9.000000</td>\n",
       "      <td>NaN</td>\n",
       "    </tr>\n",
       "    <tr>\n",
       "      <th>max</th>\n",
       "      <td>1982.000000</td>\n",
       "      <td>15.000000</td>\n",
       "      <td>33.000000</td>\n",
       "      <td>NaN</td>\n",
       "    </tr>\n",
       "  </tbody>\n",
       "</table>\n",
       "</div>"
      ],
      "text/plain": [
       "              mktid          ptid          umid  default\n",
       "count  13277.000000  13277.000000  13277.000000      0.0\n",
       "mean    1806.855238     14.204112     10.795285      NaN\n",
       "std      359.119949      0.403067      6.515444      NaN\n",
       "min     1037.000000     14.000000      5.000000      NaN\n",
       "25%     1969.000000     14.000000      9.000000      NaN\n",
       "50%     1973.000000     14.000000      9.000000      NaN\n",
       "75%     1977.000000     14.000000      9.000000      NaN\n",
       "max     1982.000000     15.000000     33.000000      NaN"
      ]
     },
     "execution_count": 19,
     "metadata": {},
     "output_type": "execute_result"
    }
   ],
   "source": [
    "nfp.describe()"
   ]
  },
  {
   "cell_type": "code",
   "execution_count": 23,
   "id": "820f02fd-726c-4c35-b42d-487d4b843d6e",
   "metadata": {},
   "outputs": [
    {
     "data": {
      "text/plain": [
       "mktid      1973.0\n",
       "ptid         14.0\n",
       "umid          9.0\n",
       "default       NaN\n",
       "dtype: float64"
      ]
     },
     "execution_count": 23,
     "metadata": {},
     "output_type": "execute_result"
    }
   ],
   "source": [
    "nfp.median()"
   ]
  },
  {
   "cell_type": "code",
   "execution_count": null,
   "id": "bc3d25d6-98b2-4285-bc7f-6ce8f61f9b6a",
   "metadata": {},
   "outputs": [],
   "source": []
  }
 ],
 "metadata": {
  "kernelspec": {
   "display_name": "Python 3",
   "language": "python",
   "name": "python3"
  },
  "language_info": {
   "codemirror_mode": {
    "name": "ipython",
    "version": 3
   },
   "file_extension": ".py",
   "mimetype": "text/x-python",
   "name": "python",
   "nbconvert_exporter": "python",
   "pygments_lexer": "ipython3",
   "version": "3.8.8"
  }
 },
 "nbformat": 4,
 "nbformat_minor": 5
}
