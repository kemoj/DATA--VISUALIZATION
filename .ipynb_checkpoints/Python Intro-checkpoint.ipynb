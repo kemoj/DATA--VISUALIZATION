{
 "cells": [
  {
   "cell_type": "code",
   "execution_count": 1,
   "id": "e352bc5d-6d33-48b0-80c3-d577afa3cae5",
   "metadata": {},
   "outputs": [
    {
     "data": {
      "text/plain": [
       "'boy'"
      ]
     },
     "execution_count": 1,
     "metadata": {},
     "output_type": "execute_result"
    }
   ],
   "source": [
    "A = (\"boy\")\n",
    "A"
   ]
  },
  {
   "cell_type": "code",
   "execution_count": 2,
   "id": "ed78ab61-be8e-4cfa-a2c2-4769031b64fd",
   "metadata": {},
   "outputs": [
    {
     "data": {
      "text/plain": [
       "'boy'"
      ]
     },
     "execution_count": 2,
     "metadata": {},
     "output_type": "execute_result"
    }
   ],
   "source": [
    "A2 = (\"boy\")\n",
    "A2"
   ]
  },
  {
   "cell_type": "code",
   "execution_count": 5,
   "id": "b1ed9fc1-e00f-434d-8c6c-fbd85a47a3de",
   "metadata": {},
   "outputs": [
    {
     "data": {
      "text/plain": [
       "'toy'"
      ]
     },
     "execution_count": 5,
     "metadata": {},
     "output_type": "execute_result"
    }
   ],
   "source": [
    "A_2 = (\"toy\")\n",
    "A_2"
   ]
  },
  {
   "cell_type": "code",
   "execution_count": 6,
   "id": "0b69c53c-0b1e-4122-82a9-70213e13d603",
   "metadata": {},
   "outputs": [
    {
     "data": {
      "text/plain": [
       "'Soy'"
      ]
     },
     "execution_count": 6,
     "metadata": {},
     "output_type": "execute_result"
    }
   ],
   "source": [
    "A_2= (\"Soy\")\n",
    "A_2"
   ]
  },
  {
   "cell_type": "code",
   "execution_count": 12,
   "id": "b565688b-aff8-4279-9d31-fd52e3c02f1b",
   "metadata": {},
   "outputs": [
    {
     "data": {
      "text/plain": [
       "\"Hello Bam, what's up with you?\\nit's been along time, let me tell you what I do not like about you\\n    I dislike the fact that you are not a social person,\\nparties and social gatherings are not your thing \\nand you seldom attend church service, one of these days,\\n    I'm coming to drag you to the club, this is just a way of giving \\nyou headsup that I'm gonna check on you soon\""
      ]
     },
     "execution_count": 12,
     "metadata": {},
     "output_type": "execute_result"
    }
   ],
   "source": [
    "H = ('''Hello Bam, what's up with you?\n",
    "it's been along time, let me tell you what I do not like about you\n",
    "    I dislike the fact that you are not a social person,\n",
    "parties and social gatherings are not your thing \n",
    "and you seldom attend church service, one of these days,\n",
    "    I'm coming to drag you to the club, this is just a way of giving \n",
    "you headsup that I'm gonna check on you soon''')\n",
    "H"
   ]
  },
  {
   "cell_type": "code",
   "execution_count": 5,
   "id": "5c1c39d4-7cf3-4177-9289-8ef4d68a348d",
   "metadata": {},
   "outputs": [
    {
     "name": "stdout",
     "output_type": "stream",
     "text": [
      "Steve is a Male who lives in Lagos\n"
     ]
    }
   ],
   "source": [
    "Name = \"Steve\"\n",
    "Gender =\"Male\"\n",
    "Location = \"Lagos\"\n",
    "print(\"{} is a {} who lives in {}\".format(Name,Gender,Location))\n",
    "\n"
   ]
  },
  {
   "cell_type": "code",
   "execution_count": 4,
   "id": "740de13f-9499-4ad6-8a80-2c15bc05f0a7",
   "metadata": {},
   "outputs": [
    {
     "name": "stdout",
     "output_type": "stream",
     "text": [
      "Steve is a young Male who has never been to Lagos but the thought of a single Male living in Lagos amuses him to think of himself as Steve Wonder the broke Male celebrity\n"
     ]
    }
   ],
   "source": [
    "Name =\"Steve\"\n",
    "Gender =\"Male\"\n",
    "Location =\"Lagos\"\n",
    "\n",
    "print(\"{} is a young {} who has never been to {} but the thought of a single {} living in {} amuses him to think of himself as {} Wonder the broke {} celebrity\".format(Name,Gender,Location,Gender,Location,Name,Gender))\n"
   ]
  },
  {
   "cell_type": "code",
   "execution_count": 8,
   "id": "3baf93b5-75c6-4142-b803-79a70032b35c",
   "metadata": {},
   "outputs": [
    {
     "name": "stdout",
     "output_type": "stream",
     "text": [
      "Steve is a young Male who has never been to Lagos but the thought of a single Male living in Lagos amuses him to think of himself as Steve Wonder the broke Male celebrity\n"
     ]
    }
   ],
   "source": [
    "Name =\"Steve\"\n",
    "Gender =\"Male\"\n",
    "Location =\"Lagos\"\n",
    "\n",
    "print(\"{} is a young {} who has never been to {} but the thought of a single {} living in {} amuses him to think of himself as {} Wonder the broke {} celebrity\".format(Name,Gender,Location,Gender,Location,Name,Gender))\n"
   ]
  },
  {
   "cell_type": "code",
   "execution_count": null,
   "id": "203575f2-969e-4daf-baac-616d0499d063",
   "metadata": {},
   "outputs": [],
   "source": [
    "Steve is a young Male who has never been to Lagos but the thought of a single Male living in Lagos amuses him to think of himself as Steve Wonder the broke Male celebrity.\n"
   ]
  },
  {
   "cell_type": "code",
   "execution_count": 16,
   "id": "bbb19df7-d2a5-41be-bf41-afdec544e1bb",
   "metadata": {},
   "outputs": [
    {
     "name": "stdin",
     "output_type": "stream",
     "text": [
      "your name Ayo\n"
     ]
    },
    {
     "name": "stdout",
     "output_type": "stream",
     "text": [
      "Hello Ayo\n"
     ]
    }
   ],
   "source": [
    "name = input(\"your name\")\n",
    "print('Hello',name)"
   ]
  },
  {
   "cell_type": "code",
   "execution_count": null,
   "id": "1d8d1da2-8d64-44af-ad44-fe1a4079b66c",
   "metadata": {},
   "outputs": [],
   "source": [
    "Age = int (input(\"DOB\"))\n",
    "print(2022 - Age)\n",
    "\n",
    "print('Hello '+ name  + ' you are '  +  str(age) + ' years old. ')\n",
    "\n",
    "Fage = (Age+12)"
   ]
  },
  {
   "cell_type": "code",
   "execution_count": null,
   "id": "d0163df6-c5e7-4e89-be88-34344f1b0212",
   "metadata": {},
   "outputs": [],
   "source": []
  },
  {
   "cell_type": "code",
   "execution_count": null,
   "id": "364fa352-1619-4550-bc6d-258e7b7af380",
   "metadata": {},
   "outputs": [],
   "source": []
  },
  {
   "cell_type": "code",
   "execution_count": null,
   "id": "2b22aea7-1993-4bc3-a8ae-c351f30f514d",
   "metadata": {},
   "outputs": [],
   "source": []
  }
 ],
 "metadata": {
  "kernelspec": {
   "display_name": "Python 3",
   "language": "python",
   "name": "python3"
  },
  "language_info": {
   "codemirror_mode": {
    "name": "ipython",
    "version": 3
   },
   "file_extension": ".py",
   "mimetype": "text/x-python",
   "name": "python",
   "nbconvert_exporter": "python",
   "pygments_lexer": "ipython3",
   "version": "3.8.8"
  }
 },
 "nbformat": 4,
 "nbformat_minor": 5
}
