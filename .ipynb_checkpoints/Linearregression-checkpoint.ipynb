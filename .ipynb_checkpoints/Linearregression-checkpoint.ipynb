{
 "cells": [
  {
   "cell_type": "code",
   "execution_count": null,
   "id": "b5922ced-110c-42fc-88b4-d2ef22af67df",
   "metadata": {},
   "outputs": [],
   "source": [
    "import pandas as pd"
   ]
  },
  {
   "cell_type": "code",
   "execution_count": 2,
   "id": "3f17483e-71dc-4b28-92f9-2338458940e2",
   "metadata": {},
   "outputs": [],
   "source": [
    "import numpy as np"
   ]
  },
  {
   "cell_type": "code",
   "execution_count": 3,
   "id": "205afcf9-10fe-4ab9-aef2-5df45b0556cd",
   "metadata": {},
   "outputs": [],
   "source": [
    "import matplotlib.pyplot as plt"
   ]
  },
  {
   "cell_type": "code",
   "execution_count": 4,
   "id": "cb99709c-7abb-4a71-a504-2a3cfc1ca9f3",
   "metadata": {},
   "outputs": [],
   "source": [
    "import seaborn as sns"
   ]
  },
  {
   "cell_type": "code",
   "execution_count": 5,
   "id": "987c2758-76f9-49f0-b668-439e60582e0b",
   "metadata": {},
   "outputs": [],
   "source": [
    "from sklearn.linear_model import LinearRegression"
   ]
  },
  {
   "cell_type": "code",
   "execution_count": 6,
   "id": "43a093eb-3005-4103-9d81-4f41a134a7ab",
   "metadata": {},
   "outputs": [],
   "source": [
    "from sklearn.metrics import mean_squared_error"
   ]
  },
  {
   "cell_type": "code",
   "execution_count": 10,
   "id": "9ba585c0-4098-4cfb-a0b7-400a60553af9",
   "metadata": {},
   "outputs": [],
   "source": [
    "x=np.array([2.4,5.0,1.5,3.8,8.7,3.6,1.2,8.1,2.5,5,1.6,1.6,2.4,3.9,5.4])\n",
    "y=np.array([2.1,4.7,1.7,3.6,8.7,3.2,1.0,8.0,2.4,6,1.1,1.3,2.4,3.9,4.8])\n",
    "n=np.size([x])"
   ]
  },
  {
   "cell_type": "code",
   "execution_count": 18,
   "id": "f8ddae0a-e3c4-4dde-99d9-fdc65bad9150",
   "metadata": {},
   "outputs": [
    {
     "data": {
      "image/png": "[encoded data removed]",
      "text/plain": [
       "<Figure size 432x288 with 1 Axes>"
      ]
     },
     "metadata": {
      "needs_background": "light"
     },
     "output_type": "display_data"
    }
   ],
   "source": [
    "experience = x\n",
    "salary = y\n",
    "plt.figure()\n",
    "plt.scatter(experience,salary,color=\"b\")\n",
    "plt.xlabel(\"experience\")\n",
    "plt.ylabel(\"salary\")\n",
    "plt.show()"
   ]
  },
  {
   "cell_type": "code",
   "execution_count": 19,
   "id": "4bfbd672-6fc1-4e0c-b99f-c5f6127c0d34",
   "metadata": {},
   "outputs": [
    {
     "name": "stdout",
     "output_type": "stream",
     "text": [
      "slop [1.02474643]\n",
      "intercept -0.2135415007169046\n",
      "MSE 0.12785817711928918\n"
     ]
    },
    {
     "data": {
      "image/png": "[encoded data removed]",
      "text/plain": [
       "<Figure size 432x288 with 1 Axes>"
      ]
     },
     "metadata": {
      "needs_background": "light"
     },
     "output_type": "display_data"
    }
   ],
   "source": [
    "experience=experience.reshape(-1,1)\n",
    "model= LinearRegression()\n",
    "model.fit(experience, salary)\n",
    "salary_pred=model.predict(experience)\n",
    "Mse = mean_squared_error(salary, salary_pred)\n",
    "print(\"slop\",model.coef_)\n",
    "print(\"intercept\", model.intercept_)\n",
    "print(\"MSE\", Mse)\n",
    "plt.figure()\n",
    "plt.scatter(experience, salary)\n",
    "plt.plot(experience,salary_pred)\n",
    "plt.xlabel(\"experience\")\n",
    "plt.ylabel(\"predict salary\")\n",
    "plt.show()\n"
   ]
  },
  {
   "cell_type": "code",
   "execution_count": null,
   "id": "27c3c630-efa5-4ee1-a0e1-26a514ef19b8",
   "metadata": {},
   "outputs": [],
   "source": [
    "\n"
   ]
  }
 ],
 "metadata": {
  "kernelspec": {
   "display_name": "Python 3",
   "language": "python",
   "name": "python3"
  },
  "language_info": {
   "codemirror_mode": {
    "name": "ipython",
    "version": 3
   },
   "file_extension": ".py",
   "mimetype": "text/x-python",
   "name": "python",
   "nbconvert_exporter": "python",
   "pygments_lexer": "ipython3",
   "version": "3.8.8"
  }
 },
 "nbformat": 4,
 "nbformat_minor": 5
}
