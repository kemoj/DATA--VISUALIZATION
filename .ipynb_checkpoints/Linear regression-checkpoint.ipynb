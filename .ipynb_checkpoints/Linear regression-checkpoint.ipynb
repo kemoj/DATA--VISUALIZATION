{
 "cells": [
  {
   "cell_type": "code",
   "execution_count": 4,
   "id": "86df8838-f2cd-4be9-80d7-61197552ea8d",
   "metadata": {},
   "outputs": [],
   "source": [
    "import pandas as pd"
   ]
  },
  {
   "cell_type": "code",
   "execution_count": 3,
   "id": "faafe391-1c77-4b8f-926d-6f4a1a2fa646",
   "metadata": {},
   "outputs": [],
   "source": [
    "import numpy as np"
   ]
  },
  {
   "cell_type": "code",
   "execution_count": 25,
   "id": "ce4ea969-9b39-4d4a-872d-8fdb4187f9dd",
   "metadata": {},
   "outputs": [],
   "source": [
    "import matplotlib.pyplot as plt"
   ]
  },
  {
   "cell_type": "code",
   "execution_count": 62,
   "id": "d4b76796-e2ad-4d5e-a6d7-fed80590accf",
   "metadata": {},
   "outputs": [],
   "source": [
    "import statsmodels.api as sm"
   ]
  },
  {
   "cell_type": "code",
   "execution_count": 67,
   "id": "3b291f08-be54-400a-b17a-00bdff03402d",
   "metadata": {},
   "outputs": [
    {
     "name": "stdout",
     "output_type": "stream",
     "text": [
      "   NAME   GPA  SAT\n",
      "0  SADE  2.00  150\n",
      "1   ADE  3.50  275\n",
      "2  BADE  2.88  200\n",
      "3  LADE  3.57  280\n",
      "4  FADE  3.00  210\n",
      "5  RADE  4.00  300\n",
      "6  TADE  2.25  190\n",
      "7  JADE  2.20  170\n"
     ]
    }
   ],
   "source": [
    "gp = pd.read_csv(\"data.csv\")\n",
    "print(gp)"
   ]
  },
  {
   "cell_type": "code",
   "execution_count": 75,
   "id": "7af1c673-494d-411d-a84d-8962068d2ece",
   "metadata": {},
   "outputs": [
    {
     "data": {
      "text/plain": [
       "0    2.00\n",
       "1    3.50\n",
       "2    2.88\n",
       "3    3.57\n",
       "4    3.00\n",
       "5    4.00\n",
       "6    2.25\n",
       "7    2.20\n",
       "Name: GPA, dtype: float64"
      ]
     },
     "execution_count": 75,
     "metadata": {},
     "output_type": "execute_result"
    }
   ],
   "source": [
    "y=gp[\"GPA\"]\n",
    "y"
   ]
  },
  {
   "cell_type": "code",
   "execution_count": 76,
   "id": "6d3cd92e-ccaf-41b1-bac4-8769223a6c9c",
   "metadata": {},
   "outputs": [
    {
     "data": {
      "text/plain": [
       "0    150\n",
       "1    275\n",
       "2    200\n",
       "3    280\n",
       "4    210\n",
       "5    300\n",
       "6    190\n",
       "7    170\n",
       "Name: SAT, dtype: int64"
      ]
     },
     "execution_count": 76,
     "metadata": {},
     "output_type": "execute_result"
    }
   ],
   "source": [
    "x1 = gp[\"SAT\"]\n",
    "x1\n"
   ]
  },
  {
   "cell_type": "code",
   "execution_count": 77,
   "id": "91158c01-f592-430a-92c5-3b46a26afac6",
   "metadata": {},
   "outputs": [
    {
     "data": {
      "image/png": "[encoded data removed]",
      "text/plain": [
       "<Figure size 432x288 with 1 Axes>"
      ]
     },
     "metadata": {
      "needs_background": "light"
     },
     "output_type": "display_data"
    }
   ],
   "source": [
    "plt.scatter(x1,y)\n",
    "plt.show()"
   ]
  },
  {
   "cell_type": "code",
   "execution_count": 78,
   "id": "4c563e1f-70dc-4e75-8699-3acd1e18fe00",
   "metadata": {},
   "outputs": [
    {
     "data": {
      "text/plain": [
       "<module 'matplotlib.pyplot' from 'C:\\\\Users\\\\HP\\\\anaconda3\\\\lib\\\\site-packages\\\\matplotlib\\\\pyplot.py'>"
      ]
     },
     "execution_count": 78,
     "metadata": {},
     "output_type": "execute_result"
    },
    {
     "data": {
      "image/png": "[encoded data removed]",
      "text/plain": [
       "<Figure size 432x288 with 1 Axes>"
      ]
     },
     "metadata": {
      "needs_background": "light"
     },
     "output_type": "display_data"
    }
   ],
   "source": [
    "plt.scatter(x1,y)\n",
    "plt.xlabel(\"SAT\",fontsize=20)\n",
    "plt.ylabel(\"GPA\",fontsize=20)\n",
    "plt"
   ]
  },
  {
   "cell_type": "code",
   "execution_count": 73,
   "id": "022c9a5f-2d52-45f1-97df-0d23e8733eba",
   "metadata": {},
   "outputs": [
    {
     "name": "stderr",
     "output_type": "stream",
     "text": [
      "C:\\Users\\HP\\anaconda3\\lib\\site-packages\\scipy\\stats\\stats.py:1603: UserWarning: kurtosistest only valid for n>=20 ... continuing anyway, n=8\n",
      "  warnings.warn(\"kurtosistest only valid for n>=20 ... continuing \"\n"
     ]
    },
    {
     "data": {
      "text/html": [
       "<table class=\"simpletable\">\n",
       "<caption>OLS Regression Results</caption>\n",
       "<tr>\n",
       "  <th>Dep. Variable:</th>           <td>GPA</td>       <th>  R-squared:         </th> <td>   0.944</td>\n",
       "</tr>\n",
       "<tr>\n",
       "  <th>Model:</th>                   <td>OLS</td>       <th>  Adj. R-squared:    </th> <td>   0.935</td>\n",
       "</tr>\n",
       "<tr>\n",
       "  <th>Method:</th>             <td>Least Squares</td>  <th>  F-statistic:       </th> <td>   102.0</td>\n",
       "</tr>\n",
       "<tr>\n",
       "  <th>Date:</th>             <td>Tue, 15 Mar 2022</td> <th>  Prob (F-statistic):</th> <td>5.47e-05</td>\n",
       "</tr>\n",
       "<tr>\n",
       "  <th>Time:</th>                 <td>14:52:42</td>     <th>  Log-Likelihood:    </th> <td>  3.2439</td>\n",
       "</tr>\n",
       "<tr>\n",
       "  <th>No. Observations:</th>      <td>     8</td>      <th>  AIC:               </th> <td>  -2.488</td>\n",
       "</tr>\n",
       "<tr>\n",
       "  <th>Df Residuals:</th>          <td>     6</td>      <th>  BIC:               </th> <td>  -2.329</td>\n",
       "</tr>\n",
       "<tr>\n",
       "  <th>Df Model:</th>              <td>     1</td>      <th>                     </th>     <td> </td>   \n",
       "</tr>\n",
       "<tr>\n",
       "  <th>Covariance Type:</th>      <td>nonrobust</td>    <th>                     </th>     <td> </td>   \n",
       "</tr>\n",
       "</table>\n",
       "<table class=\"simpletable\">\n",
       "<tr>\n",
       "    <td></td>       <th>coef</th>     <th>std err</th>      <th>t</th>      <th>P>|t|</th>  <th>[0.025</th>    <th>0.975]</th>  \n",
       "</tr>\n",
       "<tr>\n",
       "  <th>const</th> <td>    0.0980</td> <td>    0.288</td> <td>    0.341</td> <td> 0.745</td> <td>   -0.606</td> <td>    0.802</td>\n",
       "</tr>\n",
       "<tr>\n",
       "  <th>SAT</th>   <td>    0.0127</td> <td>    0.001</td> <td>   10.099</td> <td> 0.000</td> <td>    0.010</td> <td>    0.016</td>\n",
       "</tr>\n",
       "</table>\n",
       "<table class=\"simpletable\">\n",
       "<tr>\n",
       "  <th>Omnibus:</th>       <td> 0.109</td> <th>  Durbin-Watson:     </th> <td>   2.489</td>\n",
       "</tr>\n",
       "<tr>\n",
       "  <th>Prob(Omnibus):</th> <td> 0.947</td> <th>  Jarque-Bera (JB):  </th> <td>   0.316</td>\n",
       "</tr>\n",
       "<tr>\n",
       "  <th>Skew:</th>          <td> 0.096</td> <th>  Prob(JB):          </th> <td>   0.854</td>\n",
       "</tr>\n",
       "<tr>\n",
       "  <th>Kurtosis:</th>      <td> 2.046</td> <th>  Cond. No.          </th> <td>    995.</td>\n",
       "</tr>\n",
       "</table><br/><br/>Notes:<br/>[1] Standard Errors assume that the covariance matrix of the errors is correctly specified."
      ],
      "text/plain": [
       "<class 'statsmodels.iolib.summary.Summary'>\n",
       "\"\"\"\n",
       "                            OLS Regression Results                            \n",
       "==============================================================================\n",
       "Dep. Variable:                    GPA   R-squared:                       0.944\n",
       "Model:                            OLS   Adj. R-squared:                  0.935\n",
       "Method:                 Least Squares   F-statistic:                     102.0\n",
       "Date:                Tue, 15 Mar 2022   Prob (F-statistic):           5.47e-05\n",
       "Time:                        14:52:42   Log-Likelihood:                 3.2439\n",
       "No. Observations:                   8   AIC:                            -2.488\n",
       "Df Residuals:                       6   BIC:                            -2.329\n",
       "Df Model:                           1                                         \n",
       "Covariance Type:            nonrobust                                         \n",
       "==============================================================================\n",
       "                 coef    std err          t      P>|t|      [0.025      0.975]\n",
       "------------------------------------------------------------------------------\n",
       "const          0.0980      0.288      0.341      0.745      -0.606       0.802\n",
       "SAT            0.0127      0.001     10.099      0.000       0.010       0.016\n",
       "==============================================================================\n",
       "Omnibus:                        0.109   Durbin-Watson:                   2.489\n",
       "Prob(Omnibus):                  0.947   Jarque-Bera (JB):                0.316\n",
       "Skew:                           0.096   Prob(JB):                        0.854\n",
       "Kurtosis:                       2.046   Cond. No.                         995.\n",
       "==============================================================================\n",
       "\n",
       "Notes:\n",
       "[1] Standard Errors assume that the covariance matrix of the errors is correctly specified.\n",
       "\"\"\""
      ]
     },
     "execution_count": 73,
     "metadata": {},
     "output_type": "execute_result"
    }
   ],
   "source": [
    "x=sm.add_constant(x1)\n",
    "results=sm.OLS(y,x).fit()\n",
    "results.summary()"
   ]
  },
  {
   "cell_type": "code",
   "execution_count": 80,
   "id": "3ce2be4b-90a0-40f9-a125-c5760037b0b3",
   "metadata": {},
   "outputs": [
    {
     "data": {
      "image/png": "[encoded data removed]",
      "text/plain": [
       "<Figure size 432x288 with 1 Axes>"
      ]
     },
     "metadata": {
      "needs_background": "light"
     },
     "output_type": "display_data"
    }
   ],
   "source": [
    "plt.scatter(x1,y)\n",
    "yhat=0.0127*x1+0.0980\n",
    "\n",
    "fig=plt.plot(x1,yhat,c=\"blue\",label=\"Single Regression Line\")\n",
    "plt.xlabel(\"SAT\",fontsize=15)\n",
    "plt.ylabel(\"GPA\",fontsize=15)\n",
    "plt.show()"
   ]
  },
  {
   "cell_type": "code",
   "execution_count": 81,
   "id": "887ce4a5-fb5e-47a9-bc7f-3f3a11408427",
   "metadata": {},
   "outputs": [
    {
     "data": {
      "text/plain": [
       "2.003"
      ]
     },
     "execution_count": 81,
     "metadata": {},
     "output_type": "execute_result"
    }
   ],
   "source": [
    "yhat=0.0127*150+0.0980\n",
    "yhat\n"
   ]
  },
  {
   "cell_type": "markdown",
   "id": "ff555edd-4bf5-4352-b4a4-d07955d10808",
   "metadata": {},
   "source": [
    "The relationship between Sat score and GPA is linear"
   ]
  }
 ],
 "metadata": {
  "kernelspec": {
   "display_name": "Python 3",
   "language": "python",
   "name": "python3"
  },
  "language_info": {
   "codemirror_mode": {
    "name": "ipython",
    "version": 3
   },
   "file_extension": ".py",
   "mimetype": "text/x-python",
   "name": "python",
   "nbconvert_exporter": "python",
   "pygments_lexer": "ipython3",
   "version": "3.8.8"
  }
 },
 "nbformat": 4,
 "nbformat_minor": 5
}
