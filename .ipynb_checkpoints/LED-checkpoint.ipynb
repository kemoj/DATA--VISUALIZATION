{
 "cells": [
  {
   "cell_type": "code",
   "execution_count": 11,
   "id": "bb52b26a-2e29-4f38-836d-ac383856c767",
   "metadata": {},
   "outputs": [],
   "source": [
    "import pandas as pd"
   ]
  },
  {
   "cell_type": "code",
   "execution_count": 12,
   "id": "5b2c110a-a7d1-4f73-8090-5bf589d3d5c3",
   "metadata": {},
   "outputs": [],
   "source": [
    "import numpy as np"
   ]
  },
  {
   "cell_type": "code",
   "execution_count": 3,
   "id": "323c2f9a-0209-4c22-b511-93e5e4f1bb6f",
   "metadata": {},
   "outputs": [],
   "source": [
    "import matplotlib.pyplot as plt"
   ]
  },
  {
   "cell_type": "code",
   "execution_count": 4,
   "id": "56b35180-9b9a-4c65-9623-cfe5fb2f4d99",
   "metadata": {},
   "outputs": [],
   "source": [
    "import seaborn as sns"
   ]
  },
  {
   "cell_type": "code",
   "execution_count": 5,
   "id": "de2d0717-71d4-466c-8cbb-a20f9c179901",
   "metadata": {},
   "outputs": [],
   "source": [
    "from sklearn.linear_model import LinearRegression"
   ]
  },
  {
   "cell_type": "code",
   "execution_count": 8,
   "id": "7c601822-230f-4699-89b6-d6fd1bbddeca",
   "metadata": {},
   "outputs": [],
   "source": [
    "from sklearn.metrics import mean_squared_error"
   ]
  },
  {
   "cell_type": "code",
   "execution_count": 13,
   "id": "aa78ad9f-dc8f-4efe-9463-852bea66e390",
   "metadata": {},
   "outputs": [
    {
     "name": "stdout",
     "output_type": "stream",
     "text": [
      "          Country  Year      Status  Life expectancy   Adult Mortality  \\\n",
      "0     Afghanistan  2015  Developing              65.0            263.0   \n",
      "1     Afghanistan  2014  Developing              59.9            271.0   \n",
      "2     Afghanistan  2013  Developing              59.9            268.0   \n",
      "3     Afghanistan  2012  Developing              59.5            272.0   \n",
      "4     Afghanistan  2011  Developing              59.2            275.0   \n",
      "...           ...   ...         ...               ...              ...   \n",
      "2933     Zimbabwe  2004  Developing              44.3            723.0   \n",
      "2934     Zimbabwe  2003  Developing              44.5            715.0   \n",
      "2935     Zimbabwe  2002  Developing              44.8             73.0   \n",
      "2936     Zimbabwe  2001  Developing              45.3            686.0   \n",
      "2937     Zimbabwe  2000  Developing              46.0            665.0   \n",
      "\n",
      "      infant deaths  Alcohol  percentage expenditure  Hepatitis B  Measles   \\\n",
      "0                62     0.01               71.279624         65.0      1154   \n",
      "1                64     0.01               73.523582         62.0       492   \n",
      "2                66     0.01               73.219243         64.0       430   \n",
      "3                69     0.01               78.184215         67.0      2787   \n",
      "4                71     0.01                7.097109         68.0      3013   \n",
      "...             ...      ...                     ...          ...       ...   \n",
      "2933             27     4.36                0.000000         68.0        31   \n",
      "2934             26     4.06                0.000000          7.0       998   \n",
      "2935             25     4.43                0.000000         73.0       304   \n",
      "2936             25     1.72                0.000000         76.0       529   \n",
      "2937             24     1.68                0.000000         79.0      1483   \n",
      "\n",
      "      ...  Polio  Total expenditure  Diphtheria    HIV/AIDS         GDP  \\\n",
      "0     ...    6.0               8.16         65.0        0.1  584.259210   \n",
      "1     ...   58.0               8.18         62.0        0.1  612.696514   \n",
      "2     ...   62.0               8.13         64.0        0.1  631.744976   \n",
      "3     ...   67.0               8.52         67.0        0.1  669.959000   \n",
      "4     ...   68.0               7.87         68.0        0.1   63.537231   \n",
      "...   ...    ...                ...          ...        ...         ...   \n",
      "2933  ...   67.0               7.13         65.0       33.6  454.366654   \n",
      "2934  ...    7.0               6.52         68.0       36.7  453.351155   \n",
      "2935  ...   73.0               6.53         71.0       39.8   57.348340   \n",
      "2936  ...   76.0               6.16         75.0       42.1  548.587312   \n",
      "2937  ...   78.0               7.10         78.0       43.5  547.358878   \n",
      "\n",
      "      Population   thinness  1-19 years   thinness 5-9 years  \\\n",
      "0     33736494.0                   17.2                 17.3   \n",
      "1       327582.0                   17.5                 17.5   \n",
      "2     31731688.0                   17.7                 17.7   \n",
      "3      3696958.0                   17.9                 18.0   \n",
      "4      2978599.0                   18.2                 18.2   \n",
      "...          ...                    ...                  ...   \n",
      "2933  12777511.0                    9.4                  9.4   \n",
      "2934  12633897.0                    9.8                  9.9   \n",
      "2935    125525.0                    1.2                  1.3   \n",
      "2936  12366165.0                    1.6                  1.7   \n",
      "2937  12222251.0                   11.0                 11.2   \n",
      "\n",
      "      Income composition of resources  Schooling  \n",
      "0                               0.479       10.1  \n",
      "1                               0.476       10.0  \n",
      "2                               0.470        9.9  \n",
      "3                               0.463        9.8  \n",
      "4                               0.454        9.5  \n",
      "...                               ...        ...  \n",
      "2933                            0.407        9.2  \n",
      "2934                            0.418        9.5  \n",
      "2935                            0.427       10.0  \n",
      "2936                            0.427        9.8  \n",
      "2937                            0.434        9.8  \n",
      "\n",
      "[2938 rows x 22 columns]\n"
     ]
    }
   ],
   "source": [
    "led=pd.read_csv(\"led.csv\")\n",
    "print(led)"
   ]
  },
  {
   "cell_type": "code",
   "execution_count": 15,
   "id": "0b79d6bf-97cf-4156-aa97-06223af682f5",
   "metadata": {},
   "outputs": [
    {
     "name": "stdout",
     "output_type": "stream",
     "text": [
      "        Country  Year      Status  Life expectancy   Adult Mortality  \\\n",
      "0   Afghanistan  2015  Developing              65.0            263.0   \n",
      "1   Afghanistan  2014  Developing              59.9            271.0   \n",
      "2   Afghanistan  2013  Developing              59.9            268.0   \n",
      "3   Afghanistan  2012  Developing              59.5            272.0   \n",
      "4   Afghanistan  2011  Developing              59.2            275.0   \n",
      "5   Afghanistan  2010  Developing              58.8            279.0   \n",
      "6   Afghanistan  2009  Developing              58.6            281.0   \n",
      "7   Afghanistan  2008  Developing              58.1            287.0   \n",
      "8   Afghanistan  2007  Developing              57.5            295.0   \n",
      "9   Afghanistan  2006  Developing              57.3            295.0   \n",
      "10  Afghanistan  2005  Developing              57.3            291.0   \n",
      "11  Afghanistan  2004  Developing              57.0            293.0   \n",
      "12  Afghanistan  2003  Developing              56.7            295.0   \n",
      "13  Afghanistan  2002  Developing              56.2              3.0   \n",
      "14  Afghanistan  2001  Developing              55.3            316.0   \n",
      "15  Afghanistan  2000  Developing              54.8            321.0   \n",
      "\n",
      "    infant deaths  Alcohol  percentage expenditure  Hepatitis B  Measles   \\\n",
      "0              62     0.01               71.279624         65.0      1154   \n",
      "1              64     0.01               73.523582         62.0       492   \n",
      "2              66     0.01               73.219243         64.0       430   \n",
      "3              69     0.01               78.184215         67.0      2787   \n",
      "4              71     0.01                7.097109         68.0      3013   \n",
      "5              74     0.01               79.679367         66.0      1989   \n",
      "6              77     0.01               56.762217         63.0      2861   \n",
      "7              80     0.03               25.873925         64.0      1599   \n",
      "8              82     0.02               10.910156         63.0      1141   \n",
      "9              84     0.03               17.171518         64.0      1990   \n",
      "10             85     0.02                1.388648         66.0      1296   \n",
      "11             87     0.02               15.296066         67.0       466   \n",
      "12             87     0.01               11.089053         65.0       798   \n",
      "13             88     0.01               16.887351         64.0      2486   \n",
      "14             88     0.01               10.574728         63.0      8762   \n",
      "15             88     0.01               10.424960         62.0      6532   \n",
      "\n",
      "    ...  Polio  Total expenditure  Diphtheria    HIV/AIDS         GDP  \\\n",
      "0   ...    6.0               8.16         65.0        0.1  584.259210   \n",
      "1   ...   58.0               8.18         62.0        0.1  612.696514   \n",
      "2   ...   62.0               8.13         64.0        0.1  631.744976   \n",
      "3   ...   67.0               8.52         67.0        0.1  669.959000   \n",
      "4   ...   68.0               7.87         68.0        0.1   63.537231   \n",
      "5   ...   66.0               9.20         66.0        0.1  553.328940   \n",
      "6   ...   63.0               9.42         63.0        0.1  445.893298   \n",
      "7   ...   64.0               8.33         64.0        0.1  373.361116   \n",
      "8   ...   63.0               6.73         63.0        0.1  369.835796   \n",
      "9   ...   58.0               7.43         58.0        0.1  272.563770   \n",
      "10  ...   58.0               8.70         58.0        0.1   25.294130   \n",
      "11  ...    5.0               8.79          5.0        0.1  219.141353   \n",
      "12  ...   41.0               8.82         41.0        0.1  198.728544   \n",
      "13  ...   36.0               7.76         36.0        0.1  187.845950   \n",
      "14  ...   35.0               7.80         33.0        0.1  117.496980   \n",
      "15  ...   24.0               8.20         24.0        0.1  114.560000   \n",
      "\n",
      "    Population   thinness  1-19 years   thinness 5-9 years  \\\n",
      "0   33736494.0                   17.2                 17.3   \n",
      "1     327582.0                   17.5                 17.5   \n",
      "2   31731688.0                   17.7                 17.7   \n",
      "3    3696958.0                   17.9                 18.0   \n",
      "4    2978599.0                   18.2                 18.2   \n",
      "5    2883167.0                   18.4                 18.4   \n",
      "6     284331.0                   18.6                 18.7   \n",
      "7    2729431.0                   18.8                 18.9   \n",
      "8   26616792.0                   19.0                 19.1   \n",
      "9    2589345.0                   19.2                 19.3   \n",
      "10    257798.0                   19.3                 19.5   \n",
      "11  24118979.0                   19.5                 19.7   \n",
      "12   2364851.0                   19.7                 19.9   \n",
      "13  21979923.0                   19.9                  2.2   \n",
      "14   2966463.0                    2.1                  2.4   \n",
      "15    293756.0                    2.3                  2.5   \n",
      "\n",
      "    Income composition of resources  Schooling  \n",
      "0                             0.479       10.1  \n",
      "1                             0.476       10.0  \n",
      "2                             0.470        9.9  \n",
      "3                             0.463        9.8  \n",
      "4                             0.454        9.5  \n",
      "5                             0.448        9.2  \n",
      "6                             0.434        8.9  \n",
      "7                             0.433        8.7  \n",
      "8                             0.415        8.4  \n",
      "9                             0.405        8.1  \n",
      "10                            0.396        7.9  \n",
      "11                            0.381        6.8  \n",
      "12                            0.373        6.5  \n",
      "13                            0.341        6.2  \n",
      "14                            0.340        5.9  \n",
      "15                            0.338        5.5  \n",
      "\n",
      "[16 rows x 22 columns]\n"
     ]
    }
   ],
   "source": [
    "Afg=led[led.Country==\"Afghanistan\"]\n",
    "print(Afg)"
   ]
  },
  {
   "cell_type": "code",
   "execution_count": null,
   "id": "b52183cb-d535-456d-9380-c4cef99053dd",
   "metadata": {},
   "outputs": [],
   "source": []
  },
  {
   "cell_type": "code",
   "execution_count": 44,
   "id": "903423db-629f-47c6-a605-506b522d2ef8",
   "metadata": {},
   "outputs": [
    {
     "name": "stdout",
     "output_type": "stream",
     "text": [
      "[65. 62. 64. 67. 68. 66. 63. 64. 63. 64. 66. 67. 65. 64. 63. 62.]\n"
     ]
    }
   ],
   "source": [
    "hep=np.array(Afg.iloc[0:16,8])\n",
    "print(hep)"
   ]
  },
  {
   "cell_type": "code",
   "execution_count": 45,
   "id": "02e41287-d705-4f31-a3dc-328a8822d9ba",
   "metadata": {},
   "outputs": [
    {
     "name": "stdout",
     "output_type": "stream",
     "text": [
      "[65.  59.9 59.9 59.5 59.2 58.8 58.6 58.1 57.5 57.3 57.3 57.  56.7 56.2\n",
      " 55.3 54.8]\n"
     ]
    }
   ],
   "source": [
    "LE=np.array(Afg.iloc[0:16,3])\n",
    "print(LE)"
   ]
  },
  {
   "cell_type": "code",
   "execution_count": 46,
   "id": "23acc63f-6e6a-4c8c-b444-acdb0b7bf159",
   "metadata": {},
   "outputs": [
    {
     "data": {
      "image/png": "[encoded data removed]",
      "text/plain": [
       "<Figure size 432x288 with 1 Axes>"
      ]
     },
     "metadata": {
      "needs_background": "light"
     },
     "output_type": "display_data"
    }
   ],
   "source": [
    "x=LE\n",
    "y=hep\n",
    "plt.figure()\n",
    "plt.scatter(LE,hep,color=\"b\")\n",
    "plt.xlabel(\"LE\")\n",
    "plt.ylabel(\"hep\")\n",
    "plt.show()"
   ]
  },
  {
   "cell_type": "code",
   "execution_count": 47,
   "id": "6c790a69-ea8f-48ac-b8d7-186cc72678b2",
   "metadata": {},
   "outputs": [
    {
     "name": "stdout",
     "output_type": "stream",
     "text": [
      "slop [0.18417086]\n",
      "intercept 53.84490681174869\n",
      "MSE 2.9408796823879784\n"
     ]
    },
    {
     "data": {
      "image/png": "[encoded data removed]",
      "text/plain": [
       "<Figure size 432x288 with 1 Axes>"
      ]
     },
     "metadata": {
      "needs_background": "light"
     },
     "output_type": "display_data"
    }
   ],
   "source": [
    "LE=LE.reshape(-1,1)\n",
    "model= LinearRegression()\n",
    "model.fit(LE,hep)\n",
    "hep_pred=model.predict(LE)\n",
    "Mse = mean_squared_error(hep, hep_pred)\n",
    "print(\"slop\",model.coef_)\n",
    "print(\"intercept\", model.intercept_)\n",
    "print(\"MSE\", Mse)\n",
    "plt.figure()\n",
    "plt.scatter(LE, hep)\n",
    "plt.plot(LE,hep_pred)\n",
    "plt.xlabel(\"LE\")\n",
    "plt.ylabel(\"hep\")\n",
    "plt.show()\n"
   ]
  },
  {
   "cell_type": "code",
   "execution_count": 48,
   "id": "51e7df18-f60b-44a3-9165-293d5ee92f7c",
   "metadata": {},
   "outputs": [
    {
     "name": "stdout",
     "output_type": "stream",
     "text": [
      "[1154  492  430 2787 3013 1989 2861 1599 1141 1990 1296  466  798 2486\n",
      " 8762 6532]\n"
     ]
    }
   ],
   "source": [
    "mea=np.array(Afg.iloc[0:16,9])\n",
    "print(mea)\n",
    "\n",
    "#Measles\n"
   ]
  },
  {
   "cell_type": "code",
   "execution_count": 50,
   "id": "0389461e-8547-444a-bc93-2b58a97178ab",
   "metadata": {},
   "outputs": [
    {
     "data": {
      "image/png": "[encoded data removed]",
      "text/plain": [
       "<Figure size 432x288 with 1 Axes>"
      ]
     },
     "metadata": {
      "needs_background": "light"
     },
     "output_type": "display_data"
    }
   ],
   "source": [
    "x=mea\n",
    "y=LE\n",
    "plt.figure()\n",
    "plt.scatter(mea,LE,color=\"b\")\n",
    "plt.xlabel(\"mea\")\n",
    "plt.ylabel(\"LE\")\n",
    "plt.show()"
   ]
  },
  {
   "cell_type": "code",
   "execution_count": 56,
   "id": "d4a088f7-be4c-4703-b094-49149271fc33",
   "metadata": {},
   "outputs": [
    {
     "name": "stdout",
     "output_type": "stream",
     "text": [
      "slop [[-0.00051189]]\n",
      "intercept [59.4029695]\n",
      "MSE 4.0449323421098455\n"
     ]
    },
    {
     "data": {
      "image/png": "[encoded data removed]",
      "text/plain": [
       "<Figure size 432x288 with 1 Axes>"
      ]
     },
     "metadata": {
      "needs_background": "light"
     },
     "output_type": "display_data"
    },
    {
     "name": "stdout",
     "output_type": "stream",
     "text": [
      "slop [0.18417086]\n",
      "intercept 53.84490681174869\n",
      "MSE 2.9408796823879784\n"
     ]
    },
    {
     "data": {
      "image/png": "[encoded data removed]",
      "text/plain": [
       "<Figure size 432x288 with 1 Axes>"
      ]
     },
     "metadata": {
      "needs_background": "light"
     },
     "output_type": "display_data"
    }
   ],
   "source": [
    "mea=mea.reshape(-1,1)\n",
    "model= LinearRegression()\n",
    "model.fit(mea,LE)\n",
    "LE_pred=model.predict(mea)\n",
    "Mse = mean_squared_error(LE, LE_pred)\n",
    "print(\"slop\",model.coef_)\n",
    "print(\"intercept\", model.intercept_)\n",
    "print(\"MSE\", Mse)\n",
    "plt.figure()\n",
    "plt.scatter(mea, LE)\n",
    "plt.plot(mea,LE_pred)\n",
    "plt.xlabel(\"mea\")\n",
    "plt.ylabel(\"LE\")\n",
    "plt.show()\n"
   ]
  },
  {
   "cell_type": "code",
   "execution_count": null,
   "id": "9e2c3707-3f4c-4a93-a584-32b51e338008",
   "metadata": {},
   "outputs": [],
   "source": []
  }
 ],
 "metadata": {
  "kernelspec": {
   "display_name": "Python 3",
   "language": "python",
   "name": "python3"
  },
  "language_info": {
   "codemirror_mode": {
    "name": "ipython",
    "version": 3
   },
   "file_extension": ".py",
   "mimetype": "text/x-python",
   "name": "python",
   "nbconvert_exporter": "python",
   "pygments_lexer": "ipython3",
   "version": "3.8.8"
  }
 },
 "nbformat": 4,
 "nbformat_minor": 5
}
