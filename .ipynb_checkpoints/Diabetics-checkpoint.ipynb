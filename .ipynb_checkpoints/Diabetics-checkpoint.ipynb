{
 "cells": [
  {
   "cell_type": "code",
   "execution_count": 3,
   "id": "6731b748-8b7b-479a-a058-a868b4a69539",
   "metadata": {},
   "outputs": [],
   "source": [
    "import pandas as pd"
   ]
  },
  {
   "cell_type": "code",
   "execution_count": 2,
   "id": "b46e5d69-2041-48b2-bd9d-8982653d675b",
   "metadata": {},
   "outputs": [],
   "source": [
    "import numpy as np"
   ]
  },
  {
   "cell_type": "code",
   "execution_count": 63,
   "id": "7893b00b-69d9-4820-9123-1795aa420f24",
   "metadata": {},
   "outputs": [],
   "source": [
    "import matplotlib.pyplot as plt"
   ]
  },
  {
   "cell_type": "code",
   "execution_count": 7,
   "id": "d085bfce-9bf8-448f-a21a-f2a6fbe20060",
   "metadata": {},
   "outputs": [
    {
     "name": "stdout",
     "output_type": "stream",
     "text": [
      "          AGE\\tSEX\\tBMI\\tBP\\tS1\\tS2\\tS3\\tS4\\tS5\\tS6\\tY\n",
      "0    59\\t2\\t32.1\\t101\\t157\\t93.2\\t38\\t4\\t4.8598\\t87...\n",
      "1    48\\t1\\t21.6\\t87\\t183\\t103.2\\t70\\t3\\t3.8918\\t69...\n",
      "2    72\\t2\\t30.5\\t93\\t156\\t93.6\\t41\\t4\\t4.6728\\t85\\...\n",
      "3    24\\t1\\t25.3\\t84\\t198\\t131.4\\t40\\t5\\t4.8903\\t89...\n",
      "4    50\\t1\\t23\\t101\\t192\\t125.4\\t52\\t4\\t4.2905\\t80\\...\n",
      "..                                                 ...\n",
      "437  60\\t2\\t28.2\\t112\\t185\\t113.8\\t42\\t4\\t4.9836\\t9...\n",
      "438  47\\t2\\t24.9\\t75\\t225\\t166\\t42\\t5\\t4.4427\\t102\\...\n",
      "439  60\\t2\\t24.9\\t99.67\\t162\\t106.6\\t43\\t3.77\\t4.12...\n",
      "440  36\\t1\\t30\\t95\\t201\\t125.2\\t42\\t4.79\\t5.1299\\t8...\n",
      "441  36\\t1\\t19.6\\t71\\t250\\t133.2\\t97\\t3\\t4.5951\\t92...\n",
      "\n",
      "[442 rows x 1 columns]\n"
     ]
    }
   ],
   "source": [
    "db= pd.read_csv(\"diabetes.tab.txt\")\n",
    "print(db)"
   ]
  },
  {
   "cell_type": "code",
   "execution_count": 5,
   "id": "caec4e76-799e-45db-852c-2d70b078a046",
   "metadata": {},
   "outputs": [
    {
     "name": "stdout",
     "output_type": "stream",
     "text": [
      "     AGE  SEX   BMI      BP   S1     S2    S3    S4      S5   S6    Y\n",
      "0     59    2  32.1  101.00  157   93.2  38.0  4.00  4.8598   87  151\n",
      "1     48    1  21.6   87.00  183  103.2  70.0  3.00  3.8918   69   75\n",
      "2     72    2  30.5   93.00  156   93.6  41.0  4.00  4.6728   85  141\n",
      "3     24    1  25.3   84.00  198  131.4  40.0  5.00  4.8903   89  206\n",
      "4     50    1  23.0  101.00  192  125.4  52.0  4.00  4.2905   80  135\n",
      "..   ...  ...   ...     ...  ...    ...   ...   ...     ...  ...  ...\n",
      "437   60    2  28.2  112.00  185  113.8  42.0  4.00  4.9836   93  178\n",
      "438   47    2  24.9   75.00  225  166.0  42.0  5.00  4.4427  102  104\n",
      "439   60    2  24.9   99.67  162  106.6  43.0  3.77  4.1271   95  132\n",
      "440   36    1  30.0   95.00  201  125.2  42.0  4.79  5.1299   85  220\n",
      "441   36    1  19.6   71.00  250  133.2  97.0  3.00  4.5951   92   57\n",
      "\n",
      "[442 rows x 11 columns]\n"
     ]
    }
   ],
   "source": [
    "db= pd.read_csv(\"diabetes.tab.txt\",sep=\"\\t\")\n",
    "print(db)"
   ]
  },
  {
   "cell_type": "code",
   "execution_count": 6,
   "id": "55ecb7bc-4b3e-4d76-8f48-91e2f07e96c5",
   "metadata": {},
   "outputs": [
    {
     "data": {
      "text/plain": [
       "AGE     48.518100\n",
       "SEX      1.468326\n",
       "BMI     26.375792\n",
       "BP      94.647014\n",
       "S1     189.140271\n",
       "S2     115.439140\n",
       "S3      49.788462\n",
       "S4       4.070249\n",
       "S5       4.641411\n",
       "S6      91.260181\n",
       "Y      152.133484\n",
       "dtype: float64"
      ]
     },
     "execution_count": 6,
     "metadata": {},
     "output_type": "execute_result"
    }
   ],
   "source": [
    "db.mean()"
   ]
  },
  {
   "cell_type": "code",
   "execution_count": 7,
   "id": "e67ee8a9-9ff5-427d-b9b1-e1e8bb6c7370",
   "metadata": {},
   "outputs": [
    {
     "data": {
      "text/plain": [
       "AGE     171.846610\n",
       "SEX       0.249561\n",
       "BMI      19.519798\n",
       "BP      191.304401\n",
       "S1     1197.717241\n",
       "S2      924.955494\n",
       "S3      167.293585\n",
       "S4        1.665261\n",
       "S5        0.272892\n",
       "S6      132.165712\n",
       "Y      5943.331348\n",
       "dtype: float64"
      ]
     },
     "execution_count": 7,
     "metadata": {},
     "output_type": "execute_result"
    }
   ],
   "source": [
    "db.var()"
   ]
  },
  {
   "cell_type": "code",
   "execution_count": 11,
   "id": "af289d9c-8714-4b49-88e8-974a9901f46f",
   "metadata": {},
   "outputs": [
    {
     "name": "stdout",
     "output_type": "stream",
     "text": [
      "      BMI      BP    Y\n",
      "0    32.1  101.00  151\n",
      "1    21.6   87.00   75\n",
      "2    30.5   93.00  141\n",
      "3    25.3   84.00  206\n",
      "4    23.0  101.00  135\n",
      "..    ...     ...  ...\n",
      "437  28.2  112.00  178\n",
      "438  24.9   75.00  104\n",
      "439  24.9   99.67  132\n",
      "440  30.0   95.00  220\n",
      "441  19.6   71.00   57\n",
      "\n",
      "[442 rows x 3 columns]\n"
     ]
    }
   ],
   "source": [
    "mydb=db[[\"BMI\",\"BP\",\"Y\"]]\n",
    "print(mydb)"
   ]
  },
  {
   "cell_type": "code",
   "execution_count": 66,
   "id": "da70935d-be84-49ed-8939-52f7693c1715",
   "metadata": {},
   "outputs": [
    {
     "name": "stdout",
     "output_type": "stream",
     "text": [
      "     AGE  SEX   BMI     BP   S1     S2    S3    S4      S5  S6    Y\n",
      "1     48    1  21.6   87.0  183  103.2  70.0  3.00  3.8918  69   75\n",
      "3     24    1  25.3   84.0  198  131.4  40.0  5.00  4.8903  89  206\n",
      "4     50    1  23.0  101.0  192  125.4  52.0  4.00  4.2905  80  135\n",
      "5     23    1  22.6   89.0  139   64.8  61.0  2.00  4.1897  68   97\n",
      "9     29    1  30.0   85.0  180   93.4  43.0  4.00  5.3845  88  310\n",
      "..   ...  ...   ...    ...  ...    ...   ...   ...     ...  ..  ...\n",
      "434   53    1  26.5   97.0  193  122.4  58.0  3.00  4.1431  99   49\n",
      "435   45    1  24.2   83.0  177  118.4  45.0  4.00  4.2195  82   64\n",
      "436   33    1  19.5   80.0  171   85.4  75.0  2.00  3.9703  80   48\n",
      "440   36    1  30.0   95.0  201  125.2  42.0  4.79  5.1299  85  220\n",
      "441   36    1  19.6   71.0  250  133.2  97.0  3.00  4.5951  92   57\n",
      "\n",
      "[235 rows x 11 columns]\n"
     ]
    }
   ],
   "source": [
    "db1=db.loc[db[\"SEX\"]==1]\n",
    "print(db1)\n",
    "#gr1 = db.groupby('SEX')\n",
    "#print(gr1.get_group(1))\n",
    "    "
   ]
  },
  {
   "cell_type": "code",
   "execution_count": 67,
   "id": "d599b67e-0d81-4a3c-8337-370bace504fd",
   "metadata": {},
   "outputs": [
    {
     "name": "stdout",
     "output_type": "stream",
     "text": [
      "      BMI     BP    Y\n",
      "1    21.6   87.0   75\n",
      "3    25.3   84.0  206\n",
      "4    23.0  101.0  135\n",
      "5    22.6   89.0   97\n",
      "9    30.0   85.0  310\n",
      "..    ...    ...  ...\n",
      "434  26.5   97.0   49\n",
      "435  24.2   83.0   64\n",
      "436  19.5   80.0   48\n",
      "440  30.0   95.0  220\n",
      "441  19.6   71.0   57\n",
      "\n",
      "[235 rows x 3 columns]\n"
     ]
    }
   ],
   "source": [
    "dbx=db1[[\"BMI\",\"BP\",\"Y\"]]\n",
    "print(dbx)"
   ]
  },
  {
   "cell_type": "code",
   "execution_count": 41,
   "id": "7930e34c-8f74-4d25-abf0-b58a59d6e96f",
   "metadata": {},
   "outputs": [
    {
     "name": "stdout",
     "output_type": "stream",
     "text": [
      "     AGE  SEX   BMI      BP   S1     S2    S3    S4      S5   S6    Y\n",
      "0     59    2  32.1  101.00  157   93.2  38.0  4.00  4.8598   87  151\n",
      "2     72    2  30.5   93.00  156   93.6  41.0  4.00  4.6728   85  141\n",
      "6     36    2  22.0   90.00  160   99.6  50.0  3.00  3.9512   82  138\n",
      "7     66    2  26.2  114.00  255  185.0  56.0  4.55  4.2485   92   63\n",
      "8     60    2  32.1   83.00  179  119.4  42.0  4.00  4.4773   94  110\n",
      "..   ...  ...   ...     ...  ...    ...   ...   ...     ...  ...  ...\n",
      "428   62    2  34.6  120.00  215  129.2  43.0  5.00  5.3660  123  310\n",
      "431   68    2  23.5  101.00  162   85.4  59.0  3.00  4.4773   91   66\n",
      "437   60    2  28.2  112.00  185  113.8  42.0  4.00  4.9836   93  178\n",
      "438   47    2  24.9   75.00  225  166.0  42.0  5.00  4.4427  102  104\n",
      "439   60    2  24.9   99.67  162  106.6  43.0  3.77  4.1271   95  132\n",
      "\n",
      "[207 rows x 11 columns]\n"
     ]
    }
   ],
   "source": [
    "db2=db.loc[db[\"SEX\"]==2]\n",
    "print(db2)\n",
    "#gr2 = db.groupby('SEX')\n",
    "#print(gr2.get_group(2))"
   ]
  },
  {
   "cell_type": "code",
   "execution_count": 45,
   "id": "5ed18f37-0ab0-4831-8b4f-cd35c02ca5dd",
   "metadata": {},
   "outputs": [
    {
     "name": "stdout",
     "output_type": "stream",
     "text": [
      "      BMI      BP    Y\n",
      "0    32.1  101.00  151\n",
      "1    21.6   87.00   75\n",
      "2    30.5   93.00  141\n",
      "3    25.3   84.00  206\n",
      "4    23.0  101.00  135\n",
      "..    ...     ...  ...\n",
      "437  28.2  112.00  178\n",
      "438  24.9   75.00  104\n",
      "439  24.9   99.67  132\n",
      "440  30.0   95.00  220\n",
      "441  19.6   71.00   57\n",
      "\n",
      "[442 rows x 3 columns]\n"
     ]
    }
   ],
   "source": [
    "dby=db2[[\"BMI\",\"BP\",\"Y\"]]\n",
    "print(dby)"
   ]
  },
  {
   "cell_type": "code",
   "execution_count": 64,
   "id": "17cae43a-6bbb-4b76-ab08-b0399f2bb962",
   "metadata": {},
   "outputs": [
    {
     "data": {
      "image/png": "[encoded data removed]",
      "text/plain": [
       "<Figure size 432x288 with 1 Axes>"
      ]
     },
     "metadata": {
      "needs_background": "light"
     },
     "output_type": "display_data"
    },
    {
     "data": {
      "image/png": "[encoded data removed]",
      "text/plain": [
       "<Figure size 432x288 with 1 Axes>"
      ]
     },
     "metadata": {
      "needs_background": "light"
     },
     "output_type": "display_data"
    },
    {
     "data": {
      "image/png": "[encoded data removed]",
      "text/plain": [
       "<Figure size 432x288 with 1 Axes>"
      ]
     },
     "metadata": {
      "needs_background": "light"
     },
     "output_type": "display_data"
    }
   ],
   "source": [
    "for col in [\"BMI\",\"BP\",\"Y\"]:\n",
    "    db.boxplot(column=col, by = \"SEX\")\n",
    "plt.show()"
   ]
  },
  {
   "cell_type": "code",
   "execution_count": 65,
   "id": "ef8592f9-ecea-4699-b23b-672ed4d6434b",
   "metadata": {},
   "outputs": [
    {
     "data": {
      "image/png": "[encoded data removed]",
      "text/plain": [
       "<Figure size 432x288 with 1 Axes>"
      ]
     },
     "metadata": {
      "needs_background": "light"
     },
     "output_type": "display_data"
    },
    {
     "data": {
      "image/png": "[encoded data removed]",
      "text/plain": [
       "<Figure size 432x288 with 1 Axes>"
      ]
     },
     "metadata": {
      "needs_background": "light"
     },
     "output_type": "display_data"
    },
    {
     "data": {
      "image/png": "[encoded data removed]",
      "text/plain": [
       "<Figure size 432x288 with 1 Axes>"
      ]
     },
     "metadata": {
      "needs_background": "light"
     },
     "output_type": "display_data"
    },
    {
     "data": {
      "image/png": "[encoded data removed]",
      "text/plain": [
       "<Figure size 432x288 with 1 Axes>"
      ]
     },
     "metadata": {
      "needs_background": "light"
     },
     "output_type": "display_data"
    }
   ],
   "source": [
    "for col in [\"AGE\",\"SEX\",\"BMI\",\"Y\"]:\n",
    "    db[col].hist()\n",
    "    plt.show()"
   ]
  },
  {
   "cell_type": "code",
   "execution_count": null,
   "id": "fcc09dfd-43d0-4bd7-81bc-dbf2b58df0ed",
   "metadata": {},
   "outputs": [],
   "source": []
  }
 ],
 "metadata": {
  "kernelspec": {
   "display_name": "Python 3",
   "language": "python",
   "name": "python3"
  },
  "language_info": {
   "codemirror_mode": {
    "name": "ipython",
    "version": 3
   },
   "file_extension": ".py",
   "mimetype": "text/x-python",
   "name": "python",
   "nbconvert_exporter": "python",
   "pygments_lexer": "ipython3",
   "version": "3.8.8"
  }
 },
 "nbformat": 4,
 "nbformat_minor": 5
}
