{
 "cells": [
  {
   "cell_type": "code",
   "execution_count": 4,
   "id": "a6ce6eb6-b2c8-4acd-b698-7e0fcbc7c39f",
   "metadata": {},
   "outputs": [],
   "source": [
    "import numpy as np\n",
    "import pandas as pd\n",
    "import matplotlib.pyplot as plt\n",
    "import seaborn as sns\n",
    "from sklearn.linear_model import LinearRegression\n",
    "from sklearn.metrics import mean_squared_error\n",
    "from sklearn.model_selection import train_test_split"
   ]
  },
  {
   "cell_type": "code",
   "execution_count": 3,
   "id": "90f9fee7-3866-4f30-b108-6ab719430649",
   "metadata": {},
   "outputs": [
    {
     "name": "stdout",
     "output_type": "stream",
     "text": [
      "    YearsExperience    Salary\n",
      "0               1.1   39343.0\n",
      "1               1.3   46205.0\n",
      "2               1.5   37731.0\n",
      "3               2.0   43525.0\n",
      "4               2.2   39891.0\n",
      "5               2.9   56642.0\n",
      "6               3.0   60150.0\n",
      "7               3.2   54445.0\n",
      "8               3.2   64445.0\n",
      "9               3.7   57189.0\n",
      "10              3.9   63218.0\n",
      "11              4.0   55794.0\n",
      "12              4.0   56957.0\n",
      "13              4.1   57081.0\n",
      "14              4.5   61111.0\n",
      "15              4.9   67938.0\n",
      "16              5.1   66029.0\n",
      "17              5.3   83088.0\n",
      "18              5.9   81363.0\n",
      "19              6.0   93940.0\n",
      "20              6.8   91738.0\n",
      "21              7.1   98273.0\n",
      "22              7.9  101302.0\n",
      "23              8.2  113812.0\n",
      "24              8.7  109431.0\n",
      "25              9.0  105582.0\n",
      "26              9.5  116969.0\n",
      "27              9.6  112635.0\n",
      "28             10.3  122391.0\n",
      "29             10.5  121872.0\n"
     ]
    }
   ],
   "source": [
    "Sal = pd.read_csv(\"Salary_Data.csv\")\n",
    "print(Sal)"
   ]
  },
  {
   "cell_type": "code",
   "execution_count": 16,
   "id": "c36081a9-9eab-4d61-8f45-14f011a133d3",
   "metadata": {},
   "outputs": [
    {
     "data": {
      "image/png": "[encoded data removed]",
      "text/plain": [
       "<Figure size 432x288 with 1 Axes>"
      ]
     },
     "metadata": {
      "needs_background": "light"
     },
     "output_type": "display_data"
    },
    {
     "name": "stdout",
     "output_type": "stream",
     "text": [
      "model coef. = [[9345.94244312]]\n",
      "Intercept = [26816.19224403]\n",
      "MSE = 5639633524.427\n"
     ]
    }
   ],
   "source": [
    "x = Sal[\"YearsExperience\"]\n",
    "y = Sal[\"Salary\"]\n",
    "x = np.array(x).reshape(-1,1)\n",
    "y = np.array(y).reshape(-1,1)\n",
    "# Data splitting into test and train\n",
    "X_train, X_test, Y_train, Y_test = train_test_split(x,y,test_size = 1/3, random_state = 0)\n",
    "# Fitting into a simple linear regression model\n",
    "model = LinearRegression()\n",
    "model.fit(X_train,Y_train)\n",
    "salary_pred_test = model.predict(X_test)\n",
    "salary_pred_train = model.predict(X_train)\n",
    "Mse = mean_squared_error(X_train, Y_train)\n",
    "#Visualizng Result\n",
    "plt.scatter(X_train,Y_train, color = \"red\")\n",
    "plt.plot(X_train,salary_pred_train)\n",
    "plt.title(\"Salary vs Experience\")\n",
    "plt.xlabel(\"Experience\")\n",
    "plt.ylabel(\"Salary\")\n",
    "plt.show()\n",
    "print(\"model coef. =\", model.coef_)\n",
    "print(\"Intercept =\", model.intercept_)\n",
    "print(\"MSE =\", Mse)"
   ]
  },
  {
   "cell_type": "code",
   "execution_count": null,
   "id": "19179c03-be1d-4a7c-bedf-430cc31fad08",
   "metadata": {},
   "outputs": [],
   "source": []
  }
 ],
 "metadata": {
  "kernelspec": {
   "display_name": "Python 3",
   "language": "python",
   "name": "python3"
  },
  "language_info": {
   "codemirror_mode": {
    "name": "ipython",
    "version": 3
   },
   "file_extension": ".py",
   "mimetype": "text/x-python",
   "name": "python",
   "nbconvert_exporter": "python",
   "pygments_lexer": "ipython3",
   "version": "3.8.8"
  }
 },
 "nbformat": 4,
 "nbformat_minor": 5
}
