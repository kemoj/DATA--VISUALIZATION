{
 "cells": [
  {
   "cell_type": "code",
   "execution_count": 57,
   "id": "17e5bb9d-e740-4ef5-8ad4-c2b1c6fbc39a",
   "metadata": {},
   "outputs": [],
   "source": [
    "import numpy as np\n"
   ]
  },
  {
   "cell_type": "code",
   "execution_count": 56,
   "id": "5bcb9783-8b8d-43ef-af1f-1d2f38d62299",
   "metadata": {},
   "outputs": [],
   "source": [
    "\n",
    "import pandas as pd"
   ]
  },
  {
   "cell_type": "code",
   "execution_count": 50,
   "id": "7892972c-319d-40d2-b736-800276d55567",
   "metadata": {},
   "outputs": [
    {
     "name": "stdout",
     "output_type": "stream",
     "text": [
      "   Agric  Health  Edu  Sport  Work\n",
      "0    780     450  125     70   500\n",
      "1    750     430  175     75   507\n",
      "2    720     415  120     72   520\n",
      "3    715     420  115     71   515\n",
      "4    700     410  100     70   507\n",
      "5    770     440  170     77   570\n",
      "6    730     435  130     73   530\n"
     ]
    }
   ],
   "source": [
    "budget= pd.DataFrame({\"Agric\":[780,750,720,715,700,770,730],\n",
    "       \"Health\":[450,430,415,420,410,440,435],\n",
    "        \"Edu\":[125,175,120,115,100,170,130],\n",
    "        \"Sport\":[70,75,72,71,70,77,73],\n",
    "        \"Work\":[500,507,520,515,507,570,530]\n",
    "})\n",
    "print(budget)\n",
    "budget.index.name=\"item\"\n"
   ]
  },
  {
   "cell_type": "code",
   "execution_count": 35,
   "id": "c79c2efb-7c52-4ddb-b691-ca1c3d9d24a5",
   "metadata": {},
   "outputs": [
    {
     "name": "stdout",
     "output_type": "stream",
     "text": [
      "      Agric  Health  Sport  Work  maint  sport\n",
      "item                                          \n",
      "0       780     450     70  1600    0.0    NaN\n",
      "1       750     430     75   507    1.0    NaN\n",
      "2       720     415     72   520    NaN    NaN\n",
      "3       715     420     71   515    NaN    NaN\n",
      "4       700     410     70   507    NaN    NaN\n",
      "5       770     440     77   570    NaN    NaN\n",
      "6       730     435     73   530    NaN    NaN\n"
     ]
    },
    {
     "name": "stderr",
     "output_type": "stream",
     "text": [
      "<ipython-input-35-2882140e9477>:10: SettingWithCopyWarning: \n",
      "A value is trying to be set on a copy of a slice from a DataFrame\n",
      "\n",
      "See the caveats in the documentation: https://pandas.pydata.org/pandas-docs/stable/user_guide/indexing.html#returning-a-view-versus-a-copy\n",
      "  budget[\"Work\"][0]=1600\n"
     ]
    }
   ],
   "source": [
    "print(budget)\n",
    "#creating diff val\n",
    "budget[\"health\"]= [500,1250,5000,2000,5000,2006,3400]\n",
    "\n",
    "#usingnp.arange\n",
    "Ser = pd.Series(np.arange(0))\n",
    "budget[\"sport\"]= Ser\n",
    "\n",
    "#updating single value\n",
    "budget[\"Work\"][0]=1600\n",
    "\n",
    "#deleting a column\n",
    "del budget[\"Edu\"]\n",
    "\n",
    "\n",
    "\n"
   ]
  },
  {
   "cell_type": "code",
   "execution_count": 38,
   "id": "3d5aea15-9720-4e5f-a2b3-92708833e97b",
   "metadata": {},
   "outputs": [
    {
     "name": "stdout",
     "output_type": "stream",
     "text": [
      "      Agric  Health  Sport  Work  maint  sport\n",
      "item                                          \n",
      "0       780     450     70  1600    0.0    NaN\n",
      "1       750     430     75   507    1.0    NaN\n",
      "2       720     415     72   520    NaN    NaN\n",
      "3       715     420     71   515    NaN    NaN\n",
      "4       700     410     70   507    NaN    NaN\n",
      "5       770     440     77   570    NaN    NaN\n",
      "6       730     435     73   530    NaN    NaN\n"
     ]
    },
    {
     "data": {
      "text/html": [
       "<div>\n",
       "<style scoped>\n",
       "    .dataframe tbody tr th:only-of-type {\n",
       "        vertical-align: middle;\n",
       "    }\n",
       "\n",
       "    .dataframe tbody tr th {\n",
       "        vertical-align: top;\n",
       "    }\n",
       "\n",
       "    .dataframe thead th {\n",
       "        text-align: right;\n",
       "    }\n",
       "</style>\n",
       "<table border=\"1\" class=\"dataframe\">\n",
       "  <thead>\n",
       "    <tr style=\"text-align: right;\">\n",
       "      <th>item</th>\n",
       "      <th>0</th>\n",
       "      <th>1</th>\n",
       "      <th>2</th>\n",
       "      <th>3</th>\n",
       "      <th>4</th>\n",
       "      <th>5</th>\n",
       "      <th>6</th>\n",
       "    </tr>\n",
       "  </thead>\n",
       "  <tbody>\n",
       "    <tr>\n",
       "      <th>Agric</th>\n",
       "      <td>780.0</td>\n",
       "      <td>750.0</td>\n",
       "      <td>720.0</td>\n",
       "      <td>715.0</td>\n",
       "      <td>700.0</td>\n",
       "      <td>770.0</td>\n",
       "      <td>730.0</td>\n",
       "    </tr>\n",
       "    <tr>\n",
       "      <th>Health</th>\n",
       "      <td>450.0</td>\n",
       "      <td>430.0</td>\n",
       "      <td>415.0</td>\n",
       "      <td>420.0</td>\n",
       "      <td>410.0</td>\n",
       "      <td>440.0</td>\n",
       "      <td>435.0</td>\n",
       "    </tr>\n",
       "    <tr>\n",
       "      <th>Sport</th>\n",
       "      <td>70.0</td>\n",
       "      <td>75.0</td>\n",
       "      <td>72.0</td>\n",
       "      <td>71.0</td>\n",
       "      <td>70.0</td>\n",
       "      <td>77.0</td>\n",
       "      <td>73.0</td>\n",
       "    </tr>\n",
       "    <tr>\n",
       "      <th>Work</th>\n",
       "      <td>1600.0</td>\n",
       "      <td>507.0</td>\n",
       "      <td>520.0</td>\n",
       "      <td>515.0</td>\n",
       "      <td>507.0</td>\n",
       "      <td>570.0</td>\n",
       "      <td>530.0</td>\n",
       "    </tr>\n",
       "    <tr>\n",
       "      <th>maint</th>\n",
       "      <td>0.0</td>\n",
       "      <td>1.0</td>\n",
       "      <td>NaN</td>\n",
       "      <td>NaN</td>\n",
       "      <td>NaN</td>\n",
       "      <td>NaN</td>\n",
       "      <td>NaN</td>\n",
       "    </tr>\n",
       "    <tr>\n",
       "      <th>sport</th>\n",
       "      <td>NaN</td>\n",
       "      <td>NaN</td>\n",
       "      <td>NaN</td>\n",
       "      <td>NaN</td>\n",
       "      <td>NaN</td>\n",
       "      <td>NaN</td>\n",
       "      <td>NaN</td>\n",
       "    </tr>\n",
       "  </tbody>\n",
       "</table>\n",
       "</div>"
      ],
      "text/plain": [
       "item         0      1      2      3      4      5      6\n",
       "Agric    780.0  750.0  720.0  715.0  700.0  770.0  730.0\n",
       "Health   450.0  430.0  415.0  420.0  410.0  440.0  435.0\n",
       "Sport     70.0   75.0   72.0   71.0   70.0   77.0   73.0\n",
       "Work    1600.0  507.0  520.0  515.0  507.0  570.0  530.0\n",
       "maint      0.0    1.0    NaN    NaN    NaN    NaN    NaN\n",
       "sport      NaN    NaN    NaN    NaN    NaN    NaN    NaN"
      ]
     },
     "execution_count": 38,
     "metadata": {},
     "output_type": "execute_result"
    }
   ],
   "source": [
    "print(budget)\n",
    "budget[budget<5000\n",
    "       \n",
    "#Transpose\n",
    "budget.T"
   ]
  },
  {
   "cell_type": "code",
   "execution_count": 89,
   "id": "a61ea189-b383-46f9-bf64-8f6e19654f9e",
   "metadata": {},
   "outputs": [
    {
     "name": "stdout",
     "output_type": "stream",
     "text": [
      "['Edu']\n",
      "red       0\n",
      "yellow    1\n",
      "blue      2\n",
      "green     3\n",
      "white     4\n",
      "brown     5\n",
      "dtype: int32\n"
     ]
    },
    {
     "ename": "NameError",
     "evalue": "name 'drop' is not defined",
     "output_type": "error",
     "traceback": [
      "\u001b[1;31m---------------------------------------------------------------------------\u001b[0m",
      "\u001b[1;31mNameError\u001b[0m                                 Traceback (most recent call last)",
      "\u001b[1;32m<ipython-input-89-55e4a92e4e4e>\u001b[0m in \u001b[0;36m<module>\u001b[1;34m\u001b[0m\n\u001b[0;32m      5\u001b[0m \u001b[0mser1\u001b[0m\u001b[1;33m.\u001b[0m\u001b[0midxmin\u001b[0m\u001b[1;33m(\u001b[0m\u001b[1;33m)\u001b[0m\u001b[1;33m\u001b[0m\u001b[1;33m\u001b[0m\u001b[0m\n\u001b[0;32m      6\u001b[0m \u001b[1;33m\u001b[0m\u001b[0m\n\u001b[1;32m----> 7\u001b[1;33m \u001b[0mdrop\u001b[0m\u001b[1;33m(\u001b[0m\u001b[1;33m)\u001b[0m\u001b[1;33m\u001b[0m\u001b[1;33m\u001b[0m\u001b[0m\n\u001b[0m\u001b[0;32m      8\u001b[0m \u001b[0mbudget\u001b[0m\u001b[1;33m.\u001b[0m\u001b[0mdrop\u001b[0m\u001b[1;33m(\u001b[0m\u001b[1;33m[\u001b[0m\u001b[1;34m\"yellow\"\u001b[0m\u001b[1;33m,\u001b[0m\u001b[1;34m\"red\"\u001b[0m\u001b[1;33m]\u001b[0m\u001b[1;33m)\u001b[0m\u001b[1;33m\u001b[0m\u001b[1;33m\u001b[0m\u001b[0m\n",
      "\u001b[1;31mNameError\u001b[0m: name 'drop' is not defined"
     ]
    }
   ],
   "source": [
    "print(budget)\n",
    "ser1=pd.Series(np.arange(6),index=[\"red\",\"yellow\",\"blue\",\"green\",\"white\",\"brown\"])\n",
    "print(ser1)\n",
    "ser1.idxmax()\n",
    "ser1.idxmin()\n"
   ]
  },
  {
   "cell_type": "code",
   "execution_count": 93,
   "id": "f7ce135f-b060-4a13-83f6-82d862c85e7d",
   "metadata": {},
   "outputs": [
    {
     "ename": "SyntaxError",
     "evalue": "invalid syntax (<ipython-input-93-25b47f1a6391>, line 6)",
     "output_type": "error",
     "traceback": [
      "\u001b[1;36m  File \u001b[1;32m\"<ipython-input-93-25b47f1a6391>\"\u001b[1;36m, line \u001b[1;32m6\u001b[0m\n\u001b[1;33m    }index=[\"red\",\"yellow\",\"blue\",\"green\",\"white\",\"brown\"])\u001b[0m\n\u001b[1;37m     ^\u001b[0m\n\u001b[1;31mSyntaxError\u001b[0m\u001b[1;31m:\u001b[0m invalid syntax\n"
     ]
    }
   ],
   "source": [
    "budget= pd.DataFrame({\"Agric\":[780,750,720,715,700,770,730],\n",
    "       \"Health\":[450,430,415,420,410,440,435],\n",
    "        \"Edu\":[125,175,120,115,100,170,130],\n",
    "        \"Sport\":[70,75,72,71,70,77,73],\n",
    "        \"Work\":[500,507,520,515,507,570,530]\n",
    "}index=[\"red\",\"yellow\",\"blue\",\"green\",\"white\",\"brown\"])\n",
    "print(budget)\n",
    "drop()\n",
    "budget.drop([\"yellow\",\"red\"])\n"
   ]
  },
  {
   "cell_type": "code",
   "execution_count": 84,
   "id": "937c283d-495a-49dc-a634-ce0ace094466",
   "metadata": {},
   "outputs": [
    {
     "name": "stdout",
     "output_type": "stream",
     "text": [
      "['Edu']\n"
     ]
    },
    {
     "ename": "AttributeError",
     "evalue": "'list' object has no attribute 'drop'",
     "output_type": "error",
     "traceback": [
      "\u001b[1;31m---------------------------------------------------------------------------\u001b[0m",
      "\u001b[1;31mAttributeError\u001b[0m                            Traceback (most recent call last)",
      "\u001b[1;32m<ipython-input-84-baa0390fd76e>\u001b[0m in \u001b[0;36m<module>\u001b[1;34m\u001b[0m\n\u001b[0;32m      8\u001b[0m \u001b[0mbudget\u001b[0m\u001b[1;33m=\u001b[0m\u001b[1;33m[\u001b[0m\u001b[1;34m\"Edu\"\u001b[0m\u001b[1;33m]\u001b[0m\u001b[1;33m\u001b[0m\u001b[1;33m\u001b[0m\u001b[0m\n\u001b[0;32m      9\u001b[0m \u001b[0mprint\u001b[0m\u001b[1;33m(\u001b[0m\u001b[0mbudget\u001b[0m\u001b[1;33m)\u001b[0m\u001b[1;33m\u001b[0m\u001b[1;33m\u001b[0m\u001b[0m\n\u001b[1;32m---> 10\u001b[1;33m \u001b[0mbudget\u001b[0m\u001b[1;33m.\u001b[0m\u001b[0mdrop\u001b[0m\u001b[1;33m(\u001b[0m\u001b[1;34m\"red\"\u001b[0m\u001b[1;33m)\u001b[0m\u001b[1;33m\u001b[0m\u001b[1;33m\u001b[0m\u001b[0m\n\u001b[0m",
      "\u001b[1;31mAttributeError\u001b[0m: 'list' object has no attribute 'drop'"
     ]
    }
   ],
   "source": [
    "budget= pd.DataFrame({\"Agric\":[780,750,720,715,700,770,730],\n",
    "       \"Health\":[450,430,415,420,410,440,435],\n",
    "        \"Edu\":[125,175,120,115,100,170,130],\n",
    "        \"Sport\":[70,75,72,71,70,77,73],\n",
    "        \"Work\":[500,507,520,515,507,570,530]\n",
    "})\n",
    "                  \n",
    "budget=[\"Edu\"]\n",
    "print(budget)\n"
   ]
  },
  {
   "cell_type": "code",
   "execution_count": null,
   "id": "9d566b8a-073c-4c1c-b991-81fab4a15a26",
   "metadata": {},
   "outputs": [],
   "source": []
  },
  {
   "cell_type": "code",
   "execution_count": null,
   "id": "6ff15d45-d0ad-401e-83ea-164937b23495",
   "metadata": {},
   "outputs": [],
   "source": []
  },
  {
   "cell_type": "code",
   "execution_count": null,
   "id": "bc6a0b1a-3e40-45b7-85ff-8793e8a35be8",
   "metadata": {},
   "outputs": [],
   "source": []
  }
 ],
 "metadata": {
  "kernelspec": {
   "display_name": "Python 3",
   "language": "python",
   "name": "python3"
  },
  "language_info": {
   "codemirror_mode": {
    "name": "ipython",
    "version": 3
   },
   "file_extension": ".py",
   "mimetype": "text/x-python",
   "name": "python",
   "nbconvert_exporter": "python",
   "pygments_lexer": "ipython3",
   "version": "3.8.8"
  }
 },
 "nbformat": 4,
 "nbformat_minor": 5
}
