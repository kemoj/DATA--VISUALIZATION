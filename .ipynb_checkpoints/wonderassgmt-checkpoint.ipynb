{
 "cells": [
  {
   "cell_type": "code",
   "execution_count": 2,
   "id": "0ed46b43-7c08-4bbe-a297-12b10133566b",
   "metadata": {},
   "outputs": [],
   "source": [
    "import pandas as pd\n",
    "import numpy as np"
   ]
  },
  {
   "cell_type": "code",
   "execution_count": 6,
   "id": "efc2c048-bc95-4ec0-98f4-8b51707fbd88",
   "metadata": {},
   "outputs": [
    {
     "data": {
      "text/html": [
       "<div>\n",
       "<style scoped>\n",
       "    .dataframe tbody tr th:only-of-type {\n",
       "        vertical-align: middle;\n",
       "    }\n",
       "\n",
       "    .dataframe tbody tr th {\n",
       "        vertical-align: top;\n",
       "    }\n",
       "\n",
       "    .dataframe thead th {\n",
       "        text-align: right;\n",
       "    }\n",
       "</style>\n",
       "<table border=\"1\" class=\"dataframe\">\n",
       "  <thead>\n",
       "    <tr style=\"text-align: right;\">\n",
       "      <th></th>\n",
       "      <th>Year</th>\n",
       "      <th>Type of Offence</th>\n",
       "      <th>M</th>\n",
       "      <th>F</th>\n",
       "      <th>F%</th>\n",
       "    </tr>\n",
       "  </thead>\n",
       "  <tbody>\n",
       "    <tr>\n",
       "      <th>0</th>\n",
       "      <td>2013</td>\n",
       "      <td>Debt</td>\n",
       "      <td>618</td>\n",
       "      <td>28</td>\n",
       "      <td>4.33</td>\n",
       "    </tr>\n",
       "    <tr>\n",
       "      <th>1</th>\n",
       "      <td>2013</td>\n",
       "      <td>Arson</td>\n",
       "      <td>685</td>\n",
       "      <td>14</td>\n",
       "      <td>2</td>\n",
       "    </tr>\n",
       "    <tr>\n",
       "      <th>2</th>\n",
       "      <td>2013</td>\n",
       "      <td>Affray</td>\n",
       "      <td>1000</td>\n",
       "      <td>12</td>\n",
       "      <td>1.19</td>\n",
       "    </tr>\n",
       "    <tr>\n",
       "      <th>3</th>\n",
       "      <td>2013</td>\n",
       "      <td>Assault</td>\n",
       "      <td>8301</td>\n",
       "      <td>681</td>\n",
       "      <td>7.58</td>\n",
       "    </tr>\n",
       "    <tr>\n",
       "      <th>4</th>\n",
       "      <td>2013</td>\n",
       "      <td>Murder</td>\n",
       "      <td>6852</td>\n",
       "      <td>320</td>\n",
       "      <td>4.46</td>\n",
       "    </tr>\n",
       "    <tr>\n",
       "      <th>...</th>\n",
       "      <td>...</td>\n",
       "      <td>...</td>\n",
       "      <td>...</td>\n",
       "      <td>...</td>\n",
       "      <td>...</td>\n",
       "    </tr>\n",
       "    <tr>\n",
       "      <th>119</th>\n",
       "      <td>2016</td>\n",
       "      <td>Cultism/Ritual</td>\n",
       "      <td>401</td>\n",
       "      <td>2</td>\n",
       "      <td>0.5</td>\n",
       "    </tr>\n",
       "    <tr>\n",
       "      <th>120</th>\n",
       "      <td>2016</td>\n",
       "      <td>Breach of peace</td>\n",
       "      <td>948</td>\n",
       "      <td>26</td>\n",
       "      <td>2.67</td>\n",
       "    </tr>\n",
       "    <tr>\n",
       "      <th>121</th>\n",
       "      <td>2016</td>\n",
       "      <td>Other Offence</td>\n",
       "      <td>25942</td>\n",
       "      <td>1442</td>\n",
       "      <td>5.27</td>\n",
       "    </tr>\n",
       "    <tr>\n",
       "      <th>122</th>\n",
       "      <td>2016</td>\n",
       "      <td>Total</td>\n",
       "      <td>36481</td>\n",
       "      <td>6367</td>\n",
       "      <td>4.46</td>\n",
       "    </tr>\n",
       "    <tr>\n",
       "      <th>123</th>\n",
       "      <td>2016</td>\n",
       "      <td>Total calculated</td>\n",
       "      <td>136384</td>\n",
       "      <td>6365.83</td>\n",
       "      <td>NaN</td>\n",
       "    </tr>\n",
       "  </tbody>\n",
       "</table>\n",
       "<p>124 rows × 5 columns</p>\n",
       "</div>"
      ],
      "text/plain": [
       "     Year  Type of Offence        M        F    F%\n",
       "0    2013              Debt     618       28  4.33\n",
       "1    2013             Arson     685       14     2\n",
       "2    2013            Affray    1000       12  1.19\n",
       "3    2013           Assault    8301      681  7.58\n",
       "4    2013            Murder    6852      320  4.46\n",
       "..    ...               ...     ...      ...   ...\n",
       "119  2016    Cultism/Ritual     401        2   0.5\n",
       "120  2016   Breach of peace     948       26  2.67\n",
       "121  2016     Other Offence   25942     1442  5.27\n",
       "122  2016             Total   36481     6367  4.46\n",
       "123  2016  Total calculated  136384  6365.83   NaN\n",
       "\n",
       "[124 rows x 5 columns]"
      ]
     },
     "execution_count": 6,
     "metadata": {},
     "output_type": "execute_result"
    }
   ],
   "source": [
    "data = pd.read_csv('prison.csv')\n",
    "data"
   ]
  },
  {
   "cell_type": "code",
   "execution_count": 7,
   "id": "0cdc3a47-9b13-4021-b7b7-1a5e4d258207",
   "metadata": {},
   "outputs": [
    {
     "data": {
      "text/html": [
       "<div>\n",
       "<style scoped>\n",
       "    .dataframe tbody tr th:only-of-type {\n",
       "        vertical-align: middle;\n",
       "    }\n",
       "\n",
       "    .dataframe tbody tr th {\n",
       "        vertical-align: top;\n",
       "    }\n",
       "\n",
       "    .dataframe thead th {\n",
       "        text-align: right;\n",
       "    }\n",
       "</style>\n",
       "<table border=\"1\" class=\"dataframe\">\n",
       "  <thead>\n",
       "    <tr style=\"text-align: right;\">\n",
       "      <th></th>\n",
       "      <th>Year</th>\n",
       "      <th>Type of Offence</th>\n",
       "      <th>M</th>\n",
       "      <th>F</th>\n",
       "      <th>F%</th>\n",
       "    </tr>\n",
       "  </thead>\n",
       "  <tbody>\n",
       "    <tr>\n",
       "      <th>0</th>\n",
       "      <td>2013</td>\n",
       "      <td>Debt</td>\n",
       "      <td>618</td>\n",
       "      <td>28</td>\n",
       "      <td>4.33</td>\n",
       "    </tr>\n",
       "    <tr>\n",
       "      <th>1</th>\n",
       "      <td>2013</td>\n",
       "      <td>Arson</td>\n",
       "      <td>685</td>\n",
       "      <td>14</td>\n",
       "      <td>2</td>\n",
       "    </tr>\n",
       "    <tr>\n",
       "      <th>2</th>\n",
       "      <td>2013</td>\n",
       "      <td>Affray</td>\n",
       "      <td>1000</td>\n",
       "      <td>12</td>\n",
       "      <td>1.19</td>\n",
       "    </tr>\n",
       "    <tr>\n",
       "      <th>3</th>\n",
       "      <td>2013</td>\n",
       "      <td>Assault</td>\n",
       "      <td>8301</td>\n",
       "      <td>681</td>\n",
       "      <td>7.58</td>\n",
       "    </tr>\n",
       "    <tr>\n",
       "      <th>4</th>\n",
       "      <td>2013</td>\n",
       "      <td>Murder</td>\n",
       "      <td>6852</td>\n",
       "      <td>320</td>\n",
       "      <td>4.46</td>\n",
       "    </tr>\n",
       "    <tr>\n",
       "      <th>5</th>\n",
       "      <td>2013</td>\n",
       "      <td>Treason</td>\n",
       "      <td>387</td>\n",
       "      <td>44</td>\n",
       "      <td>10.21</td>\n",
       "    </tr>\n",
       "    <tr>\n",
       "      <th>6</th>\n",
       "      <td>2013</td>\n",
       "      <td>Sedition</td>\n",
       "      <td>183</td>\n",
       "      <td>5</td>\n",
       "      <td>2.66</td>\n",
       "    </tr>\n",
       "    <tr>\n",
       "      <th>7</th>\n",
       "      <td>2013</td>\n",
       "      <td>Abduction</td>\n",
       "      <td>1610</td>\n",
       "      <td>79</td>\n",
       "      <td>4.68</td>\n",
       "    </tr>\n",
       "    <tr>\n",
       "      <th>8</th>\n",
       "      <td>2013</td>\n",
       "      <td>Smugging</td>\n",
       "      <td>621</td>\n",
       "      <td>15</td>\n",
       "      <td>2.36</td>\n",
       "    </tr>\n",
       "    <tr>\n",
       "      <th>9</th>\n",
       "      <td>2013</td>\n",
       "      <td>Immigration</td>\n",
       "      <td>623</td>\n",
       "      <td>15</td>\n",
       "      <td>2.35</td>\n",
       "    </tr>\n",
       "  </tbody>\n",
       "</table>\n",
       "</div>"
      ],
      "text/plain": [
       "   Year Type of Offence      M    F     F%\n",
       "0  2013             Debt   618   28   4.33\n",
       "1  2013            Arson   685   14      2\n",
       "2  2013           Affray  1000   12   1.19\n",
       "3  2013          Assault  8301  681   7.58\n",
       "4  2013           Murder  6852  320   4.46\n",
       "5  2013          Treason   387   44  10.21\n",
       "6  2013         Sedition   183    5   2.66\n",
       "7  2013        Abduction  1610   79   4.68\n",
       "8  2013         Smugging   621   15   2.36\n",
       "9  2013      Immigration   623   15   2.35"
      ]
     },
     "execution_count": 7,
     "metadata": {},
     "output_type": "execute_result"
    }
   ],
   "source": [
    "data.head(10)"
   ]
  },
  {
   "cell_type": "code",
   "execution_count": 8,
   "id": "9e4ecd68-3faa-4190-a6b7-e745b3b9aa88",
   "metadata": {},
   "outputs": [
    {
     "data": {
      "text/plain": [
       "Index(['Year', 'Type of Offence ', 'M', 'F', 'F%'], dtype='object')"
      ]
     },
     "execution_count": 8,
     "metadata": {},
     "output_type": "execute_result"
    }
   ],
   "source": [
    "data.columns"
   ]
  },
  {
   "cell_type": "code",
   "execution_count": 13,
   "id": "bca66d38-7e73-4614-a29f-8616dd88acd5",
   "metadata": {},
   "outputs": [
    {
     "name": "stdout",
     "output_type": "stream",
     "text": [
      "<class 'pandas.core.frame.DataFrame'>\n",
      "RangeIndex: 124 entries, 0 to 123\n",
      "Data columns (total 5 columns):\n",
      " #   Column            Non-Null Count  Dtype \n",
      "---  ------            --------------  ----- \n",
      " 0   Year              124 non-null    int64 \n",
      " 1   Type of Offence   124 non-null    object\n",
      " 2   M                 124 non-null    object\n",
      " 3   F                 124 non-null    object\n",
      " 4   F%                119 non-null    object\n",
      "dtypes: int64(1), object(4)\n",
      "memory usage: 5.0+ KB\n"
     ]
    }
   ],
   "source": [
    "data.info()"
   ]
  },
  {
   "cell_type": "code",
   "execution_count": 53,
   "id": "437834df-39be-4cab-a4ff-509ba482242f",
   "metadata": {},
   "outputs": [
    {
     "data": {
      "text/plain": [
       "Year    2014.5\n",
       "dtype: float64"
      ]
     },
     "execution_count": 53,
     "metadata": {},
     "output_type": "execute_result"
    }
   ],
   "source": [
    "data.mean()"
   ]
  },
  {
   "cell_type": "code",
   "execution_count": 12,
   "id": "3f4bf133-7dec-4b72-9546-bf7aa00efaca",
   "metadata": {},
   "outputs": [
    {
     "data": {
      "text/html": [
       "<div>\n",
       "<style scoped>\n",
       "    .dataframe tbody tr th:only-of-type {\n",
       "        vertical-align: middle;\n",
       "    }\n",
       "\n",
       "    .dataframe tbody tr th {\n",
       "        vertical-align: top;\n",
       "    }\n",
       "\n",
       "    .dataframe thead th {\n",
       "        text-align: right;\n",
       "    }\n",
       "</style>\n",
       "<table border=\"1\" class=\"dataframe\">\n",
       "  <thead>\n",
       "    <tr style=\"text-align: right;\">\n",
       "      <th></th>\n",
       "      <th>Year</th>\n",
       "      <th>Type of Offence</th>\n",
       "      <th>M</th>\n",
       "      <th>F</th>\n",
       "      <th>F%</th>\n",
       "    </tr>\n",
       "  </thead>\n",
       "  <tbody>\n",
       "    <tr>\n",
       "      <th>0</th>\n",
       "      <td>False</td>\n",
       "      <td>False</td>\n",
       "      <td>False</td>\n",
       "      <td>False</td>\n",
       "      <td>False</td>\n",
       "    </tr>\n",
       "    <tr>\n",
       "      <th>1</th>\n",
       "      <td>False</td>\n",
       "      <td>False</td>\n",
       "      <td>False</td>\n",
       "      <td>False</td>\n",
       "      <td>False</td>\n",
       "    </tr>\n",
       "    <tr>\n",
       "      <th>2</th>\n",
       "      <td>False</td>\n",
       "      <td>False</td>\n",
       "      <td>False</td>\n",
       "      <td>False</td>\n",
       "      <td>False</td>\n",
       "    </tr>\n",
       "    <tr>\n",
       "      <th>3</th>\n",
       "      <td>False</td>\n",
       "      <td>False</td>\n",
       "      <td>False</td>\n",
       "      <td>False</td>\n",
       "      <td>False</td>\n",
       "    </tr>\n",
       "    <tr>\n",
       "      <th>4</th>\n",
       "      <td>False</td>\n",
       "      <td>False</td>\n",
       "      <td>False</td>\n",
       "      <td>False</td>\n",
       "      <td>False</td>\n",
       "    </tr>\n",
       "    <tr>\n",
       "      <th>...</th>\n",
       "      <td>...</td>\n",
       "      <td>...</td>\n",
       "      <td>...</td>\n",
       "      <td>...</td>\n",
       "      <td>...</td>\n",
       "    </tr>\n",
       "    <tr>\n",
       "      <th>119</th>\n",
       "      <td>False</td>\n",
       "      <td>False</td>\n",
       "      <td>False</td>\n",
       "      <td>False</td>\n",
       "      <td>False</td>\n",
       "    </tr>\n",
       "    <tr>\n",
       "      <th>120</th>\n",
       "      <td>False</td>\n",
       "      <td>False</td>\n",
       "      <td>False</td>\n",
       "      <td>False</td>\n",
       "      <td>False</td>\n",
       "    </tr>\n",
       "    <tr>\n",
       "      <th>121</th>\n",
       "      <td>False</td>\n",
       "      <td>False</td>\n",
       "      <td>False</td>\n",
       "      <td>False</td>\n",
       "      <td>False</td>\n",
       "    </tr>\n",
       "    <tr>\n",
       "      <th>122</th>\n",
       "      <td>False</td>\n",
       "      <td>False</td>\n",
       "      <td>False</td>\n",
       "      <td>False</td>\n",
       "      <td>False</td>\n",
       "    </tr>\n",
       "    <tr>\n",
       "      <th>123</th>\n",
       "      <td>False</td>\n",
       "      <td>False</td>\n",
       "      <td>False</td>\n",
       "      <td>False</td>\n",
       "      <td>True</td>\n",
       "    </tr>\n",
       "  </tbody>\n",
       "</table>\n",
       "<p>124 rows × 5 columns</p>\n",
       "</div>"
      ],
      "text/plain": [
       "      Year  Type of Offence       M      F     F%\n",
       "0    False             False  False  False  False\n",
       "1    False             False  False  False  False\n",
       "2    False             False  False  False  False\n",
       "3    False             False  False  False  False\n",
       "4    False             False  False  False  False\n",
       "..     ...               ...    ...    ...    ...\n",
       "119  False             False  False  False  False\n",
       "120  False             False  False  False  False\n",
       "121  False             False  False  False  False\n",
       "122  False             False  False  False  False\n",
       "123  False             False  False  False   True\n",
       "\n",
       "[124 rows x 5 columns]"
      ]
     },
     "execution_count": 12,
     "metadata": {},
     "output_type": "execute_result"
    }
   ],
   "source": [
    "data.isnull()"
   ]
  },
  {
   "cell_type": "code",
   "execution_count": 47,
   "id": "8c4c4917-ebb5-4176-af06-953776a1c1e9",
   "metadata": {},
   "outputs": [
    {
     "data": {
      "text/plain": [
       "Year                0\n",
       "Type of Offence     0\n",
       "M                   0\n",
       "F                   0\n",
       "F%                  5\n",
       "dtype: int64"
      ]
     },
     "execution_count": 47,
     "metadata": {},
     "output_type": "execute_result"
    }
   ],
   "source": [
    "data.isnull().sum()"
   ]
  },
  {
   "cell_type": "code",
   "execution_count": 15,
   "id": "54eb7199-3e64-4309-b466-a10c6490fc70",
   "metadata": {},
   "outputs": [
    {
     "data": {
      "text/plain": [
       "0      4.33\n",
       "1         2\n",
       "2      1.19\n",
       "3      7.58\n",
       "4      4.46\n",
       "       ... \n",
       "119     0.5\n",
       "120    2.67\n",
       "121    5.27\n",
       "122    4.46\n",
       "123     NaN\n",
       "Name: F%, Length: 124, dtype: object"
      ]
     },
     "execution_count": 15,
     "metadata": {},
     "output_type": "execute_result"
    }
   ],
   "source": [
    "DT = data['F%']\n",
    "DT"
   ]
  },
  {
   "cell_type": "code",
   "execution_count": 55,
   "id": "f0b470b9-de1c-40df-a9e1-50dfc768e0d4",
   "metadata": {},
   "outputs": [
    {
     "data": {
      "text/plain": [
       "<bound method NDFrame._add_numeric_operations.<locals>.mean of 0       4.33\n",
       "1          2\n",
       "2       1.19\n",
       "3       7.58\n",
       "4       4.46\n",
       "       ...  \n",
       "117    14.46\n",
       "119      0.5\n",
       "120     2.67\n",
       "121     5.27\n",
       "122     4.46\n",
       "Name: F%, Length: 119, dtype: object>"
      ]
     },
     "execution_count": 55,
     "metadata": {},
     "output_type": "execute_result"
    }
   ],
   "source": [
    "DT.mean"
   ]
  },
  {
   "cell_type": "code",
   "execution_count": 50,
   "id": "1f19fce8-1549-42a7-a4db-f8649b4af304",
   "metadata": {},
   "outputs": [
    {
     "data": {
      "text/plain": [
       "100     7.69\n",
       "101     2.93\n",
       "102      7.4\n",
       "103     5.24\n",
       "104     2.57\n",
       "105      5.2\n",
       "106      3.5\n",
       "107     3.73\n",
       "108     5.16\n",
       "109     2.78\n",
       "110     4.17\n",
       "111     2.19\n",
       "112     2.61\n",
       "113     0.98\n",
       "114     2.54\n",
       "115     2.14\n",
       "116     2.62\n",
       "117    14.46\n",
       "118      NaN\n",
       "119      0.5\n",
       "120     2.67\n",
       "121     5.27\n",
       "122     4.46\n",
       "123      NaN\n",
       "Name: F%, dtype: object"
      ]
     },
     "execution_count": 50,
     "metadata": {},
     "output_type": "execute_result"
    }
   ],
   "source": [
    "F = data['F%'].loc[100:124]\n",
    "F"
   ]
  },
  {
   "cell_type": "code",
   "execution_count": 57,
   "id": "508edfbc-531e-48db-9029-6e1de9ed1393",
   "metadata": {},
   "outputs": [
    {
     "data": {
      "text/html": [
       "<div>\n",
       "<style scoped>\n",
       "    .dataframe tbody tr th:only-of-type {\n",
       "        vertical-align: middle;\n",
       "    }\n",
       "\n",
       "    .dataframe tbody tr th {\n",
       "        vertical-align: top;\n",
       "    }\n",
       "\n",
       "    .dataframe thead th {\n",
       "        text-align: right;\n",
       "    }\n",
       "</style>\n",
       "<table border=\"1\" class=\"dataframe\">\n",
       "  <thead>\n",
       "    <tr style=\"text-align: right;\">\n",
       "      <th></th>\n",
       "      <th>Year</th>\n",
       "      <th>Type of Offence</th>\n",
       "      <th>M</th>\n",
       "      <th>F</th>\n",
       "      <th>F%</th>\n",
       "    </tr>\n",
       "  </thead>\n",
       "  <tbody>\n",
       "    <tr>\n",
       "      <th>0</th>\n",
       "      <td>2013</td>\n",
       "      <td>Debt</td>\n",
       "      <td>618</td>\n",
       "      <td>28</td>\n",
       "      <td>4.33</td>\n",
       "    </tr>\n",
       "    <tr>\n",
       "      <th>1</th>\n",
       "      <td>2013</td>\n",
       "      <td>Arson</td>\n",
       "      <td>685</td>\n",
       "      <td>14</td>\n",
       "      <td>2</td>\n",
       "    </tr>\n",
       "    <tr>\n",
       "      <th>2</th>\n",
       "      <td>2013</td>\n",
       "      <td>Affray</td>\n",
       "      <td>1000</td>\n",
       "      <td>12</td>\n",
       "      <td>1.19</td>\n",
       "    </tr>\n",
       "    <tr>\n",
       "      <th>3</th>\n",
       "      <td>2013</td>\n",
       "      <td>Assault</td>\n",
       "      <td>8301</td>\n",
       "      <td>681</td>\n",
       "      <td>7.58</td>\n",
       "    </tr>\n",
       "    <tr>\n",
       "      <th>4</th>\n",
       "      <td>2013</td>\n",
       "      <td>Murder</td>\n",
       "      <td>6852</td>\n",
       "      <td>320</td>\n",
       "      <td>4.46</td>\n",
       "    </tr>\n",
       "    <tr>\n",
       "      <th>...</th>\n",
       "      <td>...</td>\n",
       "      <td>...</td>\n",
       "      <td>...</td>\n",
       "      <td>...</td>\n",
       "      <td>...</td>\n",
       "    </tr>\n",
       "    <tr>\n",
       "      <th>119</th>\n",
       "      <td>2016</td>\n",
       "      <td>Cultism/Ritual</td>\n",
       "      <td>401</td>\n",
       "      <td>2</td>\n",
       "      <td>0.5</td>\n",
       "    </tr>\n",
       "    <tr>\n",
       "      <th>120</th>\n",
       "      <td>2016</td>\n",
       "      <td>Breach of peace</td>\n",
       "      <td>948</td>\n",
       "      <td>26</td>\n",
       "      <td>2.67</td>\n",
       "    </tr>\n",
       "    <tr>\n",
       "      <th>121</th>\n",
       "      <td>2016</td>\n",
       "      <td>Other Offence</td>\n",
       "      <td>25942</td>\n",
       "      <td>1442</td>\n",
       "      <td>5.27</td>\n",
       "    </tr>\n",
       "    <tr>\n",
       "      <th>122</th>\n",
       "      <td>2016</td>\n",
       "      <td>Total</td>\n",
       "      <td>36481</td>\n",
       "      <td>6367</td>\n",
       "      <td>4.46</td>\n",
       "    </tr>\n",
       "    <tr>\n",
       "      <th>123</th>\n",
       "      <td>2016</td>\n",
       "      <td>Total calculated</td>\n",
       "      <td>136384</td>\n",
       "      <td>6365.83</td>\n",
       "      <td>4</td>\n",
       "    </tr>\n",
       "  </tbody>\n",
       "</table>\n",
       "<p>124 rows × 5 columns</p>\n",
       "</div>"
      ],
      "text/plain": [
       "     Year  Type of Offence        M        F    F%\n",
       "0    2013              Debt     618       28  4.33\n",
       "1    2013             Arson     685       14     2\n",
       "2    2013            Affray    1000       12  1.19\n",
       "3    2013           Assault    8301      681  7.58\n",
       "4    2013            Murder    6852      320  4.46\n",
       "..    ...               ...     ...      ...   ...\n",
       "119  2016    Cultism/Ritual     401        2   0.5\n",
       "120  2016   Breach of peace     948       26  2.67\n",
       "121  2016     Other Offence   25942     1442  5.27\n",
       "122  2016             Total   36481     6367  4.46\n",
       "123  2016  Total calculated  136384  6365.83     4\n",
       "\n",
       "[124 rows x 5 columns]"
      ]
     },
     "execution_count": 57,
     "metadata": {},
     "output_type": "execute_result"
    }
   ],
   "source": [
    "data[\"F%\"].fillna(4, inplace = True)\n",
    "data"
   ]
  },
  {
   "cell_type": "code",
   "execution_count": 103,
   "id": "e363ea43-7ce1-45ee-a5be-eee338dbdad4",
   "metadata": {},
   "outputs": [
    {
     "data": {
      "text/html": [
       "<div>\n",
       "<style scoped>\n",
       "    .dataframe tbody tr th:only-of-type {\n",
       "        vertical-align: middle;\n",
       "    }\n",
       "\n",
       "    .dataframe tbody tr th {\n",
       "        vertical-align: top;\n",
       "    }\n",
       "\n",
       "    .dataframe thead th {\n",
       "        text-align: right;\n",
       "    }\n",
       "</style>\n",
       "<table border=\"1\" class=\"dataframe\">\n",
       "  <thead>\n",
       "    <tr style=\"text-align: right;\">\n",
       "      <th></th>\n",
       "      <th>Year</th>\n",
       "      <th>Type of Offence</th>\n",
       "      <th>M</th>\n",
       "      <th>F</th>\n",
       "      <th>F%</th>\n",
       "    </tr>\n",
       "  </thead>\n",
       "  <tbody>\n",
       "    <tr>\n",
       "      <th>0</th>\n",
       "      <td>2013</td>\n",
       "      <td>Debt</td>\n",
       "      <td>618</td>\n",
       "      <td>28</td>\n",
       "      <td>4.33</td>\n",
       "    </tr>\n",
       "    <tr>\n",
       "      <th>1</th>\n",
       "      <td>2013</td>\n",
       "      <td>Arson</td>\n",
       "      <td>685</td>\n",
       "      <td>14</td>\n",
       "      <td>2</td>\n",
       "    </tr>\n",
       "    <tr>\n",
       "      <th>2</th>\n",
       "      <td>2013</td>\n",
       "      <td>Affray</td>\n",
       "      <td>1000</td>\n",
       "      <td>12</td>\n",
       "      <td>1.19</td>\n",
       "    </tr>\n",
       "    <tr>\n",
       "      <th>3</th>\n",
       "      <td>2013</td>\n",
       "      <td>Assault</td>\n",
       "      <td>8301</td>\n",
       "      <td>681</td>\n",
       "      <td>7.58</td>\n",
       "    </tr>\n",
       "    <tr>\n",
       "      <th>4</th>\n",
       "      <td>2013</td>\n",
       "      <td>Murder</td>\n",
       "      <td>6852</td>\n",
       "      <td>320</td>\n",
       "      <td>4.46</td>\n",
       "    </tr>\n",
       "    <tr>\n",
       "      <th>...</th>\n",
       "      <td>...</td>\n",
       "      <td>...</td>\n",
       "      <td>...</td>\n",
       "      <td>...</td>\n",
       "      <td>...</td>\n",
       "    </tr>\n",
       "    <tr>\n",
       "      <th>119</th>\n",
       "      <td>2016</td>\n",
       "      <td>Cultism/Ritual</td>\n",
       "      <td>401</td>\n",
       "      <td>2</td>\n",
       "      <td>0.5</td>\n",
       "    </tr>\n",
       "    <tr>\n",
       "      <th>120</th>\n",
       "      <td>2016</td>\n",
       "      <td>Breach of peace</td>\n",
       "      <td>948</td>\n",
       "      <td>26</td>\n",
       "      <td>2.67</td>\n",
       "    </tr>\n",
       "    <tr>\n",
       "      <th>121</th>\n",
       "      <td>2016</td>\n",
       "      <td>Other Offence</td>\n",
       "      <td>25942</td>\n",
       "      <td>1442</td>\n",
       "      <td>5.27</td>\n",
       "    </tr>\n",
       "    <tr>\n",
       "      <th>122</th>\n",
       "      <td>2016</td>\n",
       "      <td>Total</td>\n",
       "      <td>36481</td>\n",
       "      <td>6367</td>\n",
       "      <td>4.46</td>\n",
       "    </tr>\n",
       "    <tr>\n",
       "      <th>123</th>\n",
       "      <td>2016</td>\n",
       "      <td>Total calculated</td>\n",
       "      <td>136384</td>\n",
       "      <td>6365.83</td>\n",
       "      <td>4</td>\n",
       "    </tr>\n",
       "  </tbody>\n",
       "</table>\n",
       "<p>124 rows × 5 columns</p>\n",
       "</div>"
      ],
      "text/plain": [
       "     Year  Type of Offence        M        F    F%\n",
       "0    2013              Debt     618       28  4.33\n",
       "1    2013             Arson     685       14     2\n",
       "2    2013            Affray    1000       12  1.19\n",
       "3    2013           Assault    8301      681  7.58\n",
       "4    2013            Murder    6852      320  4.46\n",
       "..    ...               ...     ...      ...   ...\n",
       "119  2016    Cultism/Ritual     401        2   0.5\n",
       "120  2016   Breach of peace     948       26  2.67\n",
       "121  2016     Other Offence   25942     1442  5.27\n",
       "122  2016             Total   36481     6367  4.46\n",
       "123  2016  Total calculated  136384  6365.83     4\n",
       "\n",
       "[124 rows x 5 columns]"
      ]
     },
     "execution_count": 103,
     "metadata": {},
     "output_type": "execute_result"
    }
   ],
   "source": [
    "data.dropna()"
   ]
  },
  {
   "cell_type": "code",
   "execution_count": 79,
   "id": "1738b678-b3b2-434b-ac04-3aca7fcc765b",
   "metadata": {},
   "outputs": [
    {
     "data": {
      "text/plain": [
       "0      4.33\n",
       "1         2\n",
       "2      1.19\n",
       "3      7.58\n",
       "4      4.46\n",
       "       ... \n",
       "119     0.5\n",
       "120    2.67\n",
       "121    5.27\n",
       "122    4.46\n",
       "123       4\n",
       "Name: F%, Length: 124, dtype: object"
      ]
     },
     "execution_count": 79,
     "metadata": {},
     "output_type": "execute_result"
    }
   ],
   "source": [
    "Fd = data['F%']\n",
    "Fd"
   ]
  },
  {
   "cell_type": "code",
   "execution_count": 102,
   "id": "fba4efaf-4d64-45c2-900c-a00afec6b0a0",
   "metadata": {},
   "outputs": [
    {
     "data": {
      "text/plain": [
       "<bound method NDFrame._add_numeric_operations.<locals>.mean of 0      4.33\n",
       "1         2\n",
       "2      1.19\n",
       "3      7.58\n",
       "4      4.46\n",
       "       ... \n",
       "119     0.5\n",
       "120    2.67\n",
       "121    5.27\n",
       "122    4.46\n",
       "123       4\n",
       "Name: F%, Length: 124, dtype: object>"
      ]
     },
     "execution_count": 102,
     "metadata": {},
     "output_type": "execute_result"
    }
   ],
   "source": [
    "x =Fd.mean\n",
    "x"
   ]
  },
  {
   "cell_type": "code",
   "execution_count": 105,
   "id": "e87856e7-0121-4b4c-b494-3ee203d2bb4d",
   "metadata": {},
   "outputs": [
    {
     "data": {
      "text/plain": [
       "4"
      ]
     },
     "execution_count": 105,
     "metadata": {},
     "output_type": "execute_result"
    }
   ],
   "source": [
    "data[\"F%\"].loc[61]"
   ]
  },
  {
   "cell_type": "markdown",
   "id": "ee1a16cc-311c-44a8-9c7e-36ea5f81b1b3",
   "metadata": {},
   "source": [
    "##### "
   ]
  },
  {
   "cell_type": "code",
   "execution_count": 106,
   "id": "3dcc77df-90ab-4b2f-b35e-6222864ef44d",
   "metadata": {},
   "outputs": [
    {
     "data": {
      "text/plain": [
       "4"
      ]
     },
     "execution_count": 106,
     "metadata": {},
     "output_type": "execute_result"
    }
   ],
   "source": [
    "data[\"F%\"].loc[92]"
   ]
  },
  {
   "cell_type": "code",
   "execution_count": 108,
   "id": "b35a45e6-e4b1-457f-9df0-a9f8d558c1e7",
   "metadata": {},
   "outputs": [
    {
     "data": {
      "text/plain": [
       "4"
      ]
     },
     "execution_count": 108,
     "metadata": {},
     "output_type": "execute_result"
    }
   ],
   "source": [
    "data[\"F%\"].loc[118]"
   ]
  },
  {
   "cell_type": "code",
   "execution_count": 109,
   "id": "5b33a8c5-ff0f-4b7b-938b-a55bfe117866",
   "metadata": {},
   "outputs": [
    {
     "data": {
      "text/plain": [
       "0      False\n",
       "1      False\n",
       "2      False\n",
       "3      False\n",
       "4      False\n",
       "       ...  \n",
       "119    False\n",
       "120    False\n",
       "121    False\n",
       "122    False\n",
       "123    False\n",
       "Length: 124, dtype: bool"
      ]
     },
     "execution_count": 109,
     "metadata": {},
     "output_type": "execute_result"
    }
   ],
   "source": [
    "data.duplicated()"
   ]
  },
  {
   "cell_type": "code",
   "execution_count": null,
   "id": "473797d2-2818-4826-a65e-9b54d080d3d0",
   "metadata": {},
   "outputs": [],
   "source": [
    "#Data cleaning is complete"
   ]
  }
 ],
 "metadata": {
  "kernelspec": {
   "display_name": "Python 3",
   "language": "python",
   "name": "python3"
  },
  "language_info": {
   "codemirror_mode": {
    "name": "ipython",
    "version": 3
   },
   "file_extension": ".py",
   "mimetype": "text/x-python",
   "name": "python",
   "nbconvert_exporter": "python",
   "pygments_lexer": "ipython3",
   "version": "3.8.8"
  }
 },
 "nbformat": 4,
 "nbformat_minor": 5
}
