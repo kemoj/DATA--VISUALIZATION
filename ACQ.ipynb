{
 "cells": [
  {
   "cell_type": "code",
   "execution_count": 2,
   "id": "d4562c6b-1d00-4678-8d8d-5c26d6369500",
   "metadata": {},
   "outputs": [],
   "source": [
    "import pandas as pd"
   ]
  },
  {
   "cell_type": "code",
   "execution_count": 3,
   "id": "40d06e0e-8f72-4d3f-8d0d-c02b1d0fc19c",
   "metadata": {},
   "outputs": [],
   "source": [
    "import numpy as np"
   ]
  },
  {
   "cell_type": "code",
   "execution_count": 4,
   "id": "0b857cbc-ed34-4af8-a671-51dc2d68fb84",
   "metadata": {},
   "outputs": [],
   "source": [
    "import matplotlib.pyplot as plt"
   ]
  },
  {
   "cell_type": "code",
   "execution_count": 5,
   "id": "2b2031b0-110a-410a-914a-651aec942123",
   "metadata": {},
   "outputs": [
    {
     "name": "stdout",
     "output_type": "stream",
     "text": [
      "        ID Parent Company Acquisition Year Acquisition Month  \\\n",
      "0        1          Apple             1988               Mar   \n",
      "1        2          Apple             1988               Jun   \n",
      "2        3          Apple             1988               Jun   \n",
      "3        4          Apple             1988               Jul   \n",
      "4        5          Apple             1989               Jan   \n",
      "...    ...            ...              ...               ...   \n",
      "1450  1451         Citrix             2015               Apr   \n",
      "1451  1452         Citrix             2016               Sep   \n",
      "1452  1453         Citrix             2017               Jan   \n",
      "1453  1454         Citrix             2018               Feb   \n",
      "1454  1455         Citrix             2021               Mar   \n",
      "\n",
      "           Acquired Company                                      Business  \\\n",
      "0       Network Innovations                                      Software   \n",
      "1     Orion Network Systems                             Computer Software   \n",
      "2                 Styleware                             Computer software   \n",
      "3           Nashoba Systems                             Computer software   \n",
      "4            Coral Software                             Computer software   \n",
      "...                     ...                                           ...   \n",
      "1450            Grasshopper                            Telephone services   \n",
      "1451               Norskale  UEM and application performance optimization   \n",
      "1452                Unidesk                                             -   \n",
      "1453                Cedexis                Intelligent traffic management   \n",
      "1454                  Wrike                            Project management   \n",
      "\n",
      "            Country Acquisition Price Category  \\\n",
      "0                 -                 -        -   \n",
      "1                 -                 -        -   \n",
      "2                 -                 -        -   \n",
      "3                 -                 -        -   \n",
      "4                 -                 -        -   \n",
      "...             ...               ...      ...   \n",
      "1450  United States                 -        -   \n",
      "1451         France                 -        -   \n",
      "1452  United States                 -        -   \n",
      "1453         France                 -        -   \n",
      "1454  United States                 -        -   \n",
      "\n",
      "                                       Derived Products  \n",
      "0                                                     -  \n",
      "1                                                     -  \n",
      "2                                                     -  \n",
      "3                                                     -  \n",
      "4                                                     -  \n",
      "...                                                 ...  \n",
      "1450  GoToMeeting, GoToTraining, GoToWebinar, ShareF...  \n",
      "1451                                 XenApp, XenDesktop  \n",
      "1452                                 XenApp, XenDesktop  \n",
      "1453                                         Citrix ITM  \n",
      "1454                                   Citrix Workspace  \n",
      "\n",
      "[1455 rows x 10 columns]\n"
     ]
    }
   ],
   "source": [
    "acq= pd.read_csv(\"Acq.csv\")\n",
    "print(acq)"
   ]
  },
  {
   "cell_type": "code",
   "execution_count": 6,
   "id": "5e8ddb17-c2c6-43cf-9e15-ec7f0a11af77",
   "metadata": {},
   "outputs": [
    {
     "data": {
      "text/html": [
       "<div>\n",
       "<style scoped>\n",
       "    .dataframe tbody tr th:only-of-type {\n",
       "        vertical-align: middle;\n",
       "    }\n",
       "\n",
       "    .dataframe tbody tr th {\n",
       "        vertical-align: top;\n",
       "    }\n",
       "\n",
       "    .dataframe thead th {\n",
       "        text-align: right;\n",
       "    }\n",
       "</style>\n",
       "<table border=\"1\" class=\"dataframe\">\n",
       "  <thead>\n",
       "    <tr style=\"text-align: right;\">\n",
       "      <th></th>\n",
       "      <th>ID</th>\n",
       "    </tr>\n",
       "  </thead>\n",
       "  <tbody>\n",
       "    <tr>\n",
       "      <th>count</th>\n",
       "      <td>1455.000000</td>\n",
       "    </tr>\n",
       "    <tr>\n",
       "      <th>mean</th>\n",
       "      <td>728.000000</td>\n",
       "    </tr>\n",
       "    <tr>\n",
       "      <th>std</th>\n",
       "      <td>420.166634</td>\n",
       "    </tr>\n",
       "    <tr>\n",
       "      <th>min</th>\n",
       "      <td>1.000000</td>\n",
       "    </tr>\n",
       "    <tr>\n",
       "      <th>25%</th>\n",
       "      <td>364.500000</td>\n",
       "    </tr>\n",
       "    <tr>\n",
       "      <th>50%</th>\n",
       "      <td>728.000000</td>\n",
       "    </tr>\n",
       "    <tr>\n",
       "      <th>75%</th>\n",
       "      <td>1091.500000</td>\n",
       "    </tr>\n",
       "    <tr>\n",
       "      <th>max</th>\n",
       "      <td>1455.000000</td>\n",
       "    </tr>\n",
       "  </tbody>\n",
       "</table>\n",
       "</div>"
      ],
      "text/plain": [
       "                ID\n",
       "count  1455.000000\n",
       "mean    728.000000\n",
       "std     420.166634\n",
       "min       1.000000\n",
       "25%     364.500000\n",
       "50%     728.000000\n",
       "75%    1091.500000\n",
       "max    1455.000000"
      ]
     },
     "execution_count": 6,
     "metadata": {},
     "output_type": "execute_result"
    }
   ],
   "source": [
    "acq.describe()"
   ]
  },
  {
   "cell_type": "code",
   "execution_count": 8,
   "id": "55b185e2-fb2f-4d1d-86b8-1f42f5dc8a4b",
   "metadata": {},
   "outputs": [
    {
     "ename": "AttributeError",
     "evalue": "'DataFrame' object has no attribute 'Company'",
     "output_type": "error",
     "traceback": [
      "\u001b[1;31m---------------------------------------------------------------------------\u001b[0m",
      "\u001b[1;31mAttributeError\u001b[0m                            Traceback (most recent call last)",
      "\u001b[1;32m<ipython-input-8-45a2f4cce38f>\u001b[0m in \u001b[0;36m<module>\u001b[1;34m\u001b[0m\n\u001b[1;32m----> 1\u001b[1;33m \u001b[0mapp\u001b[0m\u001b[1;33m=\u001b[0m\u001b[0macq\u001b[0m\u001b[1;33m[\u001b[0m\u001b[0macq\u001b[0m\u001b[1;33m.\u001b[0m\u001b[0mCompany\u001b[0m\u001b[1;33m==\u001b[0m\u001b[1;34m\"Apple\"\u001b[0m\u001b[1;33m]\u001b[0m\u001b[1;33m\u001b[0m\u001b[1;33m\u001b[0m\u001b[0m\n\u001b[0m\u001b[0;32m      2\u001b[0m \u001b[0mprint\u001b[0m\u001b[1;33m(\u001b[0m\u001b[0mapp\u001b[0m\u001b[1;33m)\u001b[0m\u001b[1;33m\u001b[0m\u001b[1;33m\u001b[0m\u001b[0m\n",
      "\u001b[1;32m~\\anaconda3\\lib\\site-packages\\pandas\\core\\generic.py\u001b[0m in \u001b[0;36m__getattr__\u001b[1;34m(self, name)\u001b[0m\n\u001b[0;32m   5463\u001b[0m             \u001b[1;32mif\u001b[0m \u001b[0mself\u001b[0m\u001b[1;33m.\u001b[0m\u001b[0m_info_axis\u001b[0m\u001b[1;33m.\u001b[0m\u001b[0m_can_hold_identifiers_and_holds_name\u001b[0m\u001b[1;33m(\u001b[0m\u001b[0mname\u001b[0m\u001b[1;33m)\u001b[0m\u001b[1;33m:\u001b[0m\u001b[1;33m\u001b[0m\u001b[1;33m\u001b[0m\u001b[0m\n\u001b[0;32m   5464\u001b[0m                 \u001b[1;32mreturn\u001b[0m \u001b[0mself\u001b[0m\u001b[1;33m[\u001b[0m\u001b[0mname\u001b[0m\u001b[1;33m]\u001b[0m\u001b[1;33m\u001b[0m\u001b[1;33m\u001b[0m\u001b[0m\n\u001b[1;32m-> 5465\u001b[1;33m             \u001b[1;32mreturn\u001b[0m \u001b[0mobject\u001b[0m\u001b[1;33m.\u001b[0m\u001b[0m__getattribute__\u001b[0m\u001b[1;33m(\u001b[0m\u001b[0mself\u001b[0m\u001b[1;33m,\u001b[0m \u001b[0mname\u001b[0m\u001b[1;33m)\u001b[0m\u001b[1;33m\u001b[0m\u001b[1;33m\u001b[0m\u001b[0m\n\u001b[0m\u001b[0;32m   5466\u001b[0m \u001b[1;33m\u001b[0m\u001b[0m\n\u001b[0;32m   5467\u001b[0m     \u001b[1;32mdef\u001b[0m \u001b[0m__setattr__\u001b[0m\u001b[1;33m(\u001b[0m\u001b[0mself\u001b[0m\u001b[1;33m,\u001b[0m \u001b[0mname\u001b[0m\u001b[1;33m:\u001b[0m \u001b[0mstr\u001b[0m\u001b[1;33m,\u001b[0m \u001b[0mvalue\u001b[0m\u001b[1;33m)\u001b[0m \u001b[1;33m->\u001b[0m \u001b[1;32mNone\u001b[0m\u001b[1;33m:\u001b[0m\u001b[1;33m\u001b[0m\u001b[1;33m\u001b[0m\u001b[0m\n",
      "\u001b[1;31mAttributeError\u001b[0m: 'DataFrame' object has no attribute 'Company'"
     ]
    }
   ],
   "source": [
    "app=acq[acq.Company==\"Apple\"]\n",
    "print(app)"
   ]
  },
  {
   "cell_type": "code",
   "execution_count": null,
   "id": "0835faf1-2c0d-402d-bb92-d0efcce24071",
   "metadata": {},
   "outputs": [],
   "source": [
    "Afg=led[led.Country==\"Afghanistan\"]\n",
    "print(Afg)"
   ]
  },
  {
   "cell_type": "code",
   "execution_count": null,
   "id": "30022e94-8d13-471d-87da-ed863990e9de",
   "metadata": {},
   "outputs": [],
   "source": []
  }
 ],
 "metadata": {
  "kernelspec": {
   "display_name": "Python 3",
   "language": "python",
   "name": "python3"
  },
  "language_info": {
   "codemirror_mode": {
    "name": "ipython",
    "version": 3
   },
   "file_extension": ".py",
   "mimetype": "text/x-python",
   "name": "python",
   "nbconvert_exporter": "python",
   "pygments_lexer": "ipython3",
   "version": "3.8.8"
  }
 },
 "nbformat": 4,
 "nbformat_minor": 5
}
