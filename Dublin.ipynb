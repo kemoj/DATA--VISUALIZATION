{
 "cells": [
  {
   "cell_type": "code",
   "execution_count": 14,
   "id": "a8e962d8-3a0a-4e4e-be94-85b142bb4ce0",
   "metadata": {},
   "outputs": [],
   "source": [
    "import numpy as np\n",
    "import pandas as pd\n",
    "import matplotlib.pyplot as plt"
   ]
  },
  {
   "cell_type": "code",
   "execution_count": 29,
   "id": "19b09fa7-98d8-431e-82f8-3cd1214638f4",
   "metadata": {},
   "outputs": [
    {
     "name": "stdout",
     "output_type": "stream",
     "text": [
      "       Region Total Adults Male Adults Female Adults  Adults Aged 18-24  \\\n",
      "0      Dublin        4,287       2,776         1,511                708   \n",
      "1    Mid-East          318         205           113                 51   \n",
      "2    Midlands           91          60            31                 21   \n",
      "3    Mid-West          299         203            96                 31   \n",
      "4  North-East           75          59            16                  5   \n",
      "5  North-West           74          51            23                 14   \n",
      "6  South-East          193         137            56                 29   \n",
      "7  South-West          512         361           151                 65   \n",
      "8        West          282         166           116                 65   \n",
      "\n",
      "  Adults Aged 25-44 Adults Aged 45-64  Adults Aged 65+  \\\n",
      "0             2,374             1,141               64   \n",
      "1               162                96                9   \n",
      "2                49                18                3   \n",
      "3               169                93                6   \n",
      "4                44                21                5   \n",
      "5                38                21                1   \n",
      "6               110                48                6   \n",
      "7               283               145               19   \n",
      "8               128                74               15   \n",
      "\n",
      "  Number of people who accessed Private Emergency Accommodation  \\\n",
      "0                                              2,329              \n",
      "1                                                192              \n",
      "2                                                 65              \n",
      "3                                                 28              \n",
      "4                                                 12              \n",
      "5                                                 27              \n",
      "6                                                 53              \n",
      "7                                                339              \n",
      "8                                                160              \n",
      "\n",
      "  Number of people who accessed Supported Temporary Accommodation  \\\n",
      "0                                              1,997                \n",
      "1                                                112                \n",
      "2                                                  0                \n",
      "3                                                240                \n",
      "4                                                 54                \n",
      "5                                                 32                \n",
      "6                                                140                \n",
      "7                                                179                \n",
      "8                                                122                \n",
      "\n",
      "   Number of people who accessed Temporary Emergency Accommodation  \\\n",
      "0                                                 39                 \n",
      "1                                                  3                 \n",
      "2                                                 26                 \n",
      "3                                                 31                 \n",
      "4                                                  8                 \n",
      "5                                                 15                 \n",
      "6                                                  0                 \n",
      "7                                                  0                 \n",
      "8                                                  0                 \n",
      "\n",
      "   Number of people who accessed Other Accommodation  Number of Families  \\\n",
      "0                                                  0                 752   \n",
      "1                                                 11                  52   \n",
      "2                                                  0                   6   \n",
      "3                                                  0                  32   \n",
      "4                                                  1                   9   \n",
      "5                                                  0                   8   \n",
      "6                                                  0                  18   \n",
      "7                                                  0                  60   \n",
      "8                                                  0                  68   \n",
      "\n",
      "  Number of Adults in Families Number of Child Dependants in Families  \n",
      "0                        1,268                                  1,806  \n",
      "1                           84                                    104  \n",
      "2                            7                                     11  \n",
      "3                           44                                     52  \n",
      "4                           11                                     20  \n",
      "5                            9                                     12  \n",
      "6                           24                                     39  \n",
      "7                           76                                    122  \n",
      "8                          104                                    178  \n"
     ]
    }
   ],
   "source": [
    "home=pd.read_csv(\"Home.csv\")\n",
    "print(home)"
   ]
  },
  {
   "cell_type": "code",
   "execution_count": 53,
   "id": "42acab9e-a35f-48b7-9c49-c6e1defbb495",
   "metadata": {},
   "outputs": [
    {
     "data": {
      "text/plain": [
       "0    2,776\n",
       "1      205\n",
       "2       60\n",
       "3      203\n",
       "4       59\n",
       "5       51\n",
       "6      137\n",
       "7      361\n",
       "8      166\n",
       "Name: Male Adults, dtype: object"
      ]
     },
     "execution_count": 53,
     "metadata": {},
     "output_type": "execute_result"
    }
   ],
   "source": [
    "home[\"Male Adults\"]"
   ]
  },
  {
   "cell_type": "markdown",
   "id": "a08c8a9c-1339-42df-981e-c85179668637",
   "metadata": {},
   "source": []
  },
  {
   "cell_type": "code",
   "execution_count": 25,
   "id": "84f4f7dd-9593-4c66-a5ea-f077493a1fe9",
   "metadata": {},
   "outputs": [
    {
     "data": {
      "text/plain": [
       "0     [{'name': 'People in Need', 'value': '18400000...\n",
       "1     [{'name': 'Rohingya Refugees in Need', 'value'...\n",
       "2     [{'name': 'People in Need', 'value': '3500000'...\n",
       "3     [{'name': 'People in Need', 'value': '2300000'...\n",
       "4     [{'name': 'People in Need', 'value': '4400000'...\n",
       "5     [{'name': 'People in Need', 'value': '2800000'...\n",
       "6     [{'name': 'People in Need', 'value': '5500000'...\n",
       "7     [{'name': 'People in Need', 'value': '6700000'...\n",
       "8     [{'name': 'People in Need', 'value': '19600000...\n",
       "9     [{'name': 'People in Need', 'value': '21300000...\n",
       "10    [{'name': 'People in Need', 'value': '4400000'...\n",
       "11    [{'name': 'People in Need', 'value': '4100000'...\n",
       "12    [{'name': 'Children in Need', 'value': '125000...\n",
       "13    [{'name': 'People in Need', 'value': '3200000'...\n",
       "14    [{'name': 'People in Need', 'value': '1300000'...\n",
       "15    [{'name': 'People in Need', 'value': '5900000'...\n",
       "16    [{'name': 'People in Need', 'value': '1300000'...\n",
       "17    [{'name': 'People in Need', 'value': '1000000'...\n",
       "18    [{'name': 'People in Need', 'value': '3800000'...\n",
       "19    [{'name': 'People in Need', 'value': '8700000'...\n",
       "20    [{'name': 'People in Need', 'value': '1300000'...\n",
       "21    [{'name': 'People in Need', 'value': '5900000'...\n",
       "22    [{'name': 'People in Need', 'value': '8300000'...\n",
       "23    [{'name': 'People in Need', 'value': '13400000...\n",
       "24    [{'name': 'People in Need', 'value': '11060000...\n",
       "25    [{'name': 'People in Need', 'value': '3400000'...\n",
       "26    [{'name': 'People in Need', 'value': '7000000'...\n",
       "27    [{'name': 'People in Need', 'value': '20700000...\n",
       "28    [{'name': 'People in Need', 'value': '10100000...\n",
       "29    [{'name': 'Total People in Need', 'value': '68...\n",
       "Name: figures, dtype: object"
      ]
     },
     "execution_count": 25,
     "metadata": {},
     "output_type": "execute_result"
    }
   ],
   "source": [
    "REL.figures"
   ]
  },
  {
   "cell_type": "code",
   "execution_count": null,
   "id": "3e3e7546-5163-4ffa-9f43-22bdf51c8b96",
   "metadata": {},
   "outputs": [],
   "source": []
  },
  {
   "cell_type": "code",
   "execution_count": null,
   "id": "704c08b8-5d20-4642-a9cb-ce213194a72d",
   "metadata": {},
   "outputs": [],
   "source": []
  },
  {
   "cell_type": "code",
   "execution_count": 3,
   "id": "9e6f4c56-abfb-46fd-882b-d884500fb786",
   "metadata": {},
   "outputs": [
    {
     "data": {
      "text/html": [
       "<div>\n",
       "<style scoped>\n",
       "    .dataframe tbody tr th:only-of-type {\n",
       "        vertical-align: middle;\n",
       "    }\n",
       "\n",
       "    .dataframe tbody tr th {\n",
       "        vertical-align: top;\n",
       "    }\n",
       "\n",
       "    .dataframe thead th {\n",
       "        text-align: right;\n",
       "    }\n",
       "</style>\n",
       "<table border=\"1\" class=\"dataframe\">\n",
       "  <thead>\n",
       "    <tr style=\"text-align: right;\">\n",
       "      <th></th>\n",
       "      <th>Date</th>\n",
       "      <th>Decimal Date</th>\n",
       "      <th>Average</th>\n",
       "      <th>Interpolated</th>\n",
       "      <th>Trend</th>\n",
       "      <th>Number of Days</th>\n",
       "    </tr>\n",
       "  </thead>\n",
       "  <tbody>\n",
       "    <tr>\n",
       "      <th>0</th>\n",
       "      <td>False</td>\n",
       "      <td>False</td>\n",
       "      <td>False</td>\n",
       "      <td>False</td>\n",
       "      <td>False</td>\n",
       "      <td>False</td>\n",
       "    </tr>\n",
       "    <tr>\n",
       "      <th>1</th>\n",
       "      <td>False</td>\n",
       "      <td>False</td>\n",
       "      <td>False</td>\n",
       "      <td>False</td>\n",
       "      <td>False</td>\n",
       "      <td>False</td>\n",
       "    </tr>\n",
       "    <tr>\n",
       "      <th>2</th>\n",
       "      <td>False</td>\n",
       "      <td>False</td>\n",
       "      <td>False</td>\n",
       "      <td>False</td>\n",
       "      <td>False</td>\n",
       "      <td>False</td>\n",
       "    </tr>\n",
       "    <tr>\n",
       "      <th>3</th>\n",
       "      <td>False</td>\n",
       "      <td>False</td>\n",
       "      <td>False</td>\n",
       "      <td>False</td>\n",
       "      <td>False</td>\n",
       "      <td>False</td>\n",
       "    </tr>\n",
       "    <tr>\n",
       "      <th>4</th>\n",
       "      <td>False</td>\n",
       "      <td>False</td>\n",
       "      <td>False</td>\n",
       "      <td>False</td>\n",
       "      <td>False</td>\n",
       "      <td>False</td>\n",
       "    </tr>\n",
       "    <tr>\n",
       "      <th>...</th>\n",
       "      <td>...</td>\n",
       "      <td>...</td>\n",
       "      <td>...</td>\n",
       "      <td>...</td>\n",
       "      <td>...</td>\n",
       "      <td>...</td>\n",
       "    </tr>\n",
       "    <tr>\n",
       "      <th>722</th>\n",
       "      <td>False</td>\n",
       "      <td>False</td>\n",
       "      <td>False</td>\n",
       "      <td>False</td>\n",
       "      <td>False</td>\n",
       "      <td>False</td>\n",
       "    </tr>\n",
       "    <tr>\n",
       "      <th>723</th>\n",
       "      <td>False</td>\n",
       "      <td>False</td>\n",
       "      <td>False</td>\n",
       "      <td>False</td>\n",
       "      <td>False</td>\n",
       "      <td>False</td>\n",
       "    </tr>\n",
       "    <tr>\n",
       "      <th>724</th>\n",
       "      <td>False</td>\n",
       "      <td>False</td>\n",
       "      <td>False</td>\n",
       "      <td>False</td>\n",
       "      <td>False</td>\n",
       "      <td>False</td>\n",
       "    </tr>\n",
       "    <tr>\n",
       "      <th>725</th>\n",
       "      <td>False</td>\n",
       "      <td>False</td>\n",
       "      <td>False</td>\n",
       "      <td>False</td>\n",
       "      <td>False</td>\n",
       "      <td>False</td>\n",
       "    </tr>\n",
       "    <tr>\n",
       "      <th>726</th>\n",
       "      <td>False</td>\n",
       "      <td>False</td>\n",
       "      <td>False</td>\n",
       "      <td>False</td>\n",
       "      <td>False</td>\n",
       "      <td>False</td>\n",
       "    </tr>\n",
       "  </tbody>\n",
       "</table>\n",
       "<p>727 rows × 6 columns</p>\n",
       "</div>"
      ],
      "text/plain": [
       "      Date  Decimal Date  Average  Interpolated  Trend  Number of Days\n",
       "0    False         False    False         False  False           False\n",
       "1    False         False    False         False  False           False\n",
       "2    False         False    False         False  False           False\n",
       "3    False         False    False         False  False           False\n",
       "4    False         False    False         False  False           False\n",
       "..     ...           ...      ...           ...    ...             ...\n",
       "722  False         False    False         False  False           False\n",
       "723  False         False    False         False  False           False\n",
       "724  False         False    False         False  False           False\n",
       "725  False         False    False         False  False           False\n",
       "726  False         False    False         False  False           False\n",
       "\n",
       "[727 rows x 6 columns]"
      ]
     },
     "execution_count": 3,
     "metadata": {},
     "output_type": "execute_result"
    }
   ],
   "source": [
    "co.isnull()"
   ]
  },
  {
   "cell_type": "code",
   "execution_count": 5,
   "id": "d030e013-a389-4445-aeb5-270357644471",
   "metadata": {},
   "outputs": [
    {
     "data": {
      "text/plain": [
       "<bound method DataFrame.dropna of            Date  Decimal Date  Average  Interpolated   Trend  Number of Days\n",
       "0    1958-03-01      1958.208   315.71        315.71  314.62              -1\n",
       "1    1958-04-01      1958.292   317.45        317.45  315.29              -1\n",
       "2    1958-05-01      1958.375   317.50        317.50  314.71              -1\n",
       "3    1958-06-01      1958.458   -99.99        317.10  314.85              -1\n",
       "4    1958-07-01      1958.542   315.86        315.86  314.98              -1\n",
       "..          ...           ...      ...           ...     ...             ...\n",
       "722  2018-05-01      2018.375   411.24        411.24  407.91              24\n",
       "723  2018-06-01      2018.458   410.79        410.79  408.49              29\n",
       "724  2018-07-01      2018.542   408.71        408.71  408.32              27\n",
       "725  2018-08-01      2018.625   406.99        406.99  408.90              30\n",
       "726  2018-09-01      2018.708   405.51        405.51  409.02              29\n",
       "\n",
       "[727 rows x 6 columns]>"
      ]
     },
     "execution_count": 5,
     "metadata": {},
     "output_type": "execute_result"
    }
   ],
   "source": [
    "co.dropna"
   ]
  },
  {
   "cell_type": "code",
   "execution_count": 28,
   "id": "a011afe0-56b9-4153-a958-946d5e132619",
   "metadata": {},
   "outputs": [
    {
     "name": "stdout",
     "output_type": "stream",
     "text": [
      "       Region Total Adults Male Adults Female Adults  Adults Aged 18-24  \\\n",
      "0      Dublin        4,287       2,776         1,511                708   \n",
      "1    Mid-East          318         205           113                 51   \n",
      "2    Midlands           91          60            31                 21   \n",
      "3    Mid-West          299         203            96                 31   \n",
      "4  North-East           75          59            16                  5   \n",
      "5  North-West           74          51            23                 14   \n",
      "6  South-East          193         137            56                 29   \n",
      "7  South-West          512         361           151                 65   \n",
      "8        West          282         166           116                 65   \n",
      "\n",
      "  Adults Aged 25-44 Adults Aged 45-64  Adults Aged 65+  \\\n",
      "0             2,374             1,141               64   \n",
      "1               162                96                9   \n",
      "2                49                18                3   \n",
      "3               169                93                6   \n",
      "4                44                21                5   \n",
      "5                38                21                1   \n",
      "6               110                48                6   \n",
      "7               283               145               19   \n",
      "8               128                74               15   \n",
      "\n",
      "  Number of people who accessed Private Emergency Accommodation  \\\n",
      "0                                              2,329              \n",
      "1                                                192              \n",
      "2                                                 65              \n",
      "3                                                 28              \n",
      "4                                                 12              \n",
      "5                                                 27              \n",
      "6                                                 53              \n",
      "7                                                339              \n",
      "8                                                160              \n",
      "\n",
      "  Number of people who accessed Supported Temporary Accommodation  \\\n",
      "0                                              1,997                \n",
      "1                                                112                \n",
      "2                                                  0                \n",
      "3                                                240                \n",
      "4                                                 54                \n",
      "5                                                 32                \n",
      "6                                                140                \n",
      "7                                                179                \n",
      "8                                                122                \n",
      "\n",
      "   Number of people who accessed Temporary Emergency Accommodation  \\\n",
      "0                                                 39                 \n",
      "1                                                  3                 \n",
      "2                                                 26                 \n",
      "3                                                 31                 \n",
      "4                                                  8                 \n",
      "5                                                 15                 \n",
      "6                                                  0                 \n",
      "7                                                  0                 \n",
      "8                                                  0                 \n",
      "\n",
      "   Number of people who accessed Other Accommodation  Number of Families  \\\n",
      "0                                                  0                 752   \n",
      "1                                                 11                  52   \n",
      "2                                                  0                   6   \n",
      "3                                                  0                  32   \n",
      "4                                                  1                   9   \n",
      "5                                                  0                   8   \n",
      "6                                                  0                  18   \n",
      "7                                                  0                  60   \n",
      "8                                                  0                  68   \n",
      "\n",
      "  Number of Adults in Families Number of Child Dependants in Families  \n",
      "0                        1,268                                  1,806  \n",
      "1                           84                                    104  \n",
      "2                            7                                     11  \n",
      "3                           44                                     52  \n",
      "4                           11                                     20  \n",
      "5                            9                                     12  \n",
      "6                           24                                     39  \n",
      "7                           76                                    122  \n",
      "8                          104                                    178  \n"
     ]
    }
   ],
   "source": [
    "home=pd.read_csv(\"Home.csv\")\n",
    "print(home)"
   ]
  },
  {
   "cell_type": "code",
   "execution_count": null,
   "id": "1b7d3d74-9b08-4d51-8221-9d8fc639f7d9",
   "metadata": {},
   "outputs": [],
   "source": []
  },
  {
   "cell_type": "code",
   "execution_count": 16,
   "id": "e40a02c8-8c69-4578-85a6-bb5b3da3a0b6",
   "metadata": {},
   "outputs": [
    {
     "ename": "KeyError",
     "evalue": "'Nod'",
     "output_type": "error",
     "traceback": [
      "\u001b[1;31m---------------------------------------------------------------------------\u001b[0m",
      "\u001b[1;31mKeyError\u001b[0m                                  Traceback (most recent call last)",
      "\u001b[1;32m~\\anaconda3\\lib\\site-packages\\pandas\\core\\indexes\\base.py\u001b[0m in \u001b[0;36mget_loc\u001b[1;34m(self, key, method, tolerance)\u001b[0m\n\u001b[0;32m   3079\u001b[0m             \u001b[1;32mtry\u001b[0m\u001b[1;33m:\u001b[0m\u001b[1;33m\u001b[0m\u001b[1;33m\u001b[0m\u001b[0m\n\u001b[1;32m-> 3080\u001b[1;33m                 \u001b[1;32mreturn\u001b[0m \u001b[0mself\u001b[0m\u001b[1;33m.\u001b[0m\u001b[0m_engine\u001b[0m\u001b[1;33m.\u001b[0m\u001b[0mget_loc\u001b[0m\u001b[1;33m(\u001b[0m\u001b[0mcasted_key\u001b[0m\u001b[1;33m)\u001b[0m\u001b[1;33m\u001b[0m\u001b[1;33m\u001b[0m\u001b[0m\n\u001b[0m\u001b[0;32m   3081\u001b[0m             \u001b[1;32mexcept\u001b[0m \u001b[0mKeyError\u001b[0m \u001b[1;32mas\u001b[0m \u001b[0merr\u001b[0m\u001b[1;33m:\u001b[0m\u001b[1;33m\u001b[0m\u001b[1;33m\u001b[0m\u001b[0m\n",
      "\u001b[1;32mpandas\\_libs\\index.pyx\u001b[0m in \u001b[0;36mpandas._libs.index.IndexEngine.get_loc\u001b[1;34m()\u001b[0m\n",
      "\u001b[1;32mpandas\\_libs\\index.pyx\u001b[0m in \u001b[0;36mpandas._libs.index.IndexEngine.get_loc\u001b[1;34m()\u001b[0m\n",
      "\u001b[1;32mpandas\\_libs\\hashtable_class_helper.pxi\u001b[0m in \u001b[0;36mpandas._libs.hashtable.PyObjectHashTable.get_item\u001b[1;34m()\u001b[0m\n",
      "\u001b[1;32mpandas\\_libs\\hashtable_class_helper.pxi\u001b[0m in \u001b[0;36mpandas._libs.hashtable.PyObjectHashTable.get_item\u001b[1;34m()\u001b[0m\n",
      "\u001b[1;31mKeyError\u001b[0m: 'Nod'",
      "\nThe above exception was the direct cause of the following exception:\n",
      "\u001b[1;31mKeyError\u001b[0m                                  Traceback (most recent call last)",
      "\u001b[1;32m<ipython-input-16-4c55f0faca1c>\u001b[0m in \u001b[0;36m<module>\u001b[1;34m\u001b[0m\n\u001b[0;32m      1\u001b[0m \u001b[0mTrend\u001b[0m\u001b[1;33m=\u001b[0m \u001b[0mco\u001b[0m\u001b[1;33m[\u001b[0m\u001b[1;34m\"Trend\"\u001b[0m\u001b[1;33m]\u001b[0m\u001b[1;33m.\u001b[0m\u001b[0miloc\u001b[0m\u001b[1;33m[\u001b[0m\u001b[1;36m1\u001b[0m\u001b[1;33m:\u001b[0m\u001b[1;36m6\u001b[0m\u001b[1;33m]\u001b[0m\u001b[1;33m.\u001b[0m\u001b[0msort_values\u001b[0m\u001b[1;33m(\u001b[0m\u001b[1;33m)\u001b[0m\u001b[1;33m\u001b[0m\u001b[1;33m\u001b[0m\u001b[0m\n\u001b[1;32m----> 2\u001b[1;33m \u001b[0mNod\u001b[0m\u001b[1;33m=\u001b[0m \u001b[0mco\u001b[0m\u001b[1;33m[\u001b[0m\u001b[1;34m\"Nod\"\u001b[0m\u001b[1;33m]\u001b[0m\u001b[1;33m.\u001b[0m\u001b[0miloc\u001b[0m\u001b[1;33m[\u001b[0m\u001b[1;36m1\u001b[0m\u001b[1;33m:\u001b[0m\u001b[1;36m6\u001b[0m\u001b[1;33m]\u001b[0m\u001b[1;33m.\u001b[0m\u001b[0msort_values\u001b[0m\u001b[1;33m(\u001b[0m\u001b[1;33m)\u001b[0m\u001b[1;33m\u001b[0m\u001b[1;33m\u001b[0m\u001b[0m\n\u001b[0m\u001b[0;32m      3\u001b[0m \u001b[0mInterpolated\u001b[0m\u001b[1;33m=\u001b[0m \u001b[0mFood\u001b[0m\u001b[1;33m[\u001b[0m\u001b[1;34m'Interpolated'\u001b[0m\u001b[1;33m]\u001b[0m\u001b[1;33m.\u001b[0m\u001b[0miloc\u001b[0m\u001b[1;33m[\u001b[0m\u001b[1;36m1\u001b[0m\u001b[1;33m:\u001b[0m\u001b[1;36m6\u001b[0m\u001b[1;33m]\u001b[0m\u001b[1;33m.\u001b[0m\u001b[0msort_values\u001b[0m\u001b[1;33m(\u001b[0m\u001b[1;33m)\u001b[0m\u001b[1;33m\u001b[0m\u001b[1;33m\u001b[0m\u001b[0m\n",
      "\u001b[1;32m~\\anaconda3\\lib\\site-packages\\pandas\\core\\frame.py\u001b[0m in \u001b[0;36m__getitem__\u001b[1;34m(self, key)\u001b[0m\n\u001b[0;32m   3022\u001b[0m             \u001b[1;32mif\u001b[0m \u001b[0mself\u001b[0m\u001b[1;33m.\u001b[0m\u001b[0mcolumns\u001b[0m\u001b[1;33m.\u001b[0m\u001b[0mnlevels\u001b[0m \u001b[1;33m>\u001b[0m \u001b[1;36m1\u001b[0m\u001b[1;33m:\u001b[0m\u001b[1;33m\u001b[0m\u001b[1;33m\u001b[0m\u001b[0m\n\u001b[0;32m   3023\u001b[0m                 \u001b[1;32mreturn\u001b[0m \u001b[0mself\u001b[0m\u001b[1;33m.\u001b[0m\u001b[0m_getitem_multilevel\u001b[0m\u001b[1;33m(\u001b[0m\u001b[0mkey\u001b[0m\u001b[1;33m)\u001b[0m\u001b[1;33m\u001b[0m\u001b[1;33m\u001b[0m\u001b[0m\n\u001b[1;32m-> 3024\u001b[1;33m             \u001b[0mindexer\u001b[0m \u001b[1;33m=\u001b[0m \u001b[0mself\u001b[0m\u001b[1;33m.\u001b[0m\u001b[0mcolumns\u001b[0m\u001b[1;33m.\u001b[0m\u001b[0mget_loc\u001b[0m\u001b[1;33m(\u001b[0m\u001b[0mkey\u001b[0m\u001b[1;33m)\u001b[0m\u001b[1;33m\u001b[0m\u001b[1;33m\u001b[0m\u001b[0m\n\u001b[0m\u001b[0;32m   3025\u001b[0m             \u001b[1;32mif\u001b[0m \u001b[0mis_integer\u001b[0m\u001b[1;33m(\u001b[0m\u001b[0mindexer\u001b[0m\u001b[1;33m)\u001b[0m\u001b[1;33m:\u001b[0m\u001b[1;33m\u001b[0m\u001b[1;33m\u001b[0m\u001b[0m\n\u001b[0;32m   3026\u001b[0m                 \u001b[0mindexer\u001b[0m \u001b[1;33m=\u001b[0m \u001b[1;33m[\u001b[0m\u001b[0mindexer\u001b[0m\u001b[1;33m]\u001b[0m\u001b[1;33m\u001b[0m\u001b[1;33m\u001b[0m\u001b[0m\n",
      "\u001b[1;32m~\\anaconda3\\lib\\site-packages\\pandas\\core\\indexes\\base.py\u001b[0m in \u001b[0;36mget_loc\u001b[1;34m(self, key, method, tolerance)\u001b[0m\n\u001b[0;32m   3080\u001b[0m                 \u001b[1;32mreturn\u001b[0m \u001b[0mself\u001b[0m\u001b[1;33m.\u001b[0m\u001b[0m_engine\u001b[0m\u001b[1;33m.\u001b[0m\u001b[0mget_loc\u001b[0m\u001b[1;33m(\u001b[0m\u001b[0mcasted_key\u001b[0m\u001b[1;33m)\u001b[0m\u001b[1;33m\u001b[0m\u001b[1;33m\u001b[0m\u001b[0m\n\u001b[0;32m   3081\u001b[0m             \u001b[1;32mexcept\u001b[0m \u001b[0mKeyError\u001b[0m \u001b[1;32mas\u001b[0m \u001b[0merr\u001b[0m\u001b[1;33m:\u001b[0m\u001b[1;33m\u001b[0m\u001b[1;33m\u001b[0m\u001b[0m\n\u001b[1;32m-> 3082\u001b[1;33m                 \u001b[1;32mraise\u001b[0m \u001b[0mKeyError\u001b[0m\u001b[1;33m(\u001b[0m\u001b[0mkey\u001b[0m\u001b[1;33m)\u001b[0m \u001b[1;32mfrom\u001b[0m \u001b[0merr\u001b[0m\u001b[1;33m\u001b[0m\u001b[1;33m\u001b[0m\u001b[0m\n\u001b[0m\u001b[0;32m   3083\u001b[0m \u001b[1;33m\u001b[0m\u001b[0m\n\u001b[0;32m   3084\u001b[0m         \u001b[1;32mif\u001b[0m \u001b[0mtolerance\u001b[0m \u001b[1;32mis\u001b[0m \u001b[1;32mnot\u001b[0m \u001b[1;32mNone\u001b[0m\u001b[1;33m:\u001b[0m\u001b[1;33m\u001b[0m\u001b[1;33m\u001b[0m\u001b[0m\n",
      "\u001b[1;31mKeyError\u001b[0m: 'Nod'"
     ]
    }
   ],
   "source": [
    "Trend= co[\"Trend\"].iloc[1:6].sort_values()\n",
    "Nod= co[\"Nod\"].iloc[1:6].sort_values()\n",
    "Interpolated= Food['Interpolated'].iloc[1:6].sort_values()"
   ]
  },
  {
   "cell_type": "code",
   "execution_count": 13,
   "id": "22d30469-b2ae-4307-b1ae-94bb83ba8edf",
   "metadata": {},
   "outputs": [
    {
     "ename": "NameError",
     "evalue": "name 'Commodity' is not defined",
     "output_type": "error",
     "traceback": [
      "\u001b[1;31m---------------------------------------------------------------------------\u001b[0m",
      "\u001b[1;31mNameError\u001b[0m                                 Traceback (most recent call last)",
      "\u001b[1;32m<ipython-input-13-a3787fe51370>\u001b[0m in \u001b[0;36m<module>\u001b[1;34m\u001b[0m\n\u001b[0;32m      1\u001b[0m \u001b[0mplt\u001b[0m\u001b[1;33m.\u001b[0m\u001b[0mfigure\u001b[0m\u001b[1;33m(\u001b[0m\u001b[0mfigsize\u001b[0m \u001b[1;33m=\u001b[0m \u001b[1;33m(\u001b[0m\u001b[1;36m20\u001b[0m\u001b[1;33m,\u001b[0m\u001b[1;36m5\u001b[0m\u001b[1;33m)\u001b[0m\u001b[1;33m)\u001b[0m\u001b[1;33m\u001b[0m\u001b[1;33m\u001b[0m\u001b[0m\n\u001b[0;32m      2\u001b[0m \u001b[0mplt\u001b[0m\u001b[1;33m.\u001b[0m\u001b[0msubplot\u001b[0m\u001b[1;33m(\u001b[0m\u001b[1;36m131\u001b[0m\u001b[1;33m)\u001b[0m\u001b[1;33m\u001b[0m\u001b[1;33m\u001b[0m\u001b[0m\n\u001b[1;32m----> 3\u001b[1;33m \u001b[0mplt\u001b[0m\u001b[1;33m.\u001b[0m\u001b[0mplot\u001b[0m\u001b[1;33m(\u001b[0m\u001b[0mCommodity\u001b[0m\u001b[1;33m,\u001b[0m \u001b[0mNairaPrice\u001b[0m\u001b[1;33m,\u001b[0m\u001b[1;34m\"r--\"\u001b[0m\u001b[1;33m)\u001b[0m\u001b[1;33m\u001b[0m\u001b[1;33m\u001b[0m\u001b[0m\n\u001b[0m\u001b[0;32m      4\u001b[0m \u001b[0mplt\u001b[0m\u001b[1;33m.\u001b[0m\u001b[0mxlabel\u001b[0m\u001b[1;33m(\u001b[0m\u001b[1;34m\"Commodities\"\u001b[0m\u001b[1;33m)\u001b[0m\u001b[1;33m\u001b[0m\u001b[1;33m\u001b[0m\u001b[0m\n\u001b[0;32m      5\u001b[0m \u001b[0mplt\u001b[0m\u001b[1;33m.\u001b[0m\u001b[0mylabel\u001b[0m\u001b[1;33m(\u001b[0m\u001b[1;34m\"Price in Naira\"\u001b[0m\u001b[1;33m)\u001b[0m\u001b[1;33m\u001b[0m\u001b[1;33m\u001b[0m\u001b[0m\n",
      "\u001b[1;31mNameError\u001b[0m: name 'Commodity' is not defined"
     ]
    },
    {
     "data": {
      "image/png": "[encoded data removed]",
      "text/plain": [
       "<Figure size 1440x360 with 1 Axes>"
      ]
     },
     "metadata": {
      "needs_background": "light"
     },
     "output_type": "display_data"
    }
   ],
   "source": [
    "plt.figure(figsize = (20,5))\n",
    "plt.subplot(131)\n",
    "plt.plot(Commodity, NairaPrice,\"r--\")\n",
    "plt.xlabel(\"Commodities\")\n",
    "plt.ylabel(\"Price in Naira\")\n",
    "plt.title(\"A Graph of Food Price in Nigeria(NGN)\")\n",
    "plt.legend(\"Price in NGN\")\n",
    "plt.grid()\n",
    "plt.subplot(132)\n",
    "plt.plot(Commodity, UsdPrice,\"co\")\n",
    "plt.xlabel(\"Commodities\")\n",
    "plt.ylabel(\"Price in Usd\")\n",
    "plt.title(\"A Graph of Food Price in Nigeria(Usd)\")\n",
    "plt.legend(\"Price in USD\")\n",
    "plt.grid()\n",
    "plt.show()"
   ]
  },
  {
   "cell_type": "code",
   "execution_count": null,
   "id": "19267fac-bbcd-4a43-ab7e-0c81840c8cb3",
   "metadata": {},
   "outputs": [],
   "source": []
  }
 ],
 "metadata": {
  "kernelspec": {
   "display_name": "Python 3",
   "language": "python",
   "name": "python3"
  },
  "language_info": {
   "codemirror_mode": {
    "name": "ipython",
    "version": 3
   },
   "file_extension": ".py",
   "mimetype": "text/x-python",
   "name": "python",
   "nbconvert_exporter": "python",
   "pygments_lexer": "ipython3",
   "version": "3.8.8"
  }
 },
 "nbformat": 4,
 "nbformat_minor": 5
}
