{
 "cells": [
  {
   "cell_type": "code",
   "execution_count": 1,
   "id": "e352bc5d-6d33-48b0-80c3-d577afa3cae5",
   "metadata": {},
   "outputs": [
    {
     "data": {
      "text/plain": [
       "'boy'"
      ]
     },
     "execution_count": 1,
     "metadata": {},
     "output_type": "execute_result"
    }
   ],
   "source": [
    "A = (\"boy\")\n",
    "A"
   ]
  },
  {
   "cell_type": "code",
   "execution_count": 2,
   "id": "ed78ab61-be8e-4cfa-a2c2-4769031b64fd",
   "metadata": {},
   "outputs": [
    {
     "data": {
      "text/plain": [
       "'boy'"
      ]
     },
     "execution_count": 2,
     "metadata": {},
     "output_type": "execute_result"
    }
   ],
   "source": [
    "A2 = (\"boy\")\n",
    "A2"
   ]
  },
  {
   "cell_type": "code",
   "execution_count": 5,
   "id": "b1ed9fc1-e00f-434d-8c6c-fbd85a47a3de",
   "metadata": {},
   "outputs": [
    {
     "data": {
      "text/plain": [
       "'toy'"
      ]
     },
     "execution_count": 5,
     "metadata": {},
     "output_type": "execute_result"
    }
   ],
   "source": [
    "A_2 = (\"toy\")\n",
    "A_2"
   ]
  },
  {
   "cell_type": "code",
   "execution_count": 6,
   "id": "0b69c53c-0b1e-4122-82a9-70213e13d603",
   "metadata": {},
   "outputs": [
    {
     "data": {
      "text/plain": [
       "'Soy'"
      ]
     },
     "execution_count": 6,
     "metadata": {},
     "output_type": "execute_result"
    }
   ],
   "source": [
    "A_2= (\"Soy\")\n",
    "A_2"
   ]
  },
  {
   "cell_type": "code",
   "execution_count": 12,
   "id": "b565688b-aff8-4279-9d31-fd52e3c02f1b",
   "metadata": {},
   "outputs": [
    {
     "data": {
      "text/plain": [
       "\"Hello Bam, what's up with you?\\nit's been along time, let me tell you what I do not like about you\\n    I dislike the fact that you are not a social person,\\nparties and social gatherings are not your thing \\nand you seldom attend church service, one of these days,\\n    I'm coming to drag you to the club, this is just a way of giving \\nyou headsup that I'm gonna check on you soon\""
      ]
     },
     "execution_count": 12,
     "metadata": {},
     "output_type": "execute_result"
    }
   ],
   "source": [
    "H = ('''Hello Bam, what's up with you?\n",
    "it's been along time, let me tell you what I do not like about you\n",
    "    I dislike the fact that you are not a social person,\n",
    "parties and social gatherings are not your thing \n",
    "and you seldom attend church service, one of these days,\n",
    "    I'm coming to drag you to the club, this is just a way of giving \n",
    "you headsup that I'm gonna check on you soon''')\n",
    "H"
   ]
  },
  {
   "cell_type": "code",
   "execution_count": 5,
   "id": "5c1c39d4-7cf3-4177-9289-8ef4d68a348d",
   "metadata": {},
   "outputs": [
    {
     "name": "stdout",
     "output_type": "stream",
     "text": [
      "Steve is a Male who lives in Lagos\n"
     ]
    }
   ],
   "source": [
    "Name = \"Steve\"\n",
    "Gender =\"Male\"\n",
    "Location = \"Lagos\"\n",
    "print(\"{} is a {} who lives in {}\".format(Name,Gender,Location))\n",
    "\n"
   ]
  },
  {
   "cell_type": "code",
   "execution_count": 4,
   "id": "740de13f-9499-4ad6-8a80-2c15bc05f0a7",
   "metadata": {},
   "outputs": [
    {
     "name": "stdout",
     "output_type": "stream",
     "text": [
      "Steve is a young Male who has never been to Lagos but the thought of a single Male living in Lagos amuses him to think of himself as Steve Wonder the broke Male celebrity\n"
     ]
    }
   ],
   "source": [
    "Name =\"Steve\"\n",
    "Gender =\"Male\"\n",
    "Location =\"Lagos\"\n",
    "\n",
    "print(\"{} is a young {} who has never been to {} but the thought of a single {} living in {} amuses him to think of himself as {} Wonder the broke {} celebrity\".format(Name,Gender,Location,Gender,Location,Name,Gender))\n"
   ]
  },
  {
   "cell_type": "code",
   "execution_count": 8,
   "id": "3baf93b5-75c6-4142-b803-79a70032b35c",
   "metadata": {},
   "outputs": [
    {
     "name": "stdout",
     "output_type": "stream",
     "text": [
      "Steve is a young Male who has never been to Lagos but the thought of a single Male living in Lagos amuses him to think of himself as Steve Wonder the broke Male celebrity\n"
     ]
    }
   ],
   "source": [
    "Name =\"Steve\"\n",
    "Gender =\"Male\"\n",
    "Location =\"Lagos\"\n",
    "\n",
    "print(\"{} is a young {} who has never been to {} but the thought of a single {} living in {} amuses him to think of himself as {} Wonder the broke {} celebrity\".format(Name,Gender,Location,Gender,Location,Name,Gender))\n"
   ]
  },
  {
   "cell_type": "code",
   "execution_count": null,
   "id": "203575f2-969e-4daf-baac-616d0499d063",
   "metadata": {},
   "outputs": [],
   "source": [
    "Steve is a young Male who has never been to Lagos but the thought of a single Male living in Lagos amuses him to think of himself as Steve Wonder the broke Male celebrity.\n"
   ]
  },
  {
   "cell_type": "code",
   "execution_count": 16,
   "id": "bbb19df7-d2a5-41be-bf41-afdec544e1bb",
   "metadata": {},
   "outputs": [
    {
     "name": "stdin",
     "output_type": "stream",
     "text": [
      "your name Ayo\n"
     ]
    },
    {
     "name": "stdout",
     "output_type": "stream",
     "text": [
      "Hello Ayo\n"
     ]
    }
   ],
   "source": [
    "name = input(\"your name\")\n",
    "print('Hello',name)"
   ]
  },
  {
   "cell_type": "code",
   "execution_count": null,
   "id": "1d8d1da2-8d64-44af-ad44-fe1a4079b66c",
   "metadata": {},
   "outputs": [],
   "source": [
    "Age = int (input(\"DOB\"))\n",
    "print(2022 - Age)\n",
    "\n",
    "print('Hello '+ name  + ' you are '  +  str(age) + ' years old. ')\n",
    "\n",
    "Fage = (Age+12)"
   ]
  },
  {
   "cell_type": "code",
   "execution_count": 15,
   "id": "d0163df6-c5e7-4e89-be88-34344f1b0212",
   "metadata": {},
   "outputs": [
    {
     "name": "stdin",
     "output_type": "stream",
     "text": [
      "a string bolanle\n"
     ]
    },
    {
     "data": {
      "text/plain": [
       "7"
      ]
     },
     "execution_count": 15,
     "metadata": {},
     "output_type": "execute_result"
    }
   ],
   "source": [
    "\n",
    "\n",
    "\n",
    "work = input(\"a string\")\n",
    "len(work)"
   ]
  },
  {
   "cell_type": "code",
   "execution_count": 22,
   "id": "364fa352-1619-4550-bc6d-258e7b7af380",
   "metadata": {},
   "outputs": [
    {
     "data": {
      "text/plain": [
       "'b'"
      ]
     },
     "execution_count": 22,
     "metadata": {},
     "output_type": "execute_result"
    }
   ],
   "source": [
    "work[0]"
   ]
  },
  {
   "cell_type": "code",
   "execution_count": 24,
   "id": "2b22aea7-1993-4bc3-a8ae-c351f30f514d",
   "metadata": {},
   "outputs": [
    {
     "data": {
      "text/plain": [
       "'bol'"
      ]
     },
     "execution_count": 24,
     "metadata": {},
     "output_type": "execute_result"
    }
   ],
   "source": [
    "work[0:3]"
   ]
  },
  {
   "cell_type": "code",
   "execution_count": 110,
   "id": "cc194cea-03c6-46fa-acff-8b27d7d94dd1",
   "metadata": {},
   "outputs": [
    {
     "ename": "TypeError",
     "evalue": "'>' not supported between instances of 'int' and 'list'",
     "output_type": "error",
     "traceback": [
      "\u001b[1;31m---------------------------------------------------------------------------\u001b[0m",
      "\u001b[1;31mTypeError\u001b[0m                                 Traceback (most recent call last)",
      "\u001b[1;32m<ipython-input-110-6f492d05c9b2>\u001b[0m in \u001b[0;36m<module>\u001b[1;34m\u001b[0m\n\u001b[0;32m      1\u001b[0m \u001b[0mindex\u001b[0m \u001b[1;33m=\u001b[0m \u001b[1;33m[\u001b[0m\u001b[1;33m-\u001b[0m\u001b[1;36m1\u001b[0m\u001b[1;33m]\u001b[0m\u001b[1;33m\u001b[0m\u001b[1;33m\u001b[0m\u001b[0m\n\u001b[1;32m----> 2\u001b[1;33m \u001b[1;32mwhile\u001b[0m \u001b[0mlen\u001b[0m \u001b[1;33m(\u001b[0m\u001b[0mwork\u001b[0m\u001b[1;33m)\u001b[0m \u001b[1;33m>\u001b[0m \u001b[0mindex\u001b[0m\u001b[1;33m:\u001b[0m\u001b[1;33m\u001b[0m\u001b[1;33m\u001b[0m\u001b[0m\n\u001b[0m\u001b[0;32m      3\u001b[0m     \u001b[0mbkwd\u001b[0m\u001b[1;33m=\u001b[0m\u001b[0mwork\u001b[0m\u001b[1;33m[\u001b[0m\u001b[0mindex\u001b[0m\u001b[1;33m]\u001b[0m\u001b[1;33m\u001b[0m\u001b[1;33m\u001b[0m\u001b[0m\n\u001b[0;32m      4\u001b[0m     \u001b[0mprint\u001b[0m\u001b[1;33m(\u001b[0m\u001b[0mbkwd\u001b[0m\u001b[1;33m)\u001b[0m\u001b[1;33m\u001b[0m\u001b[1;33m\u001b[0m\u001b[0m\n",
      "\u001b[1;31mTypeError\u001b[0m: '>' not supported between instances of 'int' and 'list'"
     ]
    }
   ],
   "source": [
    "index = [-1]\n",
    "while len (work) > index:\n",
    "    bkwd=work[index]\n",
    "    print(bkwd)"
   ]
  },
  {
   "cell_type": "markdown",
   "id": "283cec26-5071-445d-9f2e-6e4af245dbef",
   "metadata": {},
   "source": [
    "# work[6]"
   ]
  },
  {
   "cell_type": "code",
   "execution_count": 111,
   "id": "e1daae87-82b9-46c2-950e-72249ef05228",
   "metadata": {},
   "outputs": [
    {
     "data": {
      "text/plain": [
       "'olanl'"
      ]
     },
     "execution_count": 111,
     "metadata": {},
     "output_type": "execute_result"
    }
   ],
   "source": [
    "work[1:6]"
   ]
  },
  {
   "cell_type": "code",
   "execution_count": 47,
   "id": "fb57e7f3-6726-4b30-9687-9493303fc419",
   "metadata": {},
   "outputs": [
    {
     "data": {
      "text/plain": [
       "'BOLANLE'"
      ]
     },
     "execution_count": 47,
     "metadata": {},
     "output_type": "execute_result"
    }
   ],
   "source": [
    "work.upper()"
   ]
  },
  {
   "cell_type": "code",
   "execution_count": 53,
   "id": "33043c66-7f3c-47db-9553-b3e7c62daecc",
   "metadata": {},
   "outputs": [
    {
     "data": {
      "text/plain": [
       "'bolenle'"
      ]
     },
     "execution_count": 53,
     "metadata": {},
     "output_type": "execute_result"
    }
   ],
   "source": [
    "work.replace(\"a\",\"e\")"
   ]
  },
  {
   "cell_type": "code",
   "execution_count": 72,
   "id": "cf0eeef8-990f-4aa9-b256-b91a0923d924",
   "metadata": {},
   "outputs": [
    {
     "name": "stdin",
     "output_type": "stream",
     "text": [
      "a formular LXB\n"
     ]
    }
   ],
   "source": [
    "form = input(\"a formular\")\n"
   ]
  },
  {
   "cell_type": "code",
   "execution_count": 73,
   "id": "22419541-638e-491c-8174-59e8e2c66e60",
   "metadata": {},
   "outputs": [
    {
     "data": {
      "text/plain": [
       "3"
      ]
     },
     "execution_count": 73,
     "metadata": {},
     "output_type": "execute_result"
    }
   ],
   "source": [
    "len(form)"
   ]
  },
  {
   "cell_type": "code",
   "execution_count": 74,
   "id": "11fcdc90-d574-406a-b001-bae5b8d1add3",
   "metadata": {},
   "outputs": [
    {
     "data": {
      "text/plain": [
       "4"
      ]
     },
     "execution_count": 74,
     "metadata": {},
     "output_type": "execute_result"
    }
   ],
   "source": [
    "len(\"form\")"
   ]
  },
  {
   "cell_type": "code",
   "execution_count": 90,
   "id": "24f9a967-634b-4573-81c3-256f9e1d477f",
   "metadata": {},
   "outputs": [
    {
     "name": "stdin",
     "output_type": "stream",
     "text": [
      "a word:  pass\n"
     ]
    }
   ],
   "source": [
    "form = input(\"a word: \")"
   ]
  },
  {
   "cell_type": "code",
   "execution_count": 98,
   "id": "398edb77-d962-4cb5-9b72-d05067ebf206",
   "metadata": {},
   "outputs": [
    {
     "ename": "SyntaxError",
     "evalue": "invalid syntax (<ipython-input-98-54332a276912>, line 1)",
     "output_type": "error",
     "traceback": [
      "\u001b[1;36m  File \u001b[1;32m\"<ipython-input-98-54332a276912>\"\u001b[1;36m, line \u001b[1;32m1\u001b[0m\n\u001b[1;33m    if(form=='a' or form=='e' or form=='i' or form=='o' or form=='u')\u001b[0m\n\u001b[1;37m                                                                     ^\u001b[0m\n\u001b[1;31mSyntaxError\u001b[0m\u001b[1;31m:\u001b[0m invalid syntax\n"
     ]
    }
   ],
   "source": [
    "if(form=='a' or form=='e' or form=='i' or form=='o' or form=='u')\n",
    "print (form, \"is a vowel\")\n",
    "else:\n",
    "print (form, \"is a consonant\")"
   ]
  },
  {
   "cell_type": "code",
   "execution_count": 102,
   "id": "f6103b93-7ce9-4125-aa97-a17db3ecc7ac",
   "metadata": {},
   "outputs": [
    {
     "name": "stdin",
     "output_type": "stream",
     "text": [
      "a word:  beet\n"
     ]
    },
    {
     "name": "stdout",
     "output_type": "stream",
     "text": [
      "['ee']\n"
     ]
    }
   ],
   "source": [
    "form = input(\"a word: \")\n",
    "def double_letter(form):\n",
    "    double_letters=[]\n",
    "    for i in range(len(form)-1):\n",
    "        if form[i]==form[i+1]:\n",
    "            double_letters.append(form[i] + form[i+1])\n",
    "            return double_letters\n",
    "print(double_letter(form))\n",
    "\n"
   ]
  },
  {
   "cell_type": "code",
   "execution_count": null,
   "id": "064bb43f-5813-4bfd-8992-4d6d6ff94ede",
   "metadata": {},
   "outputs": [],
   "source": []
  },
  {
   "cell_type": "code",
   "execution_count": null,
   "id": "67bf08f9-3db4-425d-894a-3918d8bbd0cf",
   "metadata": {},
   "outputs": [],
   "source": []
  }
 ],
 "metadata": {
  "kernelspec": {
   "display_name": "Python 3",
   "language": "python",
   "name": "python3"
  },
  "language_info": {
   "codemirror_mode": {
    "name": "ipython",
    "version": 3
   },
   "file_extension": ".py",
   "mimetype": "text/x-python",
   "name": "python",
   "nbconvert_exporter": "python",
   "pygments_lexer": "ipython3",
   "version": "3.8.8"
  }
 },
 "nbformat": 4,
 "nbformat_minor": 5
}
