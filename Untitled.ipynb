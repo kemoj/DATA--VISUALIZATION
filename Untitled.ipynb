{
 "cells": [
  {
   "cell_type": "code",
   "execution_count": 1,
   "id": "8eceb1a4-a376-4d58-8841-5a237b7390a2",
   "metadata": {},
   "outputs": [
    {
     "name": "stdout",
     "output_type": "stream",
     "text": [
      "The Zen of Python, by Tim Peters\n",
      "\n",
      "Beautiful is better than ugly.\n",
      "Explicit is better than implicit.\n",
      "Simple is better than complex.\n",
      "Complex is better than complicated.\n",
      "Flat is better than nested.\n",
      "Sparse is better than dense.\n",
      "Readability counts.\n",
      "Special cases aren't special enough to break the rules.\n",
      "Although practicality beats purity.\n",
      "Errors should never pass silently.\n",
      "Unless explicitly silenced.\n",
      "In the face of ambiguity, refuse the temptation to guess.\n",
      "There should be one-- and preferably only one --obvious way to do it.\n",
      "Although that way may not be obvious at first unless you're Dutch.\n",
      "Now is better than never.\n",
      "Although never is often better than *right* now.\n",
      "If the implementation is hard to explain, it's a bad idea.\n",
      "If the implementation is easy to explain, it may be a good idea.\n",
      "Namespaces are one honking great idea -- let's do more of those!\n"
     ]
    }
   ],
   "source": [
    "import this"
   ]
  },
  {
   "cell_type": "markdown",
   "id": "46721d6c-327b-42d5-a8e4-cf5937449b50",
   "metadata": {},
   "source": [
    "###### DIFFERENCE"
   ]
  },
  {
   "cell_type": "markdown",
   "id": "a2985ade-4a98-43ba-9a19-02b063e16d87",
   "metadata": {},
   "source": [
    "# DIFFERENCE "
   ]
  },
  {
   "cell_type": "markdown",
   "id": "4caf2c3e-7148-40af-a130-bd83c9a0c1e2",
   "metadata": {},
   "source": [
    "## Difference"
   ]
  },
  {
   "cell_type": "markdown",
   "id": "62090520-9df6-403d-92f9-b76c10b01e3e",
   "metadata": {},
   "source": []
  },
  {
   "cell_type": "markdown",
   "id": "14144e5f-2e39-49fc-85c5-0b0e296ce1eb",
   "metadata": {},
   "source": [
    "####### DIFFERENCE"
   ]
  },
  {
   "cell_type": "markdown",
   "id": "ed495848-06fa-4905-a642-483145454134",
   "metadata": {},
   "source": []
  },
  {
   "cell_type": "markdown",
   "id": "c207dad5-f0d5-414a-ae0a-d74f67a14001",
   "metadata": {},
   "source": [
    "###### law"
   ]
  },
  {
   "cell_type": "code",
   "execution_count": null,
   "id": "56f6108e-0e12-41a7-9b73-552d68736d1f",
   "metadata": {},
   "outputs": [],
   "source": [
    "###### italics"
   ]
  }
 ],
 "metadata": {
  "kernelspec": {
   "display_name": "Python 3",
   "language": "python",
   "name": "python3"
  },
  "language_info": {
   "codemirror_mode": {
    "name": "ipython",
    "version": 3
   },
   "file_extension": ".py",
   "mimetype": "text/x-python",
   "name": "python",
   "nbconvert_exporter": "python",
   "pygments_lexer": "ipython3",
   "version": "3.8.8"
  }
 },
 "nbformat": 4,
 "nbformat_minor": 5
}
