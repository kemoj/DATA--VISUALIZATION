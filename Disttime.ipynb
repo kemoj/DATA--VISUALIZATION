{
 "cells": [
  {
   "cell_type": "code",
   "execution_count": 11,
   "id": "b5fd285b-d629-44b5-88b0-49740e106664",
   "metadata": {},
   "outputs": [],
   "source": [
    "import numpy as np\n"
   ]
  },
  {
   "cell_type": "code",
   "execution_count": 13,
   "id": "0dbb62b3-1ee1-4f72-85b4-c31b87fe6353",
   "metadata": {},
   "outputs": [],
   "source": [
    "import pandas as pd\n"
   ]
  },
  {
   "cell_type": "code",
   "execution_count": 17,
   "id": "2ca473ff-dc29-49bc-9b5c-2a2afa66b765",
   "metadata": {},
   "outputs": [
    {
     "name": "stdout",
     "output_type": "stream",
     "text": [
      "          Date StartTime  DayOfWeek GoingTo  Distance  MaxSpeed  AvgSpeed  \\\n",
      "0     1/6/2012     16:37     Friday    Home     51.29     127.4      78.3   \n",
      "1     1/6/2012     08:20     Friday     GSK     51.63     130.3      81.8   \n",
      "2     1/4/2012     16:17  Wednesday    Home     51.27     127.4      82.0   \n",
      "3     1/4/2012     07:53  Wednesday     GSK     49.17     132.3      74.2   \n",
      "4     1/3/2012     18:57    Tuesday    Home     51.15     136.2      83.4   \n",
      "..         ...       ...        ...     ...       ...       ...       ...   \n",
      "200  7/18/2011     08:09     Monday     GSK     54.52     125.6      49.9   \n",
      "201  7/14/2011     08:03   Thursday     GSK     50.90     123.7      76.2   \n",
      "202  7/13/2011     17:08  Wednesday    Home     51.96     132.6      57.5   \n",
      "203  7/12/2011     17:51    Tuesday    Home     53.28     125.8      61.6   \n",
      "204  7/11/2011     16:56     Monday    Home     51.73     125.0      62.8   \n",
      "\n",
      "     AvgMovingSpeed FuelEconomy  TotalTime  MovingTime Take407All Comments  \n",
      "0              84.8         NaN       39.3        36.3         No      NaN  \n",
      "1              88.9         NaN       37.9        34.9         No      NaN  \n",
      "2              85.8         NaN       37.5        35.9         No      NaN  \n",
      "3              82.9         NaN       39.8        35.6         No      NaN  \n",
      "4              88.1         NaN       36.8        34.8         No      NaN  \n",
      "..              ...         ...        ...         ...        ...      ...  \n",
      "200            82.4        7.89       65.5        39.7         No      NaN  \n",
      "201            95.1        7.89       40.1        32.1        Yes      NaN  \n",
      "202            76.7         NaN       54.2        40.6        Yes      NaN  \n",
      "203            87.6         NaN       51.9        36.5        Yes      NaN  \n",
      "204            92.5         NaN       49.5        33.6        Yes      NaN  \n",
      "\n",
      "[205 rows x 13 columns]\n"
     ]
    }
   ],
   "source": [
    "tt= pd.read_csv(\"travel-times.csv\")\n",
    "print(tt)\n"
   ]
  },
  {
   "cell_type": "code",
   "execution_count": null,
   "id": "533ea30b-a00e-472e-97c0-4d5e9610542e",
   "metadata": {},
   "outputs": [],
   "source": []
  },
  {
   "cell_type": "code",
   "execution_count": null,
   "id": "a4476dd0-e783-4f5a-8a07-1f3b93744208",
   "metadata": {},
   "outputs": [],
   "source": []
  },
  {
   "cell_type": "code",
   "execution_count": null,
   "id": "5af08025-999e-47c4-b6ea-92ba05c9b713",
   "metadata": {},
   "outputs": [],
   "source": []
  }
 ],
 "metadata": {
  "kernelspec": {
   "display_name": "Python 3",
   "language": "python",
   "name": "python3"
  },
  "language_info": {
   "codemirror_mode": {
    "name": "ipython",
    "version": 3
   },
   "file_extension": ".py",
   "mimetype": "text/x-python",
   "name": "python",
   "nbconvert_exporter": "python",
   "pygments_lexer": "ipython3",
   "version": "3.8.8"
  }
 },
 "nbformat": 4,
 "nbformat_minor": 5
}
