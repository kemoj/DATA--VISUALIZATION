{
 "cells": [
  {
   "cell_type": "code",
   "execution_count": null,
   "id": "5e12c724-63b3-4e74-a026-30ddf6b6b281",
   "metadata": {},
   "outputs": [],
   "source": [
    "import Pandas as pd\n"
   ]
  }
 ],
 "metadata": {
  "kernelspec": {
   "display_name": "",
   "name": ""
  },
  "language_info": {
   "name": ""
  }
 },
 "nbformat": 4,
 "nbformat_minor": 5
}
