{
 "cells": [
  {
   "cell_type": "code",
   "execution_count": 3,
   "id": "1c5636b6-7456-4c94-92f4-ab18c69f172d",
   "metadata": {},
   "outputs": [],
   "source": [
    "import pandas as pd"
   ]
  },
  {
   "cell_type": "code",
   "execution_count": 4,
   "id": "af4c7b01-f905-455d-b11f-31c66b6cbcbd",
   "metadata": {},
   "outputs": [],
   "source": [
    "import numpy as np"
   ]
  },
  {
   "cell_type": "code",
   "execution_count": 5,
   "id": "505e5dc6-73a1-49ae-9350-cb11a10e87f3",
   "metadata": {},
   "outputs": [],
   "source": [
    "import matplotlib.pyplot as plt"
   ]
  },
  {
   "cell_type": "code",
   "execution_count": 6,
   "id": "b8dba9ce-76b1-490c-8af5-23b419a42e2f",
   "metadata": {},
   "outputs": [
    {
     "name": "stdout",
     "output_type": "stream",
     "text": [
      "     Year  Type of Offence        M        F    F%\n",
      "0    2013              Debt     618       28  4.33\n",
      "1    2013             Arson     685       14     2\n",
      "2    2013            Affray    1000       12  1.19\n",
      "3    2013           Assault    8301      681  7.58\n",
      "4    2013            Murder    6852      320  4.46\n",
      "..    ...               ...     ...      ...   ...\n",
      "119  2016    Cultism/Ritual     401        2   0.5\n",
      "120  2016   Breach of peace     948       26  2.67\n",
      "121  2016     Other Offence   25942     1442  5.27\n",
      "122  2016             Total   36481     6367  4.46\n",
      "123  2016  Total calculated  136384  6365.83   NaN\n",
      "\n",
      "[124 rows x 5 columns]\n"
     ]
    }
   ],
   "source": [
    "prison= pd.read_csv(\"prison.csv\")\n",
    "print(prison)"
   ]
  },
  {
   "cell_type": "code",
   "execution_count": 7,
   "id": "d7296651-4724-4a2b-a4d5-4af6860ad208",
   "metadata": {},
   "outputs": [
    {
     "data": {
      "text/html": [
       "<div>\n",
       "<style scoped>\n",
       "    .dataframe tbody tr th:only-of-type {\n",
       "        vertical-align: middle;\n",
       "    }\n",
       "\n",
       "    .dataframe tbody tr th {\n",
       "        vertical-align: top;\n",
       "    }\n",
       "\n",
       "    .dataframe thead th {\n",
       "        text-align: right;\n",
       "    }\n",
       "</style>\n",
       "<table border=\"1\" class=\"dataframe\">\n",
       "  <thead>\n",
       "    <tr style=\"text-align: right;\">\n",
       "      <th></th>\n",
       "      <th>Year</th>\n",
       "    </tr>\n",
       "  </thead>\n",
       "  <tbody>\n",
       "    <tr>\n",
       "      <th>count</th>\n",
       "      <td>124.00000</td>\n",
       "    </tr>\n",
       "    <tr>\n",
       "      <th>mean</th>\n",
       "      <td>2014.50000</td>\n",
       "    </tr>\n",
       "    <tr>\n",
       "      <th>std</th>\n",
       "      <td>1.12257</td>\n",
       "    </tr>\n",
       "    <tr>\n",
       "      <th>min</th>\n",
       "      <td>2013.00000</td>\n",
       "    </tr>\n",
       "    <tr>\n",
       "      <th>25%</th>\n",
       "      <td>2013.75000</td>\n",
       "    </tr>\n",
       "    <tr>\n",
       "      <th>50%</th>\n",
       "      <td>2014.50000</td>\n",
       "    </tr>\n",
       "    <tr>\n",
       "      <th>75%</th>\n",
       "      <td>2015.25000</td>\n",
       "    </tr>\n",
       "    <tr>\n",
       "      <th>max</th>\n",
       "      <td>2016.00000</td>\n",
       "    </tr>\n",
       "  </tbody>\n",
       "</table>\n",
       "</div>"
      ],
      "text/plain": [
       "             Year\n",
       "count   124.00000\n",
       "mean   2014.50000\n",
       "std       1.12257\n",
       "min    2013.00000\n",
       "25%    2013.75000\n",
       "50%    2014.50000\n",
       "75%    2015.25000\n",
       "max    2016.00000"
      ]
     },
     "execution_count": 7,
     "metadata": {},
     "output_type": "execute_result"
    }
   ],
   "source": [
    "prison.describe()"
   ]
  },
  {
   "cell_type": "code",
   "execution_count": 10,
   "id": "408a64a4-662a-4612-a29b-bd6a50097cf1",
   "metadata": {},
   "outputs": [
    {
     "data": {
      "text/plain": [
       "0         618\n",
       "1         685\n",
       "2        1000\n",
       "3        8301\n",
       "4        6852\n",
       "        ...  \n",
       "119       401\n",
       "120       948\n",
       "121     25942\n",
       "122     36481\n",
       "123    136384\n",
       "Name: M, Length: 124, dtype: object"
      ]
     },
     "execution_count": 10,
     "metadata": {},
     "output_type": "execute_result"
    }
   ],
   "source": [
    "prison[\"M\"]"
   ]
  },
  {
   "cell_type": "code",
   "execution_count": 17,
   "id": "946cf57a-da86-4d5e-b7f3-7371c846288e",
   "metadata": {},
   "outputs": [
    {
     "data": {
      "text/html": [
       "<div>\n",
       "<style scoped>\n",
       "    .dataframe tbody tr th:only-of-type {\n",
       "        vertical-align: middle;\n",
       "    }\n",
       "\n",
       "    .dataframe tbody tr th {\n",
       "        vertical-align: top;\n",
       "    }\n",
       "\n",
       "    .dataframe thead th {\n",
       "        text-align: right;\n",
       "    }\n",
       "</style>\n",
       "<table border=\"1\" class=\"dataframe\">\n",
       "  <thead>\n",
       "    <tr style=\"text-align: right;\">\n",
       "      <th></th>\n",
       "      <th>Year</th>\n",
       "      <th>Type of Offence</th>\n",
       "      <th>M</th>\n",
       "      <th>F</th>\n",
       "      <th>F%</th>\n",
       "    </tr>\n",
       "  </thead>\n",
       "  <tbody>\n",
       "    <tr>\n",
       "      <th>0</th>\n",
       "      <td>False</td>\n",
       "      <td>False</td>\n",
       "      <td>False</td>\n",
       "      <td>False</td>\n",
       "      <td>False</td>\n",
       "    </tr>\n",
       "    <tr>\n",
       "      <th>1</th>\n",
       "      <td>False</td>\n",
       "      <td>False</td>\n",
       "      <td>False</td>\n",
       "      <td>False</td>\n",
       "      <td>False</td>\n",
       "    </tr>\n",
       "    <tr>\n",
       "      <th>2</th>\n",
       "      <td>False</td>\n",
       "      <td>False</td>\n",
       "      <td>False</td>\n",
       "      <td>False</td>\n",
       "      <td>False</td>\n",
       "    </tr>\n",
       "    <tr>\n",
       "      <th>3</th>\n",
       "      <td>False</td>\n",
       "      <td>False</td>\n",
       "      <td>False</td>\n",
       "      <td>False</td>\n",
       "      <td>False</td>\n",
       "    </tr>\n",
       "    <tr>\n",
       "      <th>4</th>\n",
       "      <td>False</td>\n",
       "      <td>False</td>\n",
       "      <td>False</td>\n",
       "      <td>False</td>\n",
       "      <td>False</td>\n",
       "    </tr>\n",
       "    <tr>\n",
       "      <th>...</th>\n",
       "      <td>...</td>\n",
       "      <td>...</td>\n",
       "      <td>...</td>\n",
       "      <td>...</td>\n",
       "      <td>...</td>\n",
       "    </tr>\n",
       "    <tr>\n",
       "      <th>119</th>\n",
       "      <td>False</td>\n",
       "      <td>False</td>\n",
       "      <td>False</td>\n",
       "      <td>False</td>\n",
       "      <td>False</td>\n",
       "    </tr>\n",
       "    <tr>\n",
       "      <th>120</th>\n",
       "      <td>False</td>\n",
       "      <td>False</td>\n",
       "      <td>False</td>\n",
       "      <td>False</td>\n",
       "      <td>False</td>\n",
       "    </tr>\n",
       "    <tr>\n",
       "      <th>121</th>\n",
       "      <td>False</td>\n",
       "      <td>False</td>\n",
       "      <td>False</td>\n",
       "      <td>False</td>\n",
       "      <td>False</td>\n",
       "    </tr>\n",
       "    <tr>\n",
       "      <th>122</th>\n",
       "      <td>False</td>\n",
       "      <td>False</td>\n",
       "      <td>False</td>\n",
       "      <td>False</td>\n",
       "      <td>False</td>\n",
       "    </tr>\n",
       "    <tr>\n",
       "      <th>123</th>\n",
       "      <td>False</td>\n",
       "      <td>False</td>\n",
       "      <td>False</td>\n",
       "      <td>False</td>\n",
       "      <td>True</td>\n",
       "    </tr>\n",
       "  </tbody>\n",
       "</table>\n",
       "<p>124 rows × 5 columns</p>\n",
       "</div>"
      ],
      "text/plain": [
       "      Year  Type of Offence       M      F     F%\n",
       "0    False             False  False  False  False\n",
       "1    False             False  False  False  False\n",
       "2    False             False  False  False  False\n",
       "3    False             False  False  False  False\n",
       "4    False             False  False  False  False\n",
       "..     ...               ...    ...    ...    ...\n",
       "119  False             False  False  False  False\n",
       "120  False             False  False  False  False\n",
       "121  False             False  False  False  False\n",
       "122  False             False  False  False  False\n",
       "123  False             False  False  False   True\n",
       "\n",
       "[124 rows x 5 columns]"
      ]
     },
     "execution_count": 17,
     "metadata": {},
     "output_type": "execute_result"
    }
   ],
   "source": [
    "prison.isnull()"
   ]
  },
  {
   "cell_type": "code",
   "execution_count": 24,
   "id": "01824b48-7ed9-4159-a1e7-7bacca8b79b9",
   "metadata": {},
   "outputs": [
    {
     "data": {
      "text/plain": [
       "<bound method Series.notnull of 0      2013\n",
       "1      2013\n",
       "2      2013\n",
       "3      2013\n",
       "4      2013\n",
       "       ... \n",
       "119    2016\n",
       "120    2016\n",
       "121    2016\n",
       "122    2016\n",
       "123    2016\n",
       "Name: Year, Length: 124, dtype: int64>"
      ]
     },
     "execution_count": 24,
     "metadata": {},
     "output_type": "execute_result"
    }
   ],
   "source": [
    "prison.Year.notnull"
   ]
  },
  {
   "cell_type": "code",
   "execution_count": null,
   "id": "d1ecf115-9466-4cde-a8e9-662d5cc271c4",
   "metadata": {},
   "outputs": [],
   "source": []
  }
 ],
 "metadata": {
  "kernelspec": {
   "display_name": "Python 3",
   "language": "python",
   "name": "python3"
  },
  "language_info": {
   "codemirror_mode": {
    "name": "ipython",
    "version": 3
   },
   "file_extension": ".py",
   "mimetype": "text/x-python",
   "name": "python",
   "nbconvert_exporter": "python",
   "pygments_lexer": "ipython3",
   "version": "3.8.8"
  }
 },
 "nbformat": 4,
 "nbformat_minor": 5
}
