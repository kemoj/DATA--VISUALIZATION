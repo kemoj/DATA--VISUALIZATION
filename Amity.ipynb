{
 "cells": [
  {
   "cell_type": "code",
   "execution_count": 1,
   "id": "be6ed964-e6b7-470d-bf7d-04980fb4b88c",
   "metadata": {},
   "outputs": [
    {
     "name": "stdout",
     "output_type": "stream",
     "text": [
      "Hello world\n"
     ]
    }
   ],
   "source": [
    "print('Hello world')\n"
   ]
  },
  {
   "cell_type": "code",
   "execution_count": 5,
   "id": "2678b726-f9b6-4378-bc06-2de10b145f03",
   "metadata": {},
   "outputs": [
    {
     "data": {
      "text/plain": [
       "5.0"
      ]
     },
     "execution_count": 5,
     "metadata": {},
     "output_type": "execute_result"
    }
   ],
   "source": [
    "Employee_id = 5.00\n",
    "Employee_id"
   ]
  },
  {
   "cell_type": "code",
   "execution_count": 4,
   "id": "244fd56c-59c7-403e-a8e9-a1f764b2b883",
   "metadata": {},
   "outputs": [
    {
     "data": {
      "text/plain": [
       "'Albert'"
      ]
     },
     "execution_count": 4,
     "metadata": {},
     "output_type": "execute_result"
    }
   ],
   "source": [
    "Employee_name= \"Albert\"\n",
    "Employee_name"
   ]
  },
  {
   "cell_type": "code",
   "execution_count": 6,
   "id": "492026c4-ffa9-497a-8dec-e058e9671d7d",
   "metadata": {},
   "outputs": [
    {
     "data": {
      "text/plain": [
       "10000"
      ]
     },
     "execution_count": 6,
     "metadata": {},
     "output_type": "execute_result"
    }
   ],
   "source": [
    "Employee_salary =10000\n",
    "Employee_salary"
   ]
  },
  {
   "cell_type": "code",
   "execution_count": 13,
   "id": "9d2b6dd5-b2a3-4e26-a6a4-39fc28c2b7e2",
   "metadata": {},
   "outputs": [
    {
     "name": "stdin",
     "output_type": "stream",
     "text": [
      "PLEASE ENTER YOUR NAME; Anny\n"
     ]
    },
    {
     "name": "stdout",
     "output_type": "stream",
     "text": [
      "Anny\n"
     ]
    }
   ],
   "source": [
    "name = input(\"PLEASE ENTER YOUR NAME;\")\n",
    "print(name)"
   ]
  },
  {
   "cell_type": "code",
   "execution_count": 18,
   "id": "86a50b08-8e75-4430-bd87-7805a1e6374a",
   "metadata": {},
   "outputs": [
    {
     "name": "stdin",
     "output_type": "stream",
     "text": [
      "CUSTOMER, PLEASE ENTER YOUR saving:  250000\n"
     ]
    },
    {
     "name": "stdout",
     "output_type": "stream",
     "text": [
      "Employee your saving:  250000 is a good one\n"
     ]
    }
   ],
   "source": [
    "employee_saving = input(\"CUSTOMER, PLEASE ENTER YOUR saving: \")\n",
    "print(\"Employee your saving: \", employee_saving, \"is a good one\" )\n"
   ]
  },
  {
   "cell_type": "code",
   "execution_count": 21,
   "id": "8e04fcdb-a25f-4485-8615-749b93c8c101",
   "metadata": {},
   "outputs": [
    {
     "name": "stdin",
     "output_type": "stream",
     "text": [
      "PLEASE ENTER YOUR SALARY:  20000\n"
     ]
    },
    {
     "name": "stdout",
     "output_type": "stream",
     "text": [
      "Employee your salary:  20000 is a good salary\n"
     ]
    }
   ],
   "source": [
    "Emp_Salary = input(\"PLEASE ENTER YOUR SALARY: \")\n",
    "print(\"Employee your salary: \", Emp_Salary, \"is a good salary\" )"
   ]
  },
  {
   "cell_type": "code",
   "execution_count": 26,
   "id": "7fc6ffaa-662a-4e83-9b7a-1968322c228a",
   "metadata": {},
   "outputs": [
    {
     "name": "stdin",
     "output_type": "stream",
     "text": [
      "Enter first decimal number 200.00\n",
      "Enter second decimal number 20.00\n"
     ]
    },
    {
     "name": "stdout",
     "output_type": "stream",
     "text": [
      "The sum is:  220.0\n",
      "The product is:  4000.0\n",
      "The division is:  10.0\n"
     ]
    }
   ],
   "source": [
    "a= input(\"Enter first decimal number\")\n",
    "b= input(\"Enter second decimal number\")\n",
    "sum = float(a) + float (b)\n",
    "product = float(a) * float (b)\n",
    "division = float(a) / float (b)\n",
    "\n",
    "print (\"The sum is: \", sum)\n",
    "print (\"The product is: \", product)\n",
    "print (\"The division is: \", division)\n"
   ]
  },
  {
   "cell_type": "code",
   "execution_count": 6,
   "id": "452da19d-3cfc-400a-8a8c-fae83e402d87",
   "metadata": {},
   "outputs": [
    {
     "name": "stdin",
     "output_type": "stream",
     "text": [
      "enter first decimal number:  10.00\n",
      "enter second decimal number:  100.00\n"
     ]
    },
    {
     "name": "stdout",
     "output_type": "stream",
     "text": [
      "The product of two numbers entered is:  1000.0\n",
      "The Addition of two numbers entered is:  110.0\n",
      "The division of two numbers entered is:  0.1\n"
     ]
    }
   ],
   "source": [
    "num1 = input(\"enter first decimal number: \")\n",
    "num2 = input(\"enter second decimal number: \")\n",
    "Product = float(num1)*float(num2)\n",
    "Addition = float(num1)+float(num2)\n",
    "Division = float(num1)/float(num2)\n",
    "print(\"The product of two numbers entered is: \", Product)\n",
    "print(\"The Addition of two numbers entered is: \", Addition)\n",
    "print(\"The division of two numbers entered is: \", Division)"
   ]
  },
  {
   "cell_type": "code",
   "execution_count": null,
   "id": "186af20b-9a3d-4b7a-a7b0-1abe466dd84b",
   "metadata": {},
   "outputs": [],
   "source": []
  }
 ],
 "metadata": {
  "kernelspec": {
   "display_name": "Python 3",
   "language": "python",
   "name": "python3"
  },
  "language_info": {
   "codemirror_mode": {
    "name": "ipython",
    "version": 3
   },
   "file_extension": ".py",
   "mimetype": "text/x-python",
   "name": "python",
   "nbconvert_exporter": "python",
   "pygments_lexer": "ipython3",
   "version": "3.8.8"
  }
 },
 "nbformat": 4,
 "nbformat_minor": 5
}
