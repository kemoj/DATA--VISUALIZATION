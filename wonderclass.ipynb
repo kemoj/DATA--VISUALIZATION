{
 "cells": [
  {
   "cell_type": "code",
   "execution_count": 1,
   "id": "b2d63b52-bd50-4b88-8b2a-5ef7193444b6",
   "metadata": {},
   "outputs": [
    {
     "name": "stdout",
     "output_type": "stream",
     "text": [
      "ADE RONKE\n"
     ]
    }
   ],
   "source": [
    "firstname=\"ADE\"\n",
    "lastname=\"RONKE\"\n",
    "print(firstname,lastname)\n"
   ]
  },
  {
   "cell_type": "code",
   "execution_count": 2,
   "id": "4b634474-70c9-420b-8779-ce8f9b69156f",
   "metadata": {},
   "outputs": [
    {
     "name": "stdout",
     "output_type": "stream",
     "text": [
      "<class 'str'>\n"
     ]
    }
   ],
   "source": [
    "print(type(firstname))"
   ]
  },
  {
   "cell_type": "code",
   "execution_count": null,
   "id": "feb75bcc-7611-484a-b4e0-39b6be5c9c0b",
   "metadata": {},
   "outputs": [],
   "source": []
  },
  {
   "cell_type": "code",
   "execution_count": 6,
   "id": "4083f29d-4b60-4114-9772-7fa08dd7b27a",
   "metadata": {},
   "outputs": [
    {
     "data": {
      "text/plain": [
       "['LAGOS',\n",
       " 'ABUJA',\n",
       " 'ABIA',\n",
       " 'OSUN',\n",
       " 'IMO',\n",
       " 'ENUGU',\n",
       " 'DELTA',\n",
       " 'KWARA',\n",
       " 'KOGI',\n",
       " 'BENUE']"
      ]
     },
     "execution_count": 6,
     "metadata": {},
     "output_type": "execute_result"
    }
   ],
   "source": [
    "NIG = [\"LAGOS\", \"ABUJA\", \"ABIA\", \"OSUN\", \"IMO\", \"ENUGU\", \"DELTA\", \"KWARA\", \"KOGI\", \"BENUE\"]\n",
    "NIG\n",
    "\n"
   ]
  },
  {
   "cell_type": "code",
   "execution_count": 7,
   "id": "305ce78b-e155-4dd5-b290-4ed4643abbe7",
   "metadata": {},
   "outputs": [
    {
     "name": "stdout",
     "output_type": "stream",
     "text": [
      "['LAGOS', 'ABUJA', 'ABIA', 'OSUN', 'IMO', 'BAUCHI', 'DELTA', 'KWARA', 'KOGI', 'BENUE']\n"
     ]
    }
   ],
   "source": [
    "NIG[5]= \"BAUCHI\"\n",
    "print(NIG)"
   ]
  },
  {
   "cell_type": "code",
   "execution_count": 10,
   "id": "c4846517-6313-4982-ab83-6cfff8c96fae",
   "metadata": {},
   "outputs": [
    {
     "data": {
      "text/plain": [
       "'ABUJA'"
      ]
     },
     "execution_count": 10,
     "metadata": {},
     "output_type": "execute_result"
    }
   ],
   "source": [
    "NIG[1]\n"
   ]
  },
  {
   "cell_type": "code",
   "execution_count": 13,
   "id": "06ebb58f-94eb-422c-99b7-dba7a564f595",
   "metadata": {},
   "outputs": [
    {
     "data": {
      "text/plain": [
       "['LAGOS', 'ABUJA', 'ABIA']"
      ]
     },
     "execution_count": 13,
     "metadata": {},
     "output_type": "execute_result"
    }
   ],
   "source": [
    "NIG[:3]\n"
   ]
  },
  {
   "cell_type": "code",
   "execution_count": 14,
   "id": "d4b8d8e7-a23c-411e-b870-92fcdb878030",
   "metadata": {},
   "outputs": [
    {
     "data": {
      "text/plain": [
       "['LAGOS', 'ABUJA', 'ABIA', 'OSUN', 'IMO', 'BAUCHI', 'DELTA']"
      ]
     },
     "execution_count": 14,
     "metadata": {},
     "output_type": "execute_result"
    }
   ],
   "source": [
    "#REMOVING THE LAST THREE ITEMS IN A LIST\n",
    "NIG[:-3]"
   ]
  },
  {
   "cell_type": "code",
   "execution_count": 15,
   "id": "eeca1fc2-2898-42c4-a5dd-3e6ea7f1af26",
   "metadata": {},
   "outputs": [
    {
     "data": {
      "text/plain": [
       "['LAGOS',\n",
       " 'ABUJA',\n",
       " 'ABIA',\n",
       " 'OSUN',\n",
       " 'IMO',\n",
       " 'BAUCHI',\n",
       " 'DELTA',\n",
       " 'KWARA',\n",
       " 'KOGI',\n",
       " 'BENUE',\n",
       " 'RONKE']"
      ]
     },
     "execution_count": 15,
     "metadata": {},
     "output_type": "execute_result"
    }
   ],
   "source": [
    "#ADDING A PARTICULAR ITEM TO CHANGE IN A LIST\n",
    "NIG.append(\"RONKE\")\n",
    "NIG"
   ]
  },
  {
   "cell_type": "code",
   "execution_count": 16,
   "id": "195d6899-17ad-4fa5-99e5-a5464b851579",
   "metadata": {},
   "outputs": [
    {
     "name": "stdout",
     "output_type": "stream",
     "text": [
      "['LAGOS', 'ABUJA', 'ABIA', 'OSUN', 'IMO', 'BAUCHI', 'DELTA', 'KWARA', 'KOGI', 'BENUE', 'RONKE', 'R', 'O', 'N', 'K', 'E']\n"
     ]
    }
   ],
   "source": [
    "#EXTENDING A PARTICULAR ITEM AS A STRING IN A LIST\n",
    "NIG.extend(\"RONKE\")\n",
    "print(NIG)"
   ]
  },
  {
   "cell_type": "code",
   "execution_count": 17,
   "id": "f563f19a-6b53-49e8-9c7c-4e793cf153a3",
   "metadata": {},
   "outputs": [
    {
     "data": {
      "text/plain": [
       "['LAGOS',\n",
       " 'RONKE',\n",
       " 'ABUJA',\n",
       " 'ABIA',\n",
       " 'OSUN',\n",
       " 'IMO',\n",
       " 'BAUCHI',\n",
       " 'DELTA',\n",
       " 'KWARA',\n",
       " 'KOGI',\n",
       " 'BENUE',\n",
       " 'RONKE',\n",
       " 'R',\n",
       " 'O',\n",
       " 'N',\n",
       " 'K',\n",
       " 'E']"
      ]
     },
     "execution_count": 17,
     "metadata": {},
     "output_type": "execute_result"
    }
   ],
   "source": [
    "#INSERTING A PARTICULAR ITEM IN A GIVEN POSITION IN A LIST\n",
    "NIG.insert(1, \"RONKE\")\n",
    "NIG"
   ]
  },
  {
   "cell_type": "code",
   "execution_count": 18,
   "id": "07563116-5ba9-4c14-8664-8fd97e221b96",
   "metadata": {},
   "outputs": [
    {
     "data": {
      "text/plain": [
       "['LAGOS',\n",
       " 'RONKE',\n",
       " 'ABUJA',\n",
       " 'ABIA',\n",
       " 'OSUN',\n",
       " 'IMO',\n",
       " 'BAUCHI',\n",
       " 'DELTA',\n",
       " 'KWARA',\n",
       " 'KOGI',\n",
       " 'BENUE',\n",
       " 'RONKE',\n",
       " 'R',\n",
       " 'O',\n",
       " 'N',\n",
       " 'K']"
      ]
     },
     "execution_count": 18,
     "metadata": {},
     "output_type": "execute_result"
    }
   ],
   "source": [
    "#TO DELETE THE LAST ITEM IN A LIST\n",
    "NIG.pop()\n",
    "NIG"
   ]
  },
  {
   "cell_type": "code",
   "execution_count": 19,
   "id": "8a5582bb-dc2d-4634-b68f-c8130c97f639",
   "metadata": {},
   "outputs": [
    {
     "data": {
      "text/plain": [
       "['LAGOS',\n",
       " 'ABUJA',\n",
       " 'ABIA',\n",
       " 'OSUN',\n",
       " 'IMO',\n",
       " 'BAUCHI',\n",
       " 'DELTA',\n",
       " 'KWARA',\n",
       " 'KOGI',\n",
       " 'BENUE',\n",
       " 'RONKE',\n",
       " 'R',\n",
       " 'O',\n",
       " 'N',\n",
       " 'K']"
      ]
     },
     "execution_count": 19,
     "metadata": {},
     "output_type": "execute_result"
    }
   ],
   "source": [
    "#SPECIFYING A PARTICULAR ITEM TO REMOVE IN A LIST\n",
    "NIG.remove(\"RONKE\")\n",
    "NIG"
   ]
  },
  {
   "cell_type": "code",
   "execution_count": 20,
   "id": "b154ccac-7558-4860-9a1e-b5478fd84d48",
   "metadata": {},
   "outputs": [
    {
     "data": {
      "text/plain": [
       "['LAGOS',\n",
       " 'ABUJA',\n",
       " 'IJERO',\n",
       " 'OSUN',\n",
       " 'IMO',\n",
       " 'BAUCHI',\n",
       " 'DELTA',\n",
       " 'KWARA',\n",
       " 'KOGI',\n",
       " 'BENUE',\n",
       " 'RONKE',\n",
       " 'R',\n",
       " 'O',\n",
       " 'N',\n",
       " 'K']"
      ]
     },
     "execution_count": 20,
     "metadata": {},
     "output_type": "execute_result"
    }
   ],
   "source": [
    "#SPECIFYING A PARTICULAR ITEM TO CHANGE IN A LIST\n",
    "NIG[2]= \"IJERO\"\n",
    "NIG"
   ]
  },
  {
   "cell_type": "code",
   "execution_count": null,
   "id": "6da43686-302b-49b7-9e39-296d13977e8f",
   "metadata": {},
   "outputs": [],
   "source": []
  },
  {
   "cell_type": "code",
   "execution_count": null,
   "id": "fa95633e-dfc3-487f-9f30-a909d40cb514",
   "metadata": {},
   "outputs": [],
   "source": []
  },
  {
   "cell_type": "code",
   "execution_count": 1,
   "id": "fc50fcfb-20bc-4b4e-9294-7b248febc1ef",
   "metadata": {},
   "outputs": [
    {
     "name": "stdin",
     "output_type": "stream",
     "text": [
      "enter your grade 90\n"
     ]
    },
    {
     "name": "stdout",
     "output_type": "stream",
     "text": [
      "Excellent\n"
     ]
    }
   ],
   "source": [
    "#using relational operators\n",
    "a = int(input(\"enter your grade\"))\n",
    "if a<=50:\n",
    "    print(\"Average\")\n",
    "elif a<=70:\n",
    "     print(\"Very Good\")\n",
    "else:\n",
    "    print(\"Excellent\")\n",
    "    "
   ]
  },
  {
   "cell_type": "code",
   "execution_count": null,
   "id": "05c0fe0e-23cf-435a-898f-330d9417bc69",
   "metadata": {},
   "outputs": [],
   "source": []
  },
  {
   "cell_type": "code",
   "execution_count": 7,
   "id": "6689b766-2a9a-459d-9031-d54b69690475",
   "metadata": {},
   "outputs": [
    {
     "name": "stdout",
     "output_type": "stream",
     "text": [
      "No\n"
     ]
    }
   ],
   "source": [
    "#check item in a list\n",
    "myname = [\"olah\", \"Bisi\", \"Tolu\"]\n",
    "if \"ola\" in myname:\n",
    "    print(\"Yes\")\n",
    "else:\n",
    "    print(\"No\")"
   ]
  },
  {
   "cell_type": "code",
   "execution_count": 11,
   "id": "8694fbaa-6396-473f-af6e-ee4dd99e98f9",
   "metadata": {},
   "outputs": [
    {
     "name": "stdout",
     "output_type": "stream",
     "text": [
      "olah\n",
      "Bisi\n",
      "Tolu\n"
     ]
    }
   ],
   "source": [
    "#Print all items in a list\n",
    "for i in myname:\n",
    "    print(i)"
   ]
  },
  {
   "cell_type": "code",
   "execution_count": 15,
   "id": "ea768644-6c91-4545-a2f7-3ff3c4da4581",
   "metadata": {},
   "outputs": [
    {
     "name": "stdin",
     "output_type": "stream",
     "text": [
      "Enter name to check item Bisi\n"
     ]
    },
    {
     "name": "stdout",
     "output_type": "stream",
     "text": [
      "Bisi is Available\n"
     ]
    }
   ],
   "source": [
    "#Check item in a list from user input\n",
    "b = input(\"Enter name to check item\")\n",
    "if b in myname:\n",
    "    print (b, \"is Available\")\n",
    "else:\n",
    "    print (\"Not Availabe\")"
   ]
  },
  {
   "cell_type": "code",
   "execution_count": 17,
   "id": "c93618cb-c271-4ff8-96a0-e2a29e705ad2",
   "metadata": {},
   "outputs": [
    {
     "data": {
      "text/plain": [
       "3"
      ]
     },
     "execution_count": 17,
     "metadata": {},
     "output_type": "execute_result"
    }
   ],
   "source": [
    "#lenght of item in a list\n",
    "len(myname)"
   ]
  },
  {
   "cell_type": "code",
   "execution_count": 24,
   "id": "f65c24a6-90fc-4da8-9797-f63264607aaf",
   "metadata": {},
   "outputs": [
    {
     "name": "stdout",
     "output_type": "stream",
     "text": [
      "({'name': 'ADE', 'GRADE': 'BEST', 'AGE': '40'}, {'name': 'SADE', 'GRADE': 'GOOD', 'AGE': '30'}, {'name': 'BADE', 'GRADE': 'BETTER', 'AGE': '35'}, {'name': 'TADE', 'GRADE': 'BEST', 'AGE': '33'}, {'name': 'FADE', 'GRADE': 'AVERAGE', 'AGE': '36'})\n"
     ]
    }
   ],
   "source": [
    "#Dictionary\n",
    "#Key value pair\n",
    "student1 = {'name':'ADE', 'GRADE': 'BEST', 'AGE':'40'}\n",
    "student2 = {'name':'SADE', 'GRADE': 'GOOD', 'AGE':'30'}\n",
    "student3 = {'name':'BADE', 'GRADE': 'BETTER', 'AGE':'35'}\n",
    "student4 = {'name':'TADE', 'GRADE': 'BEST', 'AGE':'33'}\n",
    "student5 = {'name':'FADE', 'GRADE': 'AVERAGE', 'AGE':'36'}\n",
    "\n",
    "students = (student1,student2,student3,student4,student5)\n",
    "print(students)"
   ]
  },
  {
   "cell_type": "code",
   "execution_count": 27,
   "id": "53dc7b78-5a7d-42ce-bf45-4d2a755241f6",
   "metadata": {},
   "outputs": [],
   "source": [
    "import pandas as pd\n"
   ]
  },
  {
   "cell_type": "code",
   "execution_count": 28,
   "id": "c78a26c5-712b-43a0-aefb-ad449116937a",
   "metadata": {},
   "outputs": [
    {
     "data": {
      "text/html": [
       "<div>\n",
       "<style scoped>\n",
       "    .dataframe tbody tr th:only-of-type {\n",
       "        vertical-align: middle;\n",
       "    }\n",
       "\n",
       "    .dataframe tbody tr th {\n",
       "        vertical-align: top;\n",
       "    }\n",
       "\n",
       "    .dataframe thead th {\n",
       "        text-align: right;\n",
       "    }\n",
       "</style>\n",
       "<table border=\"1\" class=\"dataframe\">\n",
       "  <thead>\n",
       "    <tr style=\"text-align: right;\">\n",
       "      <th></th>\n",
       "      <th>name</th>\n",
       "      <th>GRADE</th>\n",
       "      <th>AGE</th>\n",
       "    </tr>\n",
       "  </thead>\n",
       "  <tbody>\n",
       "    <tr>\n",
       "      <th>0</th>\n",
       "      <td>ADE</td>\n",
       "      <td>BEST</td>\n",
       "      <td>40</td>\n",
       "    </tr>\n",
       "    <tr>\n",
       "      <th>1</th>\n",
       "      <td>SADE</td>\n",
       "      <td>GOOD</td>\n",
       "      <td>30</td>\n",
       "    </tr>\n",
       "    <tr>\n",
       "      <th>2</th>\n",
       "      <td>BADE</td>\n",
       "      <td>BETTER</td>\n",
       "      <td>35</td>\n",
       "    </tr>\n",
       "    <tr>\n",
       "      <th>3</th>\n",
       "      <td>TADE</td>\n",
       "      <td>BEST</td>\n",
       "      <td>33</td>\n",
       "    </tr>\n",
       "    <tr>\n",
       "      <th>4</th>\n",
       "      <td>FADE</td>\n",
       "      <td>AVERAGE</td>\n",
       "      <td>36</td>\n",
       "    </tr>\n",
       "  </tbody>\n",
       "</table>\n",
       "</div>"
      ],
      "text/plain": [
       "   name    GRADE AGE\n",
       "0   ADE     BEST  40\n",
       "1  SADE     GOOD  30\n",
       "2  BADE   BETTER  35\n",
       "3  TADE     BEST  33\n",
       "4  FADE  AVERAGE  36"
      ]
     },
     "execution_count": 28,
     "metadata": {},
     "output_type": "execute_result"
    }
   ],
   "source": [
    "df = pd.DataFrame(students)\n",
    "df"
   ]
  },
  {
   "cell_type": "code",
   "execution_count": 2,
   "id": "f7f49b68-8e7d-44e9-ac66-7c346cb5e028",
   "metadata": {},
   "outputs": [
    {
     "name": "stdout",
     "output_type": "stream",
     "text": [
      "{'Rainbow1': {'color: Red'}, 'Rainbow2': {'color: Orange'}, 'Rainbow3': {'color: Green'}, 'Rainbow4': {'color: Blue'}, 'Rainbow5': {'color: Indigo'}, 'Rainbow6': {'color: Yellow'}, 'Rainbow7': {'color: Voilet'}}\n"
     ]
    }
   ],
   "source": [
    "Rainbow1 = {'color: Red'}\n",
    "Rainbow2 = {'color: Orange'}\n",
    "Rainbow3 = {'color: Green'}\n",
    "Rainbow4 = {'color: Blue'}\n",
    "Rainbow5 = {'color: Indigo'}\n",
    "Rainbow6 = {'color: Yellow'}\n",
    "Rainbow7 = {'color: Voilet'}\n",
    "Rainbow = {'Rainbow1': Rainbow1, 'Rainbow2': Rainbow2, 'Rainbow3': Rainbow3, 'Rainbow4': Rainbow4, 'Rainbow5': Rainbow5, 'Rainbow6': Rainbow6, 'Rainbow7': Rainbow7}\n",
    "print(Rainbow)\n"
   ]
  },
  {
   "cell_type": "code",
   "execution_count": 3,
   "id": "dcbb3e69-1811-4c5f-a123-641434a785c1",
   "metadata": {},
   "outputs": [
    {
     "ename": "TypeError",
     "evalue": "Set type is unordered",
     "output_type": "error",
     "traceback": [
      "\u001b[1;31m---------------------------------------------------------------------------\u001b[0m",
      "\u001b[1;31mTypeError\u001b[0m                                 Traceback (most recent call last)",
      "\u001b[1;32m<ipython-input-3-a11d7f3208ea>\u001b[0m in \u001b[0;36m<module>\u001b[1;34m\u001b[0m\n\u001b[0;32m      1\u001b[0m \u001b[1;32mimport\u001b[0m \u001b[0mpandas\u001b[0m \u001b[1;32mas\u001b[0m \u001b[0mpd\u001b[0m\u001b[1;33m\u001b[0m\u001b[1;33m\u001b[0m\u001b[0m\n\u001b[1;32m----> 2\u001b[1;33m \u001b[0mdf\u001b[0m\u001b[1;33m=\u001b[0m\u001b[0mpd\u001b[0m\u001b[1;33m.\u001b[0m\u001b[0mDataFrame\u001b[0m\u001b[1;33m(\u001b[0m\u001b[0mRainbow\u001b[0m\u001b[1;33m)\u001b[0m\u001b[1;33m\u001b[0m\u001b[1;33m\u001b[0m\u001b[0m\n\u001b[0m\u001b[0;32m      3\u001b[0m \u001b[0mdf\u001b[0m\u001b[1;33m\u001b[0m\u001b[1;33m\u001b[0m\u001b[0m\n",
      "\u001b[1;32m~\\anaconda3\\lib\\site-packages\\pandas\\core\\frame.py\u001b[0m in \u001b[0;36m__init__\u001b[1;34m(self, data, index, columns, dtype, copy)\u001b[0m\n\u001b[0;32m    527\u001b[0m \u001b[1;33m\u001b[0m\u001b[0m\n\u001b[0;32m    528\u001b[0m         \u001b[1;32melif\u001b[0m \u001b[0misinstance\u001b[0m\u001b[1;33m(\u001b[0m\u001b[0mdata\u001b[0m\u001b[1;33m,\u001b[0m \u001b[0mdict\u001b[0m\u001b[1;33m)\u001b[0m\u001b[1;33m:\u001b[0m\u001b[1;33m\u001b[0m\u001b[1;33m\u001b[0m\u001b[0m\n\u001b[1;32m--> 529\u001b[1;33m             \u001b[0mmgr\u001b[0m \u001b[1;33m=\u001b[0m \u001b[0minit_dict\u001b[0m\u001b[1;33m(\u001b[0m\u001b[0mdata\u001b[0m\u001b[1;33m,\u001b[0m \u001b[0mindex\u001b[0m\u001b[1;33m,\u001b[0m \u001b[0mcolumns\u001b[0m\u001b[1;33m,\u001b[0m \u001b[0mdtype\u001b[0m\u001b[1;33m=\u001b[0m\u001b[0mdtype\u001b[0m\u001b[1;33m)\u001b[0m\u001b[1;33m\u001b[0m\u001b[1;33m\u001b[0m\u001b[0m\n\u001b[0m\u001b[0;32m    530\u001b[0m         \u001b[1;32melif\u001b[0m \u001b[0misinstance\u001b[0m\u001b[1;33m(\u001b[0m\u001b[0mdata\u001b[0m\u001b[1;33m,\u001b[0m \u001b[0mma\u001b[0m\u001b[1;33m.\u001b[0m\u001b[0mMaskedArray\u001b[0m\u001b[1;33m)\u001b[0m\u001b[1;33m:\u001b[0m\u001b[1;33m\u001b[0m\u001b[1;33m\u001b[0m\u001b[0m\n\u001b[0;32m    531\u001b[0m             \u001b[1;32mimport\u001b[0m \u001b[0mnumpy\u001b[0m\u001b[1;33m.\u001b[0m\u001b[0mma\u001b[0m\u001b[1;33m.\u001b[0m\u001b[0mmrecords\u001b[0m \u001b[1;32mas\u001b[0m \u001b[0mmrecords\u001b[0m\u001b[1;33m\u001b[0m\u001b[1;33m\u001b[0m\u001b[0m\n",
      "\u001b[1;32m~\\anaconda3\\lib\\site-packages\\pandas\\core\\internals\\construction.py\u001b[0m in \u001b[0;36minit_dict\u001b[1;34m(data, index, columns, dtype)\u001b[0m\n\u001b[0;32m    285\u001b[0m             \u001b[0marr\u001b[0m \u001b[1;32mif\u001b[0m \u001b[1;32mnot\u001b[0m \u001b[0mis_datetime64tz_dtype\u001b[0m\u001b[1;33m(\u001b[0m\u001b[0marr\u001b[0m\u001b[1;33m)\u001b[0m \u001b[1;32melse\u001b[0m \u001b[0marr\u001b[0m\u001b[1;33m.\u001b[0m\u001b[0mcopy\u001b[0m\u001b[1;33m(\u001b[0m\u001b[1;33m)\u001b[0m \u001b[1;32mfor\u001b[0m \u001b[0marr\u001b[0m \u001b[1;32min\u001b[0m \u001b[0marrays\u001b[0m\u001b[1;33m\u001b[0m\u001b[1;33m\u001b[0m\u001b[0m\n\u001b[0;32m    286\u001b[0m         ]\n\u001b[1;32m--> 287\u001b[1;33m     \u001b[1;32mreturn\u001b[0m \u001b[0marrays_to_mgr\u001b[0m\u001b[1;33m(\u001b[0m\u001b[0marrays\u001b[0m\u001b[1;33m,\u001b[0m \u001b[0mdata_names\u001b[0m\u001b[1;33m,\u001b[0m \u001b[0mindex\u001b[0m\u001b[1;33m,\u001b[0m \u001b[0mcolumns\u001b[0m\u001b[1;33m,\u001b[0m \u001b[0mdtype\u001b[0m\u001b[1;33m=\u001b[0m\u001b[0mdtype\u001b[0m\u001b[1;33m)\u001b[0m\u001b[1;33m\u001b[0m\u001b[1;33m\u001b[0m\u001b[0m\n\u001b[0m\u001b[0;32m    288\u001b[0m \u001b[1;33m\u001b[0m\u001b[0m\n\u001b[0;32m    289\u001b[0m \u001b[1;33m\u001b[0m\u001b[0m\n",
      "\u001b[1;32m~\\anaconda3\\lib\\site-packages\\pandas\\core\\internals\\construction.py\u001b[0m in \u001b[0;36marrays_to_mgr\u001b[1;34m(arrays, arr_names, index, columns, dtype, verify_integrity)\u001b[0m\n\u001b[0;32m     83\u001b[0m \u001b[1;33m\u001b[0m\u001b[0m\n\u001b[0;32m     84\u001b[0m         \u001b[1;31m# don't force copy because getting jammed in an ndarray anyway\u001b[0m\u001b[1;33m\u001b[0m\u001b[1;33m\u001b[0m\u001b[1;33m\u001b[0m\u001b[0m\n\u001b[1;32m---> 85\u001b[1;33m         \u001b[0marrays\u001b[0m \u001b[1;33m=\u001b[0m \u001b[0m_homogenize\u001b[0m\u001b[1;33m(\u001b[0m\u001b[0marrays\u001b[0m\u001b[1;33m,\u001b[0m \u001b[0mindex\u001b[0m\u001b[1;33m,\u001b[0m \u001b[0mdtype\u001b[0m\u001b[1;33m)\u001b[0m\u001b[1;33m\u001b[0m\u001b[1;33m\u001b[0m\u001b[0m\n\u001b[0m\u001b[0;32m     86\u001b[0m \u001b[1;33m\u001b[0m\u001b[0m\n\u001b[0;32m     87\u001b[0m         \u001b[0mcolumns\u001b[0m \u001b[1;33m=\u001b[0m \u001b[0mensure_index\u001b[0m\u001b[1;33m(\u001b[0m\u001b[0mcolumns\u001b[0m\u001b[1;33m)\u001b[0m\u001b[1;33m\u001b[0m\u001b[1;33m\u001b[0m\u001b[0m\n",
      "\u001b[1;32m~\\anaconda3\\lib\\site-packages\\pandas\\core\\internals\\construction.py\u001b[0m in \u001b[0;36m_homogenize\u001b[1;34m(data, index, dtype)\u001b[0m\n\u001b[0;32m    353\u001b[0m                     \u001b[0mval\u001b[0m \u001b[1;33m=\u001b[0m \u001b[0mdict\u001b[0m\u001b[1;33m(\u001b[0m\u001b[0mval\u001b[0m\u001b[1;33m)\u001b[0m\u001b[1;33m\u001b[0m\u001b[1;33m\u001b[0m\u001b[0m\n\u001b[0;32m    354\u001b[0m                 \u001b[0mval\u001b[0m \u001b[1;33m=\u001b[0m \u001b[0mlib\u001b[0m\u001b[1;33m.\u001b[0m\u001b[0mfast_multiget\u001b[0m\u001b[1;33m(\u001b[0m\u001b[0mval\u001b[0m\u001b[1;33m,\u001b[0m \u001b[0moindex\u001b[0m\u001b[1;33m.\u001b[0m\u001b[0m_values\u001b[0m\u001b[1;33m,\u001b[0m \u001b[0mdefault\u001b[0m\u001b[1;33m=\u001b[0m\u001b[0mnp\u001b[0m\u001b[1;33m.\u001b[0m\u001b[0mnan\u001b[0m\u001b[1;33m)\u001b[0m\u001b[1;33m\u001b[0m\u001b[1;33m\u001b[0m\u001b[0m\n\u001b[1;32m--> 355\u001b[1;33m             val = sanitize_array(\n\u001b[0m\u001b[0;32m    356\u001b[0m                 \u001b[0mval\u001b[0m\u001b[1;33m,\u001b[0m \u001b[0mindex\u001b[0m\u001b[1;33m,\u001b[0m \u001b[0mdtype\u001b[0m\u001b[1;33m=\u001b[0m\u001b[0mdtype\u001b[0m\u001b[1;33m,\u001b[0m \u001b[0mcopy\u001b[0m\u001b[1;33m=\u001b[0m\u001b[1;32mFalse\u001b[0m\u001b[1;33m,\u001b[0m \u001b[0mraise_cast_failure\u001b[0m\u001b[1;33m=\u001b[0m\u001b[1;32mFalse\u001b[0m\u001b[1;33m\u001b[0m\u001b[1;33m\u001b[0m\u001b[0m\n\u001b[0;32m    357\u001b[0m             )\n",
      "\u001b[1;32m~\\anaconda3\\lib\\site-packages\\pandas\\core\\construction.py\u001b[0m in \u001b[0;36msanitize_array\u001b[1;34m(data, index, dtype, copy, raise_cast_failure)\u001b[0m\n\u001b[0;32m    474\u001b[0m         \u001b[1;32mif\u001b[0m \u001b[0misinstance\u001b[0m\u001b[1;33m(\u001b[0m\u001b[0mdata\u001b[0m\u001b[1;33m,\u001b[0m \u001b[0mset\u001b[0m\u001b[1;33m)\u001b[0m\u001b[1;33m:\u001b[0m\u001b[1;33m\u001b[0m\u001b[1;33m\u001b[0m\u001b[0m\n\u001b[0;32m    475\u001b[0m             \u001b[1;31m# Raise only for unordered sets, e.g., not for dict_keys\u001b[0m\u001b[1;33m\u001b[0m\u001b[1;33m\u001b[0m\u001b[1;33m\u001b[0m\u001b[0m\n\u001b[1;32m--> 476\u001b[1;33m             \u001b[1;32mraise\u001b[0m \u001b[0mTypeError\u001b[0m\u001b[1;33m(\u001b[0m\u001b[1;34m\"Set type is unordered\"\u001b[0m\u001b[1;33m)\u001b[0m\u001b[1;33m\u001b[0m\u001b[1;33m\u001b[0m\u001b[0m\n\u001b[0m\u001b[0;32m    477\u001b[0m         \u001b[0mdata\u001b[0m \u001b[1;33m=\u001b[0m \u001b[0mlist\u001b[0m\u001b[1;33m(\u001b[0m\u001b[0mdata\u001b[0m\u001b[1;33m)\u001b[0m\u001b[1;33m\u001b[0m\u001b[1;33m\u001b[0m\u001b[0m\n\u001b[0;32m    478\u001b[0m \u001b[1;33m\u001b[0m\u001b[0m\n",
      "\u001b[1;31mTypeError\u001b[0m: Set type is unordered"
     ]
    }
   ],
   "source": [
    "import pandas as pd\n",
    "df=pd.DataFrame(Rainbow)\n",
    "df"
   ]
  },
  {
   "cell_type": "code",
   "execution_count": 4,
   "id": "10ab0531-1f02-4eff-a322-db3b837966b7",
   "metadata": {},
   "outputs": [
    {
     "name": "stdin",
     "output_type": "stream",
     "text": [
      "Grade 80\n"
     ]
    },
    {
     "name": "stdout",
     "output_type": "stream",
     "text": [
      "Excellent\n"
     ]
    }
   ],
   "source": [
    "A = int (input('Grade'))\n",
    "if A<=39: print ('Fail')\n",
    "elif A<=51: print ('Good')\n",
    "elif A<=71: print ('Very Good')\n",
    "else: print ('Excellent')\n"
   ]
  },
  {
   "cell_type": "code",
   "execution_count": 13,
   "id": "e416d411-9925-4e4a-97ba-8f0660386af4",
   "metadata": {},
   "outputs": [
    {
     "name": "stdout",
     "output_type": "stream",
     "text": [
      "100\n",
      "25.0\n"
     ]
    }
   ],
   "source": [
    "#Average of four numbers\n",
    "a = 10\n",
    "b = 20\n",
    "c = 30\n",
    "d = 40\n",
    "Total = (a+b+c+d)\n",
    "print(Total)\n",
    "AVG = Total/4\n",
    "print(AVG)"
   ]
  },
  {
   "cell_type": "code",
   "execution_count": 14,
   "id": "f4f56b44-3459-46a1-b429-e802939e898d",
   "metadata": {},
   "outputs": [
    {
     "name": "stdin",
     "output_type": "stream",
     "text": [
      "100 100\n"
     ]
    },
    {
     "name": "stdout",
     "output_type": "stream",
     "text": [
      "This is an even number\n"
     ]
    }
   ],
   "source": [
    "num = int(input(\"100\"))\n",
    "mod = num % 2\n",
    "if mod>0: print(\"This is an odd number\")\n",
    "else: print(\"This is an even number\")"
   ]
  },
  {
   "cell_type": "code",
   "execution_count": 16,
   "id": "249e774d-1691-4087-bab2-15bab4af8e82",
   "metadata": {},
   "outputs": [
    {
     "name": "stdout",
     "output_type": "stream",
     "text": [
      "(6.639192523364281e-16+10.84262422110072j)\n"
     ]
    }
   ],
   "source": [
    "# triangle\n",
    "a = 5\n",
    "b = 10\n",
    "c = 4\n",
    "#s = semiperimeter\n",
    "s = (a+b+c)/2\n",
    "Area = (s*(s-a)*(s-b)*(s-c)) ** 0.5\n",
    "print(Area)"
   ]
  },
  {
   "cell_type": "code",
   "execution_count": 4,
   "id": "b8be56a7-314f-4aa4-975b-26b1f4bae2e2",
   "metadata": {},
   "outputs": [
    {
     "name": "stdout",
     "output_type": "stream",
     "text": [
      "20.0\n"
     ]
    }
   ],
   "source": [
    "#Area of a triangle\n",
    "B = 10\n",
    "H = 4\n",
    "Area = (B*H) * 0.5\n",
    "print(Area)"
   ]
  },
  {
   "cell_type": "code",
   "execution_count": 5,
   "id": "4892a5ba-9b28-4b7c-9544-348bdd0618de",
   "metadata": {},
   "outputs": [
    {
     "name": "stdout",
     "output_type": "stream",
     "text": [
      "1000\n"
     ]
    }
   ],
   "source": [
    "#simple interest\n",
    "#P = Principal\n",
    "#R = Rate\n",
    "#T = Time\n",
    "\n",
    "P = 10\n",
    "R = 20\n",
    "T = 5\n",
    "simpleinterest = P*R*T\n",
    "print(simpleinterest)"
   ]
  },
  {
   "cell_type": "code",
   "execution_count": 41,
   "id": "db5e9d5e-90ec-4ff7-9b81-cc1c26f2c52f",
   "metadata": {},
   "outputs": [
    {
     "name": "stdout",
     "output_type": "stream",
     "text": [
      "1 3 5 7 9 11 13 15 17 19 21 23 25 27 29 31 33 35 37 39 41 43 45 47 49 51 53 55 57 59 61 63 65 67 69 71 73 75 77 79 81 83 85 87 89 91 93 95 97 99 "
     ]
    }
   ],
   "source": [
    "#odd nos from 1 to 100\n",
    "a = 0 ; b =100\n",
    "for i in range (a,b+1):\n",
    "    if i%2==0 :\n",
    "        pass\n",
    "    else:\n",
    "        print(i, end =\" \")"
   ]
  },
  {
   "cell_type": "code",
   "execution_count": null,
   "id": "fe9b0b0f-7d93-4127-9a9f-192c1cd79a31",
   "metadata": {},
   "outputs": [],
   "source": []
  },
  {
   "cell_type": "code",
   "execution_count": null,
   "id": "8065c2ad-78e6-45e2-9cb3-ce8dfa984876",
   "metadata": {},
   "outputs": [],
   "source": [
    "#A function is a block of code which only runs when it's called, you can pass data i.e parameters into a function\n",
    "# A function can return data as result.\n"
   ]
  },
  {
   "cell_type": "code",
   "execution_count": 22,
   "id": "1c3d3e0e-be42-4938-832e-50778ddf0cd7",
   "metadata": {},
   "outputs": [
    {
     "name": "stdout",
     "output_type": "stream",
     "text": [
      "CLOUD COMPUTING\n"
     ]
    }
   ],
   "source": [
    "def dataAnalyst():\n",
    "    print(\"CLOUD COMPUTING\")\n",
    "dataAnalyst()"
   ]
  },
  {
   "cell_type": "code",
   "execution_count": 21,
   "id": "3442b970-7dde-4ad2-b450-6ef1986229ed",
   "metadata": {},
   "outputs": [
    {
     "name": "stdout",
     "output_type": "stream",
     "text": [
      "Wonder OJO\n",
      "Olar OJO\n"
     ]
    }
   ],
   "source": [
    "#informmation can be passed into functions as argument, usually inside parentheses\n",
    "#By default, A function must be called with same number of expected arguments\n",
    "def my_function(fname):\n",
    "    print(fname + \" OJO\")\n",
    "my_function(\"Wonder\")\n",
    "my_function(\"Olar\")\n",
    "    "
   ]
  },
  {
   "cell_type": "code",
   "execution_count": 23,
   "id": "5418e6ba-89cb-427c-94c7-f09c3a6d860a",
   "metadata": {},
   "outputs": [
    {
     "name": "stdout",
     "output_type": "stream",
     "text": [
      "34 countries in Indian\n"
     ]
    }
   ],
   "source": [
    "def INDIAN(country):\n",
    "    print(country, \"countries in Indian\")\n",
    "INDIAN(34)\n",
    " "
   ]
  },
  {
   "cell_type": "code",
   "execution_count": 36,
   "id": "9ca5eb5a-b33e-43f2-abc3-1515c3bc76d8",
   "metadata": {},
   "outputs": [
    {
     "name": "stdout",
     "output_type": "stream",
     "text": [
      "Ola\n"
     ]
    }
   ],
   "source": [
    "def name(fname):\n",
    "    return fname\n",
    "print(\"Ola\")\n"
   ]
  },
  {
   "cell_type": "code",
   "execution_count": 52,
   "id": "1c3f5cf0-3c44-4de3-821a-bd7fd54cd8ac",
   "metadata": {},
   "outputs": [],
   "source": [
    "def name():\n",
    "    a = 3\n",
    "    b = 5\n",
    "    c = a + b\n",
    "    print(c)\n",
    "    retu name()"
   ]
  },
  {
   "cell_type": "code",
   "execution_count": null,
   "id": "e8ae8c1a-0cea-48d6-9f2f-ee310be1ed2e",
   "metadata": {},
   "outputs": [],
   "source": []
  },
  {
   "cell_type": "code",
   "execution_count": null,
   "id": "46317ba0-f742-4751-8029-261303c6daab",
   "metadata": {},
   "outputs": [],
   "source": []
  }
 ],
 "metadata": {
  "kernelspec": {
   "display_name": "Python 3",
   "language": "python",
   "name": "python3"
  },
  "language_info": {
   "codemirror_mode": {
    "name": "ipython",
    "version": 3
   },
   "file_extension": ".py",
   "mimetype": "text/x-python",
   "name": "python",
   "nbconvert_exporter": "python",
   "pygments_lexer": "ipython3",
   "version": "3.8.8"
  }
 },
 "nbformat": 4,
 "nbformat_minor": 5
}
