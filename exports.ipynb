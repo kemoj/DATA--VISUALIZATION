{
 "cells": [
  {
   "cell_type": "code",
   "execution_count": null,
   "id": "35a25cc7-2ff6-4180-a710-801a912d4d9c",
   "metadata": {},
   "outputs": [],
   "source": [
    "#exporting a new dataset\n",
    "home.to_csv(\"home1.csv\")\n",
    "home.to_html(\"/home2.html\")\n",
    "home.to_json(\"/home3.json\")\n",
    "home.to_excel(\" /home4.xls\", index=False)\n"
   ]
  }
 ],
 "metadata": {
  "kernelspec": {
   "display_name": "Python 3",
   "language": "python",
   "name": "python3"
  },
  "language_info": {
   "codemirror_mode": {
    "name": "ipython",
    "version": 3
   },
   "file_extension": ".py",
   "mimetype": "text/x-python",
   "name": "python",
   "nbconvert_exporter": "python",
   "pygments_lexer": "ipython3",
   "version": "3.8.8"
  }
 },
 "nbformat": 4,
 "nbformat_minor": 5
}
